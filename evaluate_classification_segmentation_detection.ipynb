{
 "cells": [
  {
   "cell_type": "code",
   "execution_count": 1,
   "metadata": {},
   "outputs": [
    {
     "name": "stderr",
     "output_type": "stream",
     "text": [
      "Using TensorFlow backend.\n"
     ]
    },
    {
     "name": "stdout",
     "output_type": "stream",
     "text": [
      "\n",
      "Configurations:\n",
      "BACKBONE                       resnet50\n",
      "BACKBONE_STRIDES               [4, 8, 16, 32, 64]\n",
      "BATCH_SIZE                     8\n",
      "BBOX_STD_DEV                   [0.1 0.1 0.2 0.2]\n",
      "COMPUTE_BACKBONE_SHAPE         None\n",
      "DETECTION_MAX_INSTANCES        3\n",
      "DETECTION_MIN_CONFIDENCE       0.7\n",
      "DETECTION_NMS_THRESHOLD        0.1\n",
      "FPN_CLASSIF_FC_LAYERS_SIZE     1024\n",
      "GPU_COUNT                      1\n",
      "GRADIENT_CLIP_NORM             5.0\n",
      "IMAGES_PER_GPU                 8\n",
      "IMAGE_CHANNEL_COUNT            3\n",
      "IMAGE_MAX_DIM                  256\n",
      "IMAGE_META_SIZE                14\n",
      "IMAGE_MIN_DIM                  256\n",
      "IMAGE_MIN_SCALE                0\n",
      "IMAGE_RESIZE_MODE              square\n",
      "IMAGE_SHAPE                    [256 256   3]\n",
      "LEARNING_MOMENTUM              0.9\n",
      "LEARNING_RATE                  0.001\n",
      "LOSS_WEIGHTS                   {'mrcnn_mask_loss': 1.0, 'mrcnn_class_loss': 1.0, 'rpn_class_loss': 1.0, 'rpn_bbox_loss': 1.0, 'mrcnn_bbox_loss': 1.0}\n",
      "MASK_POOL_SIZE                 14\n",
      "MASK_SHAPE                     [28, 28]\n",
      "MAX_GT_INSTANCES               3\n",
      "MEAN_PIXEL                     [123.7 116.8 103.9]\n",
      "MINI_MASK_SHAPE                (56, 56)\n",
      "NAME                           pneumonia\n",
      "NUM_CLASSES                    2\n",
      "POOL_SIZE                      7\n",
      "POST_NMS_ROIS_INFERENCE        1000\n",
      "POST_NMS_ROIS_TRAINING         2000\n",
      "PRE_NMS_LIMIT                  6000\n",
      "ROI_POSITIVE_RATIO             0.33\n",
      "RPN_ANCHOR_RATIOS              [0.5, 1, 2]\n",
      "RPN_ANCHOR_SCALES              (16, 32, 64, 128)\n",
      "RPN_ANCHOR_STRIDE              1\n",
      "RPN_BBOX_STD_DEV               [0.1 0.1 0.2 0.2]\n",
      "RPN_NMS_THRESHOLD              0.7\n",
      "RPN_TRAIN_ANCHORS_PER_IMAGE    256\n",
      "STEPS_PER_EPOCH                200\n",
      "TOP_DOWN_PYRAMID_SIZE          256\n",
      "TRAIN_BN                       False\n",
      "TRAIN_ROIS_PER_IMAGE           32\n",
      "USE_MINI_MASK                  True\n",
      "USE_RPN_ROIS                   True\n",
      "VALIDATION_STEPS               50\n",
      "WEIGHT_DECAY                   0.0001\n",
      "\n",
      "\n",
      "25184 1500\n",
      "(1024, 1024, 3)\n",
      "/data/krf/dataset/stage_2_train_images/e48e74bf-9508-4bee-932e-dad4ab803360.dcm\n",
      "[1]\n"
     ]
    }
   ],
   "source": [
    "\n",
    "import os \n",
    "import sys\n",
    "import random\n",
    "import math\n",
    "import numpy as np\n",
    "import cv2\n",
    "import matplotlib.pyplot as plt\n",
    "import json\n",
    "import pydicom\n",
    "from imgaug import augmenters as iaa\n",
    "from tqdm import tqdm\n",
    "import pandas as pd \n",
    "import glob\n",
    "#from sklearn.model_selection import KFold\n",
    "import tensorflow as tf\n",
    "from keras.backend.tensorflow_backend import set_session\n",
    "os.environ['CUDA_VISIBLE_DEVICES']=\"1\"\n",
    "config = tf.ConfigProto()\n",
    "config.gpu_options.allow_growth = True\n",
    "config.gpu_options.per_process_gpu_memory_fraction = 0.4\n",
    "set_session(tf.Session(config=config))\n",
    "\n",
    "\n",
    "\n",
    "#DATA_DIR = '/kaggle/input'\n",
    "DATA_DIR = '/data/krf/dataset'\n",
    "# Directory to save logs and trained model\n",
    "#ROOT_DIR = '/kaggle/working'\n",
    "ROOT_DIR = '/data/krf/model/rsna'\n",
    "\n",
    "# Import Mask RCNN\n",
    "sys.path.append(os.path.join(ROOT_DIR, 'Mask_RCNN'))  # To find local version of the library\n",
    "from mrcnn.config import Config\n",
    "from mrcnn import utils\n",
    "import mrcnn.model as modellib\n",
    "from mrcnn import visualize\n",
    "from mrcnn.model import log\n",
    "\n",
    "train_dicom_dir = os.path.join(DATA_DIR, 'stage_2_train_images')\n",
    "test_dicom_dir = os.path.join(DATA_DIR, 'stage_2_test_images')\n",
    "\n",
    "COCO_WEIGHTS_PATH = \"mask_rcnn_coco.h5\"\n",
    "\n",
    "def get_dicom_fps(dicom_dir):\n",
    "    dicom_fps = glob.glob(dicom_dir+'/'+'*.dcm')\n",
    "    return list(set(dicom_fps))\n",
    "\n",
    "def parse_dataset(dicom_dir, anns): \n",
    "    image_fps = get_dicom_fps(dicom_dir)\n",
    "    image_annotations = {fp: [] for fp in image_fps}\n",
    "    for index, row in anns.iterrows(): \n",
    "        fp = os.path.join(dicom_dir, row['patientId']+'.dcm')\n",
    "        image_annotations[fp].append(row)\n",
    "    return image_fps, image_annotations \n",
    "\n",
    "\n",
    "\n",
    "# The following parameters have been selected to reduce running time for demonstration purposes \n",
    "# These are not optimal \n",
    "\n",
    "class DetectorConfig(Config):\n",
    "    \"\"\"Configuration for training pneumonia detection on the RSNA pneumonia dataset.\n",
    "    Overrides values in the base Config class.\n",
    "    \"\"\"\n",
    "    \n",
    "    # Give the configuration a recognizable name  \n",
    "    NAME = 'pneumonia'\n",
    "    \n",
    "    # Train on 1 GPU and 8 images per GPU. We can put multiple images on each\n",
    "    # GPU because the images are small. Batch size is 8 (GPUs * images/GPU).\n",
    "    GPU_COUNT = 1\n",
    "    IMAGES_PER_GPU = 8\n",
    "    \n",
    "    BACKBONE = 'resnet50'\n",
    "    \n",
    "    NUM_CLASSES = 2  # background + 1 pneumonia classes\n",
    "    \n",
    "    IMAGE_MIN_DIM = 256\n",
    "    IMAGE_MAX_DIM = 256\n",
    "    RPN_ANCHOR_SCALES = (16, 32, 64, 128)\n",
    "    TRAIN_ROIS_PER_IMAGE = 32\n",
    "    MAX_GT_INSTANCES = 3\n",
    "    DETECTION_MAX_INSTANCES = 3\n",
    "    DETECTION_MIN_CONFIDENCE = 0.7  ## match target distribution\n",
    "    DETECTION_NMS_THRESHOLD = 0.1\n",
    "\n",
    "    STEPS_PER_EPOCH = 200\n",
    "\n",
    "config = DetectorConfig()\n",
    "config.display()\n",
    "\n",
    "class DetectorDataset(utils.Dataset):\n",
    "    \"\"\"Dataset class for training pneumonia detection on the RSNA pneumonia dataset.\n",
    "    \"\"\"\n",
    "\n",
    "    def __init__(self, image_fps, image_annotations, orig_height, orig_width):\n",
    "        super().__init__(self)\n",
    "        \n",
    "        # Add classes\n",
    "        self.add_class('pneumonia', 1, 'Lung Opacity')\n",
    "        \n",
    "        # add images \n",
    "        for i, fp in enumerate(image_fps):\n",
    "            annotations = image_annotations[fp]\n",
    "            self.add_image('pneumonia', image_id=i, path=fp, \n",
    "                           annotations=annotations, orig_height=orig_height, orig_width=orig_width)\n",
    "            \n",
    "    def image_reference(self, image_id):\n",
    "        info = self.image_info[image_id]\n",
    "        return info['path']\n",
    "\n",
    "    def load_image(self, image_id):\n",
    "        info = self.image_info[image_id]\n",
    "        fp = info['path']\n",
    "        ds = pydicom.read_file(fp)\n",
    "        image = ds.pixel_array\n",
    "        # If grayscale. Convert to RGB for consistency.\n",
    "        if len(image.shape) != 3 or image.shape[2] != 3:\n",
    "            image = np.stack((image,) * 3, -1)\n",
    "        return image\n",
    "\n",
    "    def load_mask(self, image_id):\n",
    "        info = self.image_info[image_id]\n",
    "        annotations = info['annotations']\n",
    "        count = len(annotations)\n",
    "        if count == 0:\n",
    "            mask = np.zeros((info['orig_height'], info['orig_width'], 1), dtype=np.uint8)\n",
    "            class_ids = np.zeros((1,), dtype=np.int32)\n",
    "        else:\n",
    "            mask = np.zeros((info['orig_height'], info['orig_width'], count), dtype=np.uint8)\n",
    "            class_ids = np.zeros((count,), dtype=np.int32)\n",
    "            for i, a in enumerate(annotations):\n",
    "                if a['Target'] == 1:\n",
    "                    x = int(a['x'])\n",
    "                    y = int(a['y'])\n",
    "                    w = int(a['width'])\n",
    "                    h = int(a['height'])\n",
    "                    mask_instance = mask[:, :, i].copy()\n",
    "                    cv2.rectangle(mask_instance, (x, y), (x+w, y+h), 255, -1)\n",
    "                    mask[:, :, i] = mask_instance\n",
    "                    class_ids[i] = 1\n",
    "        return mask.astype(np.bool), class_ids.astype(np.int32)\n",
    "\n",
    "# training dataset\n",
    "anns = pd.read_csv(os.path.join(DATA_DIR, 'stage_2_train_labels.csv'))\n",
    "anns.head()\n",
    "\n",
    "\n",
    "image_fps, image_annotations = parse_dataset(train_dicom_dir, anns=anns)\n",
    "\n",
    "ds = pydicom.read_file(image_fps[0]) # read dicom image from filepath \n",
    "image = ds.pixel_array # get image array\n",
    "\n",
    "# Original DICOM image size: 1024 x 1024\n",
    "ORIG_SIZE = 1024\n",
    "\n",
    "image_fps_list = list(image_fps)\n",
    "random.seed(42)\n",
    "random.shuffle(image_fps_list)\n",
    "val_size = 1500\n",
    "image_fps_val = image_fps_list[:val_size]\n",
    "image_fps_train = image_fps_list[val_size:]\n",
    "\n",
    "print(len(image_fps_train), len(image_fps_val))\n",
    "# print(image_fps_val[:6])\n",
    "\n",
    "# prepare the training dataset\n",
    "dataset_train = DetectorDataset(image_fps_train, image_annotations, ORIG_SIZE, ORIG_SIZE)\n",
    "dataset_train.prepare()\n",
    "\n",
    "# Show annotation(s) for a DICOM image \n",
    "test_fp = random.choice(image_fps_train)\n",
    "image_annotations[test_fp]\n",
    "\n",
    "# prepare the validation dataset\n",
    "dataset_val = DetectorDataset(image_fps_val, image_annotations, ORIG_SIZE, ORIG_SIZE)\n",
    "dataset_val.prepare()\n",
    "\n",
    "\n",
    "# Load and display random sample and their bounding boxes\n",
    "\n",
    "class_ids = [0]\n",
    "while class_ids[0] == 0:  ## look for a mask\n",
    "    image_id = random.choice(dataset_train.image_ids)\n",
    "    image_fp = dataset_train.image_reference(image_id)\n",
    "    image = dataset_train.load_image(image_id)\n",
    "    mask, class_ids = dataset_train.load_mask(image_id)\n",
    "\n",
    "print(image.shape)\n",
    "\n",
    "plt.figure(figsize=(10, 10))\n",
    "plt.subplot(1, 2, 1)\n",
    "plt.imshow(image)\n",
    "plt.axis('off')\n",
    "\n",
    "plt.subplot(1, 2, 2)\n",
    "masked = np.zeros(image.shape[:2])\n",
    "for i in range(mask.shape[2]):\n",
    "    masked += image[:, :, 0] * mask[:, :, i]\n",
    "plt.imshow(masked, cmap='gray')\n",
    "plt.axis('off')\n",
    "\n",
    "print(image_fp)\n",
    "print(class_ids)\n",
    "\n",
    "# Image augmentation (light but constant)\n",
    "augmentation = iaa.Sequential([\n",
    "    iaa.OneOf([ ## geometric transform\n",
    "        iaa.Affine(\n",
    "            scale={\"x\": (0.98, 1.02), \"y\": (0.98, 1.04)},\n",
    "            translate_percent={\"x\": (-0.02, 0.02), \"y\": (-0.04, 0.04)},\n",
    "            rotate=(-2, 2),\n",
    "            shear=(-1, 1),\n",
    "        ),\n",
    "        iaa.PiecewiseAffine(scale=(0.001, 0.025)),\n",
    "    ]),\n",
    "    iaa.OneOf([ ## brightness or contrast\n",
    "        iaa.Multiply((0.9, 1.1)),\n",
    "        iaa.ContrastNormalization((0.9, 1.1)),\n",
    "    ]),\n",
    "    iaa.OneOf([ ## blur or sharpen\n",
    "        iaa.GaussianBlur(sigma=(0.0, 0.1)),\n",
    "        iaa.Sharpen(alpha=(0.0, 0.1)),\n",
    "    ]),\n",
    "])\n",
    "\n",
    "# test on the same image as above\n",
    "imggrid = augmentation.draw_grid(image[:, :, 0], cols=5, rows=2)\n",
    "plt.figure(figsize=(30, 12))\n",
    "_ = plt.imshow(imggrid[:, :, 0], cmap='gray')\n"
   ]
  },
  {
   "cell_type": "code",
   "execution_count": 4,
   "metadata": {},
   "outputs": [
    {
     "name": "stdout",
     "output_type": "stream",
     "text": [
      "['mask_rcnn_pneumonia_0001.h5', 'mask_rcnn_pneumonia_0002.h5', 'mask_rcnn_pneumonia_0003.h5', 'mask_rcnn_pneumonia_0004.h5', 'mask_rcnn_pneumonia_0005.h5', 'mask_rcnn_pneumonia_0006.h5', 'mask_rcnn_pneumonia_0007.h5', 'mask_rcnn_pneumonia_0008.h5', 'mask_rcnn_pneumonia_0009.h5', 'mask_rcnn_pneumonia_0010.h5', 'mask_rcnn_pneumonia_0011.h5', 'mask_rcnn_pneumonia_0012.h5', 'mask_rcnn_pneumonia_0013.h5', 'mask_rcnn_pneumonia_0014.h5', 'mask_rcnn_pneumonia_0015.h5', 'mask_rcnn_pneumonia_0016.h5', 'mask_rcnn_pneumonia_0017.h5', 'mask_rcnn_pneumonia_0018.h5', 'mask_rcnn_pneumonia_0019.h5', 'mask_rcnn_pneumonia_0020.h5', 'mask_rcnn_pneumonia_0021.h5', 'mask_rcnn_pneumonia_0022.h5', 'mask_rcnn_pneumonia_0023.h5', 'mask_rcnn_pneumonia_0024.h5', 'mask_rcnn_pneumonia_0025.h5', 'mask_rcnn_pneumonia_0026.h5', 'mask_rcnn_pneumonia_0027.h5', 'mask_rcnn_pneumonia_0028.h5', 'mask_rcnn_pneumonia_0029.h5', 'mask_rcnn_pneumonia_0030.h5', 'mask_rcnn_pneumonia_0031.h5', 'mask_rcnn_pneumonia_0032.h5', 'mask_rcnn_pneumonia_0033.h5', 'mask_rcnn_pneumonia_0034.h5', 'mask_rcnn_pneumonia_0035.h5', 'mask_rcnn_pneumonia_0036.h5', 'mask_rcnn_pneumonia_0037.h5', 'mask_rcnn_pneumonia_0038.h5', 'mask_rcnn_pneumonia_0039.h5', 'mask_rcnn_pneumonia_0040.h5', 'mask_rcnn_pneumonia_0041.h5', 'mask_rcnn_pneumonia_0042.h5', 'mask_rcnn_pneumonia_0043.h5', 'mask_rcnn_pneumonia_0044.h5', 'mask_rcnn_pneumonia_0045.h5', 'mask_rcnn_pneumonia_0046.h5', 'mask_rcnn_pneumonia_0047.h5', 'mask_rcnn_pneumonia_0048.h5', 'mask_rcnn_pneumonia_0049.h5', 'mask_rcnn_pneumonia_0050.h5']\n",
      "Found model /data/krf/model/rsna/pneumonia20181029T2304/mask_rcnn_pneumonia_0041.h5\n",
      "Loading weights from  /data/krf/model/rsna/pneumonia20181029T2304/mask_rcnn_pneumonia_0041.h5\n",
      "Re-starting from epoch 41\n"
     ]
    }
   ],
   "source": [
    "## select trained model \n",
    "model_dir = ROOT_DIR\n",
    "dir_names = next(os.walk(model_dir))[1]\n",
    "key = config.NAME.lower()\n",
    "dir_names = filter(lambda f: f.startswith(key), dir_names)\n",
    "dir_names = sorted(dir_names)\n",
    "\n",
    "if not dir_names:\n",
    "    import errno\n",
    "    raise FileNotFoundError(\n",
    "        errno.ENOENT,\n",
    "        \"Could not find model directory under {}\".format(model_dir))\n",
    "    \n",
    "fps = []\n",
    "# Pick last directory\n",
    "#for d in dir_names: \n",
    "best_epoch = 40 #the last epoch\n",
    "\n",
    "d = dir_names[-1]    \n",
    "dir_name = os.path.join(model_dir, d)\n",
    "# Find the last checkpoint\n",
    "checkpoints = next(os.walk(dir_name))[2]\n",
    "#print(checkpoints)\n",
    "checkpoints = filter(lambda f: f.startswith(\"mask_rcnn\"), checkpoints)\n",
    "checkpoints = sorted(checkpoints)\n",
    "if not checkpoints:\n",
    "    print('No weight files in {}'.format(dir_name))\n",
    "else:\n",
    "    print(checkpoints)\n",
    "    checkpoint = os.path.join(dir_name, checkpoints[best_epoch])\n",
    "    fps.append(checkpoint)\n",
    "\n",
    "model_path = sorted(fps)[-1]\n",
    "print('Found model {}'.format(model_path))\n",
    "\n",
    "\n",
    "class InferenceConfig(DetectorConfig):\n",
    "    GPU_COUNT = 1\n",
    "    IMAGES_PER_GPU = 1\n",
    "\n",
    "inference_config = InferenceConfig()\n",
    "\n",
    "# Recreate the model in inference mode\n",
    "model = modellib.MaskRCNN(mode='inference', \n",
    "                          config=inference_config,\n",
    "                          model_dir=ROOT_DIR)\n",
    "\n",
    "# Load trained weights (fill in path to trained weights here)\n",
    "assert model_path != \"\", \"Provide path to trained weights\"\n",
    "print(\"Loading weights from \", model_path)\n",
    "model.load_weights(model_path, by_name=True)\n",
    "\n",
    "\n",
    "# set color for class\n",
    "def get_colors_for_class_ids(class_ids):\n",
    "    colors = []\n",
    "    for class_id in class_ids:\n",
    "        if class_id == 1:\n",
    "            colors.append((.941, .204, .204))\n",
    "    return colors\n",
    "\n",
    "\n",
    "# Show few example of ground truth vs. predictions on the validation dataset \n",
    "dataset = dataset_val\n",
    "# fig = plt.figure(figsize=(10, 30))\n",
    "\n",
    "# for i in range(6):\n",
    "\n",
    "#     image_id = random.choice(dataset.image_ids)\n",
    "    \n",
    "#     original_image, image_meta, gt_class_id, gt_bbox, gt_mask =\\\n",
    "#         modellib.load_image_gt(dataset_val, inference_config, \n",
    "#                                image_id, use_mini_mask=False)\n",
    "    \n",
    "#     print(original_image.shape)\n",
    "#     plt.subplot(6, 2, 2*i + 1)\n",
    "#     visualize.display_instances(original_image, gt_bbox, gt_mask, gt_class_id, \n",
    "#                                 dataset.class_names,\n",
    "#                                 colors=get_colors_for_class_ids(gt_class_id), ax=fig.axes[-1])\n",
    "    \n",
    "#     plt.subplot(6, 2, 2*i + 2)\n",
    "#     results = model.detect([original_image]) #, verbose=1)\n",
    "#     r = results[0]\n",
    "#     visualize.display_instances(original_image, r['rois'], r['masks'], r['class_ids'], \n",
    "#                                 dataset.class_names, r['scores'], \n",
    "#                                 colors=get_colors_for_class_ids(r['class_ids']), ax=fig.axes[-1])\n",
    "\n",
    "\n",
    "\n",
    "\n",
    "\n"
   ]
  },
  {
   "cell_type": "code",
   "execution_count": 5,
   "metadata": {},
   "outputs": [
    {
     "name": "stderr",
     "output_type": "stream",
     "text": [
      "100%|██████████| 3000/3000 [07:24<00:00,  6.65it/s]\n"
     ]
    },
    {
     "name": "stdout",
     "output_type": "stream",
     "text": [
      "/data/krf/model/rsna/submission1030_2.csv\n",
      "2fe44d47-5ec2-48e5-bcfc-7376a0bad13f\n",
      "[158 143 232 206]\n",
      "x 572 y 632 h 252 w 296\n",
      "[169  20 211  70]\n",
      "x 80 y 676 h 200 w 168\n",
      "[ 47  56  90 102]\n",
      "x 224 y 188 h 184 w 172\n",
      "13584fbe-6565-4aea-ba4e-3336996dc946\n",
      "[128  61 184 110]\n",
      "x 244 y 512 h 196 w 224\n",
      "[ 70 156 116 184]\n",
      "x 624 y 280 h 112 w 184\n",
      "[145 152 199 187]\n",
      "x 608 y 580 h 140 w 216\n",
      "1f27caf8-fe15-47cd-915e-18999274bcb3\n",
      "[127  52 187 105]\n",
      "x 208 y 508 h 212 w 240\n",
      "237901d3-e135-4277-852a-86cba3a9a43e\n"
     ]
    },
    {
     "data": {
      "image/png": "[encoded data removed]",
      "text/plain": [
       "<Figure size 432x288 with 1 Axes>"
      ]
     },
     "metadata": {
      "needs_background": "light"
     },
     "output_type": "display_data"
    },
    {
     "data": {
      "image/png": "[encoded data removed]",
      "text/plain": [
       "<Figure size 432x288 with 1 Axes>"
      ]
     },
     "metadata": {
      "needs_background": "light"
     },
     "output_type": "display_data"
    },
    {
     "data": {
      "image/png": "[encoded data removed]",
      "text/plain": [
       "<Figure size 432x288 with 1 Axes>"
      ]
     },
     "metadata": {
      "needs_background": "light"
     },
     "output_type": "display_data"
    },
    {
     "data": {
      "image/png": "[encoded data removed]",
      "text/plain": [
       "<Figure size 432x288 with 1 Axes>"
      ]
     },
     "metadata": {
      "needs_background": "light"
     },
     "output_type": "display_data"
    }
   ],
   "source": [
    "# Get filenames of test dataset DICOM images\n",
    "test_image_fps = get_dicom_fps(test_dicom_dir)\n",
    "# Make predictions on test images, write out sample submission\n",
    "def predict(image_fps, filepath='submission.csv', min_conf=0.95):\n",
    "    # assume square image\n",
    "    resize_factor = ORIG_SIZE / config.IMAGE_SHAPE[0]\n",
    "    #resize_factor = ORIG_SIZE\n",
    "    labelFile = 'stage_1_test_labels.csv'\n",
    "    test_labels = pd.read_csv(labelFile)\n",
    "    \n",
    "    with open(filepath, 'w') as file:\n",
    "        file.write(\"patientId,PredictionString\\n\")\n",
    "      \n",
    "        for image_id in tqdm(image_fps):\n",
    "            patient_id = os.path.splitext(os.path.basename(image_id))[0]\n",
    "            out_str = \"\"\n",
    "            out_str += patient_id\n",
    "            out_str += \",\"\n",
    "            tmp = test_labels[test_labels['patientId']==patient_id]\n",
    "            tmp = tmp['Target']==0  \n",
    "            if 1==0:#tmp.bool() and not tmp.bool():#without classification\n",
    "                pass\n",
    "            else:   \n",
    "                ds = pydicom.read_file(image_id)\n",
    "                image = ds.pixel_array\n",
    "                # If grayscale. Convert to RGB for consistency.\n",
    "                if len(image.shape) != 3 or image.shape[2] != 3:\n",
    "                    image = np.stack((image,) * 3, -1)\n",
    "                image, window, scale, padding, crop = utils.resize_image(\n",
    "                    image,\n",
    "                    min_dim=config.IMAGE_MIN_DIM,\n",
    "                    min_scale=config.IMAGE_MIN_SCALE,\n",
    "                    max_dim=config.IMAGE_MAX_DIM,\n",
    "                    mode=config.IMAGE_RESIZE_MODE)\n",
    "\n",
    "                results = model.detect([image])\n",
    "                r = results[0]\n",
    "                assert( len(r['rois']) == len(r['class_ids']) == len(r['scores']) )\n",
    "                if len(r['rois']) == 0:\n",
    "                    pass\n",
    "                else:\n",
    "                    num_instances = len(r['rois'])\n",
    "\n",
    "                    for i in range(num_instances):\n",
    "                        if r['scores'][i] > min_conf:\n",
    "                            out_str += ' '\n",
    "                            out_str += str(round(r['scores'][i], 2))\n",
    "                            out_str += ' '\n",
    "\n",
    "                            # x1, y1, width, height\n",
    "                            x1 = r['rois'][i][1]\n",
    "                            y1 = r['rois'][i][0]\n",
    "                            width = r['rois'][i][3] - x1\n",
    "                            height = r['rois'][i][2] - y1\n",
    "                            bboxes_str = \"{} {} {} {}\".format(x1*resize_factor, y1*resize_factor, \\\n",
    "                                                               width*resize_factor, height*resize_factor)\n",
    "                            out_str += bboxes_str\n",
    "\n",
    "            file.write(out_str+\"\\n\")\n",
    "\n",
    "submission_fp = os.path.join(ROOT_DIR, 'submission1030_2.csv')\n",
    "predict(test_image_fps, filepath=submission_fp,min_conf=0.95)\n",
    "print(submission_fp)\n",
    "\n",
    "output = pd.read_csv(submission_fp)\n",
    "output.head(60)\n",
    "\n",
    "\n",
    "# show a few test image detection example\n",
    "def visualize(): \n",
    "    image_id = random.choice(test_image_fps)\n",
    "    ds = pydicom.read_file(image_id)\n",
    "    \n",
    "    # original image \n",
    "    image = ds.pixel_array\n",
    "    \n",
    "    # assume square image \n",
    "    resize_factor = ORIG_SIZE / config.IMAGE_SHAPE[0]\n",
    "    \n",
    "    # If grayscale. Convert to RGB for consistency.\n",
    "    if len(image.shape) != 3 or image.shape[2] != 3:\n",
    "        image = np.stack((image,) * 3, -1) \n",
    "    resized_image, window, scale, padding, crop = utils.resize_image(\n",
    "        image,\n",
    "        min_dim=config.IMAGE_MIN_DIM,\n",
    "        min_scale=config.IMAGE_MIN_SCALE,\n",
    "        max_dim=config.IMAGE_MAX_DIM,\n",
    "        mode=config.IMAGE_RESIZE_MODE)\n",
    "\n",
    "    patient_id = os.path.splitext(os.path.basename(image_id))[0]\n",
    "    print(patient_id)\n",
    "\n",
    "    results = model.detect([resized_image])\n",
    "    r = results[0]\n",
    "    for bbox in r['rois']: \n",
    "        print(bbox)\n",
    "        x1 = int(bbox[1] * resize_factor)\n",
    "        y1 = int(bbox[0] * resize_factor)\n",
    "        x2 = int(bbox[3] * resize_factor)\n",
    "        y2 = int(bbox[2]  * resize_factor)\n",
    "        cv2.rectangle(image, (x1,y1), (x2,y2), (77, 255, 9), 3, 1)\n",
    "        width = x2 - x1 \n",
    "        height = y2 - y1 \n",
    "        print(\"x {} y {} h {} w {}\".format(x1, y1, width, height))\n",
    "    plt.figure() \n",
    "    plt.imshow(image, cmap=plt.cm.gist_gray)\n",
    "    plt.savefig(ROOT_DIR+\"/\"+patient_id+\".png\")\n",
    "visualize()\n",
    "visualize()\n",
    "visualize()\n",
    "visualize()\n"
   ]
  },
  {
   "cell_type": "code",
   "execution_count": 13,
   "metadata": {},
   "outputs": [
    {
     "name": "stdout",
     "output_type": "stream",
     "text": [
      "0.6666666666666666\n"
     ]
    }
   ],
   "source": [
    "import numpy as np\n",
    "# helper function to calculate IoU\n",
    "def iou(box1, box2):\n",
    "    x11, y11, w1, h1 = box1\n",
    "    x21, y21, w2, h2 = box2\n",
    "    #assert w1 * h1 > 0\n",
    "    #assert w2 * h2 > 0\n",
    "    x12, y12 = x11 + w1, y11 + h1\n",
    "    x22, y22 = x21 + w2, y21 + h2\n",
    "\n",
    "    area1, area2 = w1 * h1, w2 * h2\n",
    "    xi1, yi1, xi2, yi2 = max([x11, x21]), max([y11, y21]), min([x12, x22]), min([y12, y22])\n",
    "    \n",
    "    if xi2 <= xi1 or yi2 <= yi1:\n",
    "        return 0\n",
    "    else:\n",
    "        intersect = (xi2-xi1) * (yi2-yi1)\n",
    "        union = area1 + area2 - intersect\n",
    "        return intersect / union\n",
    "    \n",
    "# simple test\n",
    "box1 = [100, 100, 200, 200]\n",
    "box2 = [100, 100, 300, 200]\n",
    "print(iou(box1, box2))\n"
   ]
  },
  {
   "cell_type": "code",
   "execution_count": 25,
   "metadata": {},
   "outputs": [
    {
     "data": {
      "text/plain": [
       "0.75"
      ]
     },
     "execution_count": 25,
     "metadata": {},
     "output_type": "execute_result"
    }
   ],
   "source": [
    "def map_iou(boxes_true, boxes_pred, scores, thresholds = [0.4, 0.45, 0.5, 0.55, 0.6, 0.65, 0.7, 0.75],min_conf=0.9):\n",
    "    \"\"\"\n",
    "    Mean average precision at differnet intersection over union (IoU) threshold\n",
    "    \n",
    "    input:\n",
    "        boxes_true: Mx4 numpy array of ground true bounding boxes of one image. \n",
    "                    bbox format: (x1, y1, w, h)\n",
    "        boxes_pred: Nx4 numpy array of predicted bounding boxes of one image. \n",
    "                    bbox format: (x1, y1, w, h)\n",
    "        scores:     length N numpy array of scores associated with predicted bboxes\n",
    "        thresholds: IoU shresholds to evaluate mean average precision on\n",
    "    output: \n",
    "        map: mean average precision of the image\n",
    "    \"\"\"\n",
    "    \n",
    "    # According to the introduction, images with no ground truth bboxes will not be \n",
    "    # included in the map score unless there is a false positive detection (?)\n",
    "        \n",
    "    # return None if both are empty, don't count the image in final evaluation (?)\n",
    "    if len(boxes_true) == 0 and len(boxes_pred) == 0:\n",
    "        return 0\n",
    "    \n",
    "    assert boxes_true.shape[1] == 4 or boxes_pred.shape[1] == 4, \"boxes should be 2D arrays with shape[1]=4\"\n",
    "    if len(boxes_pred):\n",
    "        assert len(scores) == len(boxes_pred), \"boxes_pred and scores should be same length\"\n",
    "        # sort boxes_pred by scores in decreasing order\n",
    "        scores = np.array(scores)\n",
    "        boxes_pred = boxes_pred[scores>=min_conf]\n",
    "        scores = scores[scores>=min_conf]\n",
    "        boxes_pred = boxes_pred[np.argsort(scores)[::-1], :]\n",
    "        \n",
    "    if len(boxes_true) == 0 and len(boxes_pred) == 0:\n",
    "        return 0\n",
    "    \n",
    "    map_total = 0\n",
    "    \n",
    "    # loop over thresholds\n",
    "    for t in thresholds:\n",
    "        matched_bt = set()\n",
    "        tp, fn = 0, 0\n",
    "        for i, bt in enumerate(boxes_true):\n",
    "            matched = False\n",
    "            for j, bp in enumerate(boxes_pred):\n",
    "                miou = iou(bt, bp)\n",
    "                if miou >= t and not matched and j not in matched_bt:\n",
    "                    matched = True\n",
    "                    tp += 1 # bt is matched for the first time, count as TP\n",
    "                    matched_bt.add(j)\n",
    "            if not matched:\n",
    "                fn += 1 # bt has no match, count as FN\n",
    "                \n",
    "        fp = len(boxes_pred) - len(matched_bt) # FP is the bp that not matched to any bt\n",
    "        m = tp / (tp + fn + fp)\n",
    "        map_total += m\n",
    "    \n",
    "    return map_total / len(thresholds)\n",
    "# simple test\n",
    "boxes_true = np.array([[100, 100, 200, 200]])\n",
    "boxes_pred = np.array([[100, 100, 300, 200]])\n",
    "scores = [0.9]\n",
    "\n",
    "map_iou(boxes_true, boxes_pred, scores)"
   ]
  },
  {
   "cell_type": "code",
   "execution_count": 27,
   "metadata": {},
   "outputs": [
    {
     "name": "stderr",
     "output_type": "stream",
     "text": [
      "100%|██████████| 1500/1500 [05:19<00:00,  5.99it/s]"
     ]
    },
    {
     "name": "stdout",
     "output_type": "stream",
     "text": [
      "0.12035416666666666\n"
     ]
    },
    {
     "name": "stderr",
     "output_type": "stream",
     "text": [
      "\n"
     ]
    }
   ],
   "source": [
    "# detection on val_data\n",
    "def evaluate(dataset_eval):\n",
    "    summ = 0.0\n",
    "    # assume square image\n",
    "    \n",
    "    resize_factor = ORIG_SIZE / config.IMAGE_SHAPE[0]\n",
    "    #resize_factor = ORIG_SIZE\n",
    "    for image_id in tqdm(dataset_eval.image_ids):\n",
    "        original_image, image_meta, gt_class_id, gt_bbox, gt_mask =\\\n",
    "                modellib.load_image_gt(dataset_eval, inference_config, \n",
    "                                       image_id, use_mini_mask=False)\n",
    "         \n",
    "        results = model.detect([original_image]) #, verbose=1)\n",
    "        r = results[0]\n",
    "        summ += map_iou(gt_bbox,r['rois'],r['scores'])\n",
    "\n",
    "    return summ/len(dataset_eval.image_ids)\n",
    "\n",
    "print(evaluate(dataset_val))"
   ]
  },
  {
   "cell_type": "code",
   "execution_count": 6,
   "metadata": {},
   "outputs": [
    {
     "name": "stdout",
     "output_type": "stream",
     "text": [
      "Use gpu = True\n"
     ]
    }
   ],
   "source": [
    "#classifier\n",
    "import glob,pylab,pandas as pd\n",
    "import pydicom,numpy as np\n",
    "import random\n",
    "import json\n",
    "import time\n",
    "import copy\n",
    "import torchvision\n",
    "import sys\n",
    "import torch\n",
    "import torch.nn as nn\n",
    "import torch.optim as optim\n",
    "from torch.optim import lr_scheduler\n",
    "from torch.autograd import Variable\n",
    "from PIL import Image, ImageDraw, ImageFont\n",
    "import matplotlib.pyplot as plt\n",
    "from matplotlib import patches,patheffects\n",
    "\n",
    "from sklearn.model_selection import train_test_split\n",
    "from torchvision import datasets\n",
    "from torchvision import transforms\n",
    "from torch.utils.data import Dataset,DataLoader\n",
    "from torch.optim import lr_scheduler\n",
    "from pathlib import Path\n",
    "\n",
    "PATH = Path(\"/data/krf/dataset\")\n",
    "\n",
    "class CDataset(Dataset):\n",
    "    def __init__(self,ds,img_dir,class_df = None,transform=None,ext=None):\n",
    "        self.ds = ds\n",
    "        self.img_dir = img_dir\n",
    "        self.class_df = class_df\n",
    "        self.ext = ext or '.dcm'\n",
    "        self.transform = transforms.Compose(transform) if transform else None\n",
    "    \n",
    "    def __len__(self):\n",
    "        return len(self.ds)\n",
    "    \n",
    "    def read_dicom_image(self,loc):\n",
    "        img_arr = pydicom.read_file(loc.as_posix()).pixel_array\n",
    "        img_arr = img_arr/img_arr.max()\n",
    "        img_arr = (255*img_arr).clip(0,255).astype(np.uint8)\n",
    "        img_arr = Image.fromarray(img_arr).convert('RGB')\n",
    "        return img_arr\n",
    "    \n",
    "    def __getitem__(self,i):\n",
    "        img = self.read_dicom_image(self.ds[i])\n",
    "        if self.transform:\n",
    "            img = self.transform(img)\n",
    "        patientId = self.ds[i].name.split('.')[0]\n",
    "        #kls = self.class_df[self.class_df['patientId'] == patientId]\n",
    "        return img,patientId#,kls.iloc[0].Target\n",
    "\n",
    "use_gpu = torch.cuda.is_available()\n",
    "print(\"Use gpu = {}\".format(use_gpu))\n",
    "\n",
    "#dataloaders = {'train':train_dl,'val':test_dl}\n",
    "\n",
    "device = torch.cuda.set_device(0)\n",
    "\n",
    "\n",
    "model_ft = torchvision.models.resnet50(pretrained=False)#True)\n",
    "#修改分类数\n",
    "num_ftrs = model_ft.fc.in_features\n",
    "model_ft.fc = nn.Linear(num_ftrs,2)\n",
    "\n",
    "criterion = nn.CrossEntropyLoss()\n",
    "model_ft = model_ft.cuda()\n",
    "\n",
    "model_ft.load_state_dict(torch.load('resnet50.ckpt'))"
   ]
  },
  {
   "cell_type": "code",
   "execution_count": null,
   "metadata": {},
   "outputs": [],
   "source": []
  },
  {
   "cell_type": "code",
   "execution_count": 8,
   "metadata": {},
   "outputs": [
    {
     "name": "stderr",
     "output_type": "stream",
     "text": [
      "100%|██████████| 1500/1500 [09:39<00:00,  3.39it/s]"
     ]
    },
    {
     "name": "stdout",
     "output_type": "stream",
     "text": [
      "215\n",
      "0.07050555555555554\n",
      "0\n"
     ]
    },
    {
     "name": "stderr",
     "output_type": "stream",
     "text": [
      "\n"
     ]
    }
   ],
   "source": [
    "#classified before detection\n",
    "\n",
    "def evaluate(dataset_eval):\n",
    "    summ = 0.0\n",
    "    count=0\n",
    "    # assume square image\n",
    "    \n",
    "    resize_factor = ORIG_SIZE / config.IMAGE_SHAPE[0]\n",
    "    #resize_factor = ORIG_SIZE\n",
    "    for image_id in tqdm(dataset_eval.image_ids):\n",
    "        original_image, image_meta, gt_class_id, gt_bbox, gt_mask =\\\n",
    "                modellib.load_image_gt(dataset_eval, inference_config, \n",
    "                                       image_id, use_mini_mask=False)\n",
    "        ##########CLASSIFY############\n",
    "        model_ft.eval()\n",
    "        img_arr = original_image\n",
    "        img_arr = img_arr/img_arr.max()\n",
    "        img_arr = (255*img_arr).clip(0,255).astype(np.uint8)\n",
    "        img_arr = Image.fromarray(img_arr).convert('RGB')\n",
    "        \n",
    "        transform = [transforms.Resize(224),transforms.RandomHorizontalFlip(),transforms.ToTensor()]\n",
    "        transform = transforms.Compose(transform)\n",
    "        inputs = transform(img_arr)\n",
    "        inputs = inputs.expand(1,3,224,224)\n",
    "        inputs = Variable(inputs.cuda(),requires_grad=True)\n",
    "        outputs = model_ft(inputs)\n",
    "        #print(outputs)\n",
    "        _,preds = torch.max(outputs.data,1)\n",
    "        ##############################\n",
    "        patient_id = os.path.splitext(os.path.basename(dataset_eval.image_reference(image_id)))[0]\n",
    "        #print(patient_id)\n",
    "        \n",
    "        #print(preds)\n",
    "        if preds == 0:\n",
    "            summ += map_iou(gt_bbox,[],[])\n",
    "        else: \n",
    "            count+=1\n",
    "            results = model.detect([original_image]) #, verbose=1)\n",
    "            r = results[0]\n",
    "            summ += map_iou(gt_bbox,r['rois'],r['scores'])\n",
    "    print(count)\n",
    "    return summ/len(dataset_eval.image_ids)\n",
    "\n",
    "print(evaluate(dataset_val))"
   ]
  },
  {
   "cell_type": "code",
   "execution_count": 40,
   "metadata": {},
   "outputs": [
    {
     "name": "stdout",
     "output_type": "stream",
     "text": [
      "['pneumonia20181009T1301', 'pneumonia20181009T1439', 'pneumonia20181011T1739', 'pneumonia20181013T1301', 'pneumonia20181016T1658', 'pneumonia20181016T2058', 'pneumonia20181018T1030', 'pneumonia20181019T2207', 'pneumonia20181020T1154', 'pneumonia20181020T1606', 'pneumonia20181020T2103']\n",
      "['mask_rcnn_pneumonia_0001.h5', 'mask_rcnn_pneumonia_0002.h5', 'mask_rcnn_pneumonia_0003.h5', 'mask_rcnn_pneumonia_0004.h5', 'mask_rcnn_pneumonia_0005.h5', 'mask_rcnn_pneumonia_0006.h5', 'mask_rcnn_pneumonia_0007.h5', 'mask_rcnn_pneumonia_0008.h5', 'mask_rcnn_pneumonia_0009.h5', 'mask_rcnn_pneumonia_0010.h5', 'mask_rcnn_pneumonia_0011.h5', 'mask_rcnn_pneumonia_0012.h5', 'mask_rcnn_pneumonia_0013.h5', 'mask_rcnn_pneumonia_0014.h5', 'mask_rcnn_pneumonia_0015.h5']\n",
      "Found model /data/krf/model/rsna/pneumonia20181020T2103/mask_rcnn_pneumonia_0011.h5\n",
      "Loading weights from  /data/krf/model/rsna/pneumonia20181020T2103/mask_rcnn_pneumonia_0011.h5\n",
      "Re-starting from epoch 11\n"
     ]
    }
   ],
   "source": [
    "#segmentation model\n",
    "train_seg_dir = os.path.join(DATA_DIR, 'stage_1_train_segmentations')\n",
    "test_seg_dir = os.path.join(DATA_DIR, 'stage_1_test_segmentations')\n",
    "\n",
    "model_dir = ROOT_DIR\n",
    "dir_names = next(os.walk(model_dir))[1]\n",
    "#print(dir_names)\n",
    "key = 'pneumonia'\n",
    "dir_names = filter(lambda f: f.startswith(key), dir_names)\n",
    "dir_names = sorted(dir_names)\n",
    "print(dir_names)\n",
    "if not dir_names:\n",
    "    import errno\n",
    "    raise FileNotFoundError(\n",
    "        errno.ENOENT,\n",
    "        \"Could not find model directory under {}\".format(model_dir))\n",
    "fps = []\n",
    "best_epoch = 10\n",
    "# Pick last directory\n",
    "#for d in dir_names: \n",
    "d = dir_names[-1]    \n",
    "dir_name = os.path.join(model_dir, d)\n",
    "# Find the last checkpoint\n",
    "checkpoints = next(os.walk(dir_name))[2]\n",
    "#print(checkpoints)\n",
    "checkpoints = filter(lambda f: f.startswith(\"mask_rcnn\"), checkpoints)\n",
    "checkpoints = sorted(checkpoints)\n",
    "if not checkpoints:\n",
    "    print('No weight files in {}'.format(dir_name))\n",
    "else:\n",
    "    print(checkpoints)\n",
    "    checkpoint = os.path.join(dir_name, checkpoints[best_epoch])\n",
    "    fps.append(checkpoint)\n",
    "\n",
    "model_path = sorted(fps)[-1]\n",
    "print('Found model {}'.format(model_path))\n",
    "def get_dicom_fps(dicom_dir):\n",
    "    dicom_fps = glob.glob(dicom_dir+'/'+'*.dcm')\n",
    "    return list(set(dicom_fps))\n",
    "\n",
    "def parse_dataset(dicom_dir, anns): \n",
    "    image_fps = get_dicom_fps(dicom_dir)\n",
    "    image_annotations = {fp: [] for fp in image_fps}\n",
    "    for index, row in anns.iterrows(): \n",
    "        fp = os.path.join(dicom_dir, row['patientId']+'.dcm')\n",
    "        image_annotations[fp].append(row)\n",
    "    return image_fps, image_annotations \n",
    "\n",
    "class DetectorConfig(Config):\n",
    "    \"\"\"Configuration for training pneumonia detection on the RSNA pneumonia dataset.\n",
    "    Overrides values in the base Config class.\n",
    "    \"\"\"\n",
    "    \n",
    "    # Give the configuration a recognizable name  \n",
    "    NAME = 'pneumonia'\n",
    "    \n",
    "    # Train on 1 GPU and 8 images per GPU. We can put multiple images on each\n",
    "    # GPU because the images are small. Batch size is 8 (GPUs * images/GPU).\n",
    "    GPU_COUNT = 1\n",
    "    IMAGES_PER_GPU = 16\n",
    "    \n",
    "    BACKBONE = 'resnet50'\n",
    "    \n",
    "    NUM_CLASSES = 2  # background + 1 pneumonia classes\n",
    "    \n",
    "    IMAGE_MIN_DIM = 256\n",
    "    IMAGE_MAX_DIM = 256\n",
    "    RPN_ANCHOR_SCALES = (16, 32, 64, 128)\n",
    "    TRAIN_ROIS_PER_IMAGE = 32\n",
    "    MAX_GT_INSTANCES = 5\n",
    "    DETECTION_MAX_INSTANCES = 3\n",
    "    DETECTION_MIN_CONFIDENCE = 0.4  ## match target distribution\n",
    "    DETECTION_NMS_THRESHOLD = 0.1\n",
    "\n",
    "    STEPS_PER_EPOCH = 1600\n",
    "config = DetectorConfig()\n",
    "\n",
    "class InferenceConfig(DetectorConfig):\n",
    "    GPU_COUNT = 1\n",
    "    IMAGES_PER_GPU = 1\n",
    "\n",
    "inference_config = InferenceConfig()\n",
    "\n",
    "# Recreate the model in inference mode\n",
    "model = modellib.MaskRCNN(mode='inference', \n",
    "                          config=inference_config,\n",
    "                          model_dir=ROOT_DIR)\n",
    "\n",
    "# Load trained weights (fill in path to trained weights here)\n",
    "assert model_path != \"\", \"Provide path to trained weights\"\n",
    "print(\"Loading weights from \", model_path)\n",
    "model.load_weights(model_path, by_name=True)"
   ]
  },
  {
   "cell_type": "code",
   "execution_count": 41,
   "metadata": {},
   "outputs": [
    {
     "name": "stderr",
     "output_type": "stream",
     "text": [
      "\n",
      "\n",
      "\n",
      "\n",
      "\n",
      "  0%|          | 0/1500 [00:00<?, ?it/s]\u001b[A\u001b[A\u001b[A\u001b[A\u001b[A"
     ]
    },
    {
     "name": "stdout",
     "output_type": "stream",
     "text": [
      "(256, 256, 3)\n"
     ]
    },
    {
     "name": "stderr",
     "output_type": "stream",
     "text": [
      "\n",
      "\n",
      "\n",
      "\n",
      "\n",
      "  0%|          | 1/1500 [00:03<1:18:22,  3.14s/it]\u001b[A\u001b[A\u001b[A\u001b[A\u001b[A\n",
      "\n",
      "\n",
      "\n",
      "\n",
      "  0%|          | 2/1500 [00:03<56:06,  2.25s/it]  \u001b[A\u001b[A\u001b[A\u001b[A\u001b[A"
     ]
    },
    {
     "name": "stdout",
     "output_type": "stream",
     "text": [
      "pred: [[592 196 756 376]\n",
      " [624 612 804 776]\n",
      " [436 296 644 424]]\n",
      "true: []\n",
      "(256, 256, 3)\n",
      "pred: [[488 652 604 720]\n",
      " [444 712 524 808]\n",
      " [456 204 596 408]]\n",
      "true: []\n"
     ]
    },
    {
     "name": "stderr",
     "output_type": "stream",
     "text": [
      "\n",
      "\n",
      "\n",
      "\n",
      "\n",
      "  0%|          | 3/1500 [00:03<40:46,  1.63s/it]\u001b[A\u001b[A\u001b[A\u001b[A\u001b[A"
     ]
    },
    {
     "name": "stdout",
     "output_type": "stream",
     "text": [
      "(256, 256, 3)\n",
      "pred: [[396 544 728 776]\n",
      " [508 204 716 396]]\n",
      "true: [[113 131 195 190]]\n",
      "(256, 256, 3)\n"
     ]
    },
    {
     "name": "stderr",
     "output_type": "stream",
     "text": [
      "\n",
      "\n",
      "\n",
      "\n",
      "\n",
      "  0%|          | 4/1500 [00:03<29:39,  1.19s/it]\u001b[A\u001b[A\u001b[A\u001b[A\u001b[A"
     ]
    },
    {
     "name": "stdout",
     "output_type": "stream",
     "text": [
      "pred: [[532 264 688 424]\n",
      " [528 608 688 736]]\n",
      "true: []\n",
      "(256, 256, 3)\n"
     ]
    },
    {
     "name": "stderr",
     "output_type": "stream",
     "text": [
      "\n",
      "\n",
      "\n",
      "\n",
      "\n",
      "  0%|          | 5/1500 [00:03<22:41,  1.10it/s]\u001b[A\u001b[A\u001b[A\u001b[A\u001b[A"
     ]
    },
    {
     "name": "stdout",
     "output_type": "stream",
     "text": [
      "pred: [[504 216 668 464]\n",
      " [592 780 760 936]\n",
      " [372 376 548 476]]\n",
      "true: []\n",
      "(256, 256, 3)\n"
     ]
    },
    {
     "name": "stderr",
     "output_type": "stream",
     "text": [
      "\n",
      "\n",
      "\n",
      "\n",
      "\n",
      "  0%|          | 6/1500 [00:04<17:32,  1.42it/s]\u001b[A\u001b[A\u001b[A\u001b[A\u001b[A"
     ]
    },
    {
     "name": "stdout",
     "output_type": "stream",
     "text": [
      "pred: [[572 228 732 424]\n",
      " [608 584 744 704]]\n",
      "true: []\n",
      "(256, 256, 3)\n"
     ]
    },
    {
     "name": "stderr",
     "output_type": "stream",
     "text": [
      "\n",
      "\n",
      "\n",
      "\n",
      "\n",
      "  0%|          | 7/1500 [00:04<13:53,  1.79it/s]\u001b[A\u001b[A\u001b[A\u001b[A\u001b[A"
     ]
    },
    {
     "name": "stdout",
     "output_type": "stream",
     "text": [
      "pred: [[652 180 984 392]\n",
      " [724 624 984 904]\n",
      " [452 608 660 736]]\n",
      "true: [[204  19 256  96]\n",
      " [175 164 253 242]]\n",
      "(256, 256, 3)\n"
     ]
    },
    {
     "name": "stderr",
     "output_type": "stream",
     "text": [
      "\n",
      "\n",
      "\n",
      "\n",
      "\n",
      "  1%|          | 8/1500 [00:04<11:18,  2.20it/s]\u001b[A\u001b[A\u001b[A\u001b[A\u001b[A\n",
      "\n",
      "\n",
      "\n",
      "\n",
      "  1%|          | 9/1500 [00:04<09:06,  2.73it/s]\u001b[A\u001b[A\u001b[A\u001b[A\u001b[A"
     ]
    },
    {
     "name": "stdout",
     "output_type": "stream",
     "text": [
      "pred: [[496 216 696 396]\n",
      " [648 692 772 884]\n",
      " [376 152 500 268]]\n",
      "true: []\n",
      "(256, 256, 3)\n",
      "pred: [[480 680 764 908]\n",
      " [200 296 380 464]\n",
      " [484 292 656 464]]\n",
      "true: []\n"
     ]
    },
    {
     "name": "stderr",
     "output_type": "stream",
     "text": [
      "\n",
      "\n",
      "\n",
      "\n",
      "\n",
      "  1%|          | 10/1500 [00:04<07:39,  3.24it/s]\u001b[A\u001b[A\u001b[A\u001b[A\u001b[A"
     ]
    },
    {
     "name": "stdout",
     "output_type": "stream",
     "text": [
      "(256, 256, 3)\n",
      "pred: [[484 188 664 376]\n",
      " [536 600 696 764]\n",
      " [300 632 504 728]]\n",
      "true: []\n"
     ]
    },
    {
     "name": "stderr",
     "output_type": "stream",
     "text": [
      "\n",
      "\n",
      "\n",
      "\n",
      "\n",
      "  1%|          | 11/1500 [00:05<06:57,  3.56it/s]\u001b[A\u001b[A\u001b[A\u001b[A\u001b[A"
     ]
    },
    {
     "name": "stdout",
     "output_type": "stream",
     "text": [
      "(256, 256, 3)\n",
      "pred: [[512 244 696 412]\n",
      " [496 604 684 728]]\n",
      "true: []\n"
     ]
    },
    {
     "name": "stderr",
     "output_type": "stream",
     "text": [
      "\n",
      "\n",
      "\n",
      "\n",
      "\n",
      "  1%|          | 12/1500 [00:05<06:30,  3.81it/s]\u001b[A\u001b[A\u001b[A\u001b[A\u001b[A"
     ]
    },
    {
     "name": "stdout",
     "output_type": "stream",
     "text": [
      "(256, 256, 3)\n",
      "pred: [[128 672 336 832]\n",
      " [688 268 836 460]\n",
      " [608 636 808 836]]\n",
      "true: []\n",
      "(256, 256, 3)\n"
     ]
    },
    {
     "name": "stderr",
     "output_type": "stream",
     "text": [
      "\n",
      "\n",
      "\n",
      "\n",
      "\n",
      "  1%|          | 13/1500 [00:05<06:03,  4.10it/s]\u001b[A\u001b[A\u001b[A\u001b[A\u001b[A"
     ]
    },
    {
     "name": "stdout",
     "output_type": "stream",
     "text": [
      "pred: [[516 140 668 384]\n",
      " [488 596 664 788]\n",
      " [536 760 688 936]]\n",
      "true: []\n",
      "(256, 256, 3)\n"
     ]
    },
    {
     "name": "stderr",
     "output_type": "stream",
     "text": [
      "\n",
      "\n",
      "\n",
      "\n",
      "\n",
      "  1%|          | 14/1500 [00:05<05:46,  4.29it/s]\u001b[A\u001b[A\u001b[A\u001b[A\u001b[A\n",
      "\n",
      "\n",
      "\n",
      "\n",
      "  1%|          | 15/1500 [00:05<05:25,  4.56it/s]\u001b[A\u001b[A\u001b[A\u001b[A\u001b[A"
     ]
    },
    {
     "name": "stdout",
     "output_type": "stream",
     "text": [
      "pred: [[484 668 664 792]\n",
      " [536 800 644 892]\n",
      " [520 268 688 424]]\n",
      "true: []\n",
      "(256, 256, 3)\n",
      "pred: [[496 176 776 400]\n",
      " [464 612 784 864]\n",
      " [692 760 780 852]]\n",
      "true: []\n"
     ]
    },
    {
     "name": "stderr",
     "output_type": "stream",
     "text": [
      "\n",
      "\n",
      "\n",
      "\n",
      "\n",
      "  1%|          | 16/1500 [00:06<05:20,  4.63it/s]\u001b[A\u001b[A\u001b[A\u001b[A\u001b[A"
     ]
    },
    {
     "name": "stdout",
     "output_type": "stream",
     "text": [
      "(256, 256, 3)\n",
      "pred: [[504 204 660 372]\n",
      " [504 604 692 820]]\n",
      "true: []\n"
     ]
    },
    {
     "name": "stderr",
     "output_type": "stream",
     "text": [
      "\n",
      "\n",
      "\n",
      "\n",
      "\n",
      "  1%|          | 17/1500 [00:06<05:24,  4.57it/s]\u001b[A\u001b[A\u001b[A\u001b[A\u001b[A"
     ]
    },
    {
     "name": "stdout",
     "output_type": "stream",
     "text": [
      "(256, 256, 3)\n",
      "pred: [[212 228 660 460]\n",
      " [184 580 676 864]]\n",
      "true: [[ 46  69 202 119]\n",
      " [ 52 149 194 212]]\n"
     ]
    },
    {
     "name": "stderr",
     "output_type": "stream",
     "text": [
      "\n",
      "\n",
      "\n",
      "\n",
      "\n",
      "  1%|          | 18/1500 [00:06<05:28,  4.52it/s]\u001b[A\u001b[A\u001b[A\u001b[A\u001b[A"
     ]
    },
    {
     "name": "stdout",
     "output_type": "stream",
     "text": [
      "(256, 256, 3)\n",
      "pred: [[196 204 644 484]\n",
      " [296 640 624 888]]\n",
      "true: [[ 61 159 148 204]\n",
      " [ 40  62 131 125]]\n"
     ]
    },
    {
     "name": "stderr",
     "output_type": "stream",
     "text": [
      "\n",
      "\n",
      "\n",
      "\n",
      "\n",
      "  1%|▏         | 19/1500 [00:06<05:07,  4.82it/s]\u001b[A\u001b[A\u001b[A\u001b[A\u001b[A"
     ]
    },
    {
     "name": "stdout",
     "output_type": "stream",
     "text": [
      "(256, 256, 3)\n",
      "pred: [[596 100 784 308]\n",
      " [608 556 908 768]]\n",
      "true: []\n",
      "(256, 256, 3)\n"
     ]
    },
    {
     "name": "stderr",
     "output_type": "stream",
     "text": [
      "\n",
      "\n",
      "\n",
      "\n",
      "\n",
      "  1%|▏         | 20/1500 [00:07<05:19,  4.63it/s]\u001b[A\u001b[A\u001b[A\u001b[A\u001b[A\n",
      "\n",
      "\n",
      "\n",
      "\n"
     ]
    },
    {
     "name": "stdout",
     "output_type": "stream",
     "text": [
      "pred: [[304 344 652 604]\n",
      " [436 732 720 968]\n",
      " [180 136 580 336]]\n",
      "true: [[128 178 192 232]\n",
      " [ 58 111 149 152]]\n",
      "(256, 256, 3)\n",
      "pred: [[420 608 588 732]\n",
      " [516 236 756 424]]\n",
      "true: []\n"
     ]
    },
    {
     "name": "stderr",
     "output_type": "stream",
     "text": [
      "  1%|▏         | 21/1500 [00:07<05:10,  4.76it/s]\u001b[A\u001b[A\u001b[A\u001b[A\u001b[A\n",
      "\n",
      "\n",
      "\n",
      "\n",
      "  1%|▏         | 22/1500 [00:07<05:18,  4.64it/s]\u001b[A\u001b[A\u001b[A\u001b[A\u001b[A"
     ]
    },
    {
     "name": "stdout",
     "output_type": "stream",
     "text": [
      "(256, 256, 3)\n",
      "pred: [[440 556 720 772]\n",
      " [544 180 692 344]\n",
      " [264 284 496 416]]\n",
      "true: []\n"
     ]
    },
    {
     "name": "stderr",
     "output_type": "stream",
     "text": [
      "\n",
      "\n",
      "\n",
      "\n",
      "\n",
      "  2%|▏         | 23/1500 [00:07<05:38,  4.37it/s]\u001b[A\u001b[A\u001b[A\u001b[A\u001b[A"
     ]
    },
    {
     "name": "stdout",
     "output_type": "stream",
     "text": [
      "(256, 256, 3)\n",
      "pred: [[612 204 844 404]\n",
      " [604 588 872 816]\n",
      " [104 268 340 480]]\n",
      "true: []\n"
     ]
    },
    {
     "name": "stderr",
     "output_type": "stream",
     "text": [
      "\n",
      "\n",
      "\n",
      "\n",
      "\n",
      "  2%|▏         | 24/1500 [00:07<05:35,  4.40it/s]\u001b[A\u001b[A\u001b[A\u001b[A\u001b[A"
     ]
    },
    {
     "name": "stdout",
     "output_type": "stream",
     "text": [
      "(256, 256, 3)\n",
      "pred: [[664 584 796 792]\n",
      " [672 220 832 404]]\n",
      "true: []\n",
      "(256, 256, 3)\n"
     ]
    },
    {
     "name": "stderr",
     "output_type": "stream",
     "text": [
      "\n",
      "\n",
      "\n",
      "\n",
      "\n",
      "  2%|▏         | 25/1500 [00:08<05:14,  4.69it/s]\u001b[A\u001b[A\u001b[A\u001b[A\u001b[A\n",
      "\n",
      "\n",
      "\n",
      "\n",
      "  2%|▏         | 26/1500 [00:08<04:50,  5.07it/s]\u001b[A\u001b[A\u001b[A\u001b[A\u001b[A"
     ]
    },
    {
     "name": "stdout",
     "output_type": "stream",
     "text": [
      "pred: [[476 228 688 508]\n",
      " [576 712 716 868]]\n",
      "true: []\n",
      "(256, 256, 3)\n",
      "pred: [[440 560 788 760]\n",
      " [384 220 728 408]]\n",
      "true: []\n"
     ]
    },
    {
     "name": "stderr",
     "output_type": "stream",
     "text": [
      "\n",
      "\n",
      "\n",
      "\n",
      "\n",
      "  2%|▏         | 27/1500 [00:08<04:36,  5.33it/s]\u001b[A\u001b[A\u001b[A\u001b[A\u001b[A"
     ]
    },
    {
     "name": "stdout",
     "output_type": "stream",
     "text": [
      "(256, 256, 3)\n",
      "pred: [[516 604 648 752]\n",
      " [464 348 600 444]\n",
      " [360 340 496 468]]\n",
      "true: []\n"
     ]
    },
    {
     "name": "stderr",
     "output_type": "stream",
     "text": [
      "\n",
      "\n",
      "\n",
      "\n",
      "\n",
      "  2%|▏         | 28/1500 [00:08<04:41,  5.23it/s]\u001b[A\u001b[A\u001b[A\u001b[A\u001b[A"
     ]
    },
    {
     "name": "stdout",
     "output_type": "stream",
     "text": [
      "(256, 256, 3)\n",
      "pred: [[472 284 624 452]\n",
      " [376 372 484 448]\n",
      " [448 740 520 832]]\n",
      "true: []\n",
      "(256, 256, 3)\n"
     ]
    },
    {
     "name": "stderr",
     "output_type": "stream",
     "text": [
      "\n",
      "\n",
      "\n",
      "\n",
      "\n",
      "  2%|▏         | 29/1500 [00:08<05:01,  4.88it/s]\u001b[A\u001b[A\u001b[A\u001b[A\u001b[A"
     ]
    },
    {
     "name": "stdout",
     "output_type": "stream",
     "text": [
      "pred: [[516 228 772 408]\n",
      " [648 596 820 776]\n",
      " [392 152 556 272]]\n",
      "true: []\n",
      "(256, 256, 3)\n"
     ]
    },
    {
     "name": "stderr",
     "output_type": "stream",
     "text": [
      "\n",
      "\n",
      "\n",
      "\n",
      "\n",
      "  2%|▏         | 30/1500 [00:09<05:28,  4.48it/s]\u001b[A\u001b[A\u001b[A\u001b[A\u001b[A"
     ]
    },
    {
     "name": "stdout",
     "output_type": "stream",
     "text": [
      "pred: [[212 272 364 420]\n",
      " [336 616 488 720]]\n",
      "true: []\n",
      "(256, 256, 3)\n"
     ]
    },
    {
     "name": "stderr",
     "output_type": "stream",
     "text": [
      "\n",
      "\n",
      "\n",
      "\n",
      "\n",
      "  2%|▏         | 31/1500 [00:09<05:27,  4.49it/s]\u001b[A\u001b[A\u001b[A\u001b[A\u001b[A"
     ]
    },
    {
     "name": "stdout",
     "output_type": "stream",
     "text": [
      "pred: [[172 616 808 892]\n",
      " [596 276 800 472]]\n",
      "true: []\n",
      "(256, 256, 3)\n"
     ]
    },
    {
     "name": "stderr",
     "output_type": "stream",
     "text": [
      "\n",
      "\n",
      "\n",
      "\n",
      "\n",
      "  2%|▏         | 32/1500 [00:09<05:23,  4.53it/s]\u001b[A\u001b[A\u001b[A\u001b[A\u001b[A"
     ]
    },
    {
     "name": "stdout",
     "output_type": "stream",
     "text": [
      "pred: [[504 224 700 440]\n",
      " [252 596 740 868]]\n",
      "true: []\n",
      "(256, 256, 3)\n"
     ]
    },
    {
     "name": "stderr",
     "output_type": "stream",
     "text": [
      "\n",
      "\n",
      "\n",
      "\n",
      "\n",
      "  2%|▏         | 33/1500 [00:09<05:29,  4.46it/s]\u001b[A\u001b[A\u001b[A\u001b[A\u001b[A"
     ]
    },
    {
     "name": "stdout",
     "output_type": "stream",
     "text": [
      "pred: [[620 204 924 396]\n",
      " [676 616 868 796]\n",
      " [208 292 388 456]]\n",
      "true: []\n",
      "(256, 256, 3)\n"
     ]
    },
    {
     "name": "stderr",
     "output_type": "stream",
     "text": [
      "\n",
      "\n",
      "\n",
      "\n",
      "\n",
      "  2%|▏         | 34/1500 [00:10<05:28,  4.46it/s]\u001b[A\u001b[A\u001b[A\u001b[A\u001b[A"
     ]
    },
    {
     "name": "stdout",
     "output_type": "stream",
     "text": [
      "pred: [[480 244 628 436]\n",
      " [308 632 492 720]]\n",
      "true: []\n",
      "(256, 256, 3)\n"
     ]
    },
    {
     "name": "stderr",
     "output_type": "stream",
     "text": [
      "\n",
      "\n",
      "\n",
      "\n",
      "\n",
      "  2%|▏         | 35/1500 [00:10<05:37,  4.34it/s]\u001b[A\u001b[A\u001b[A\u001b[A\u001b[A"
     ]
    },
    {
     "name": "stdout",
     "output_type": "stream",
     "text": [
      "pred: [[364 600 664 868]\n",
      " [344 296 708 504]\n",
      " [668 176 780 328]]\n",
      "true: []\n",
      "(256, 256, 3)\n"
     ]
    },
    {
     "name": "stderr",
     "output_type": "stream",
     "text": [
      "\n",
      "\n",
      "\n",
      "\n",
      "\n",
      "  2%|▏         | 36/1500 [00:10<05:49,  4.19it/s]\u001b[A\u001b[A\u001b[A\u001b[A\u001b[A"
     ]
    },
    {
     "name": "stdout",
     "output_type": "stream",
     "text": [
      "pred: [[464 172 612 388]\n",
      " [620 720 740 880]\n",
      " [408 604 580 756]]\n",
      "true: []\n",
      "(256, 256, 3)\n"
     ]
    },
    {
     "name": "stderr",
     "output_type": "stream",
     "text": [
      "\n",
      "\n",
      "\n",
      "\n",
      "\n",
      "  2%|▏         | 37/1500 [00:10<05:39,  4.31it/s]\u001b[A\u001b[A\u001b[A\u001b[A\u001b[A"
     ]
    },
    {
     "name": "stdout",
     "output_type": "stream",
     "text": [
      "pred: [[524 152 720 404]\n",
      " [528 596 728 784]\n",
      " [416 576 572 712]]\n",
      "true: []\n",
      "(256, 256, 3)\n"
     ]
    },
    {
     "name": "stderr",
     "output_type": "stream",
     "text": [
      "\n",
      "\n",
      "\n",
      "\n",
      "\n",
      "  3%|▎         | 38/1500 [00:10<05:28,  4.45it/s]\u001b[A\u001b[A\u001b[A\u001b[A\u001b[A"
     ]
    },
    {
     "name": "stdout",
     "output_type": "stream",
     "text": [
      "pred: [[572 228 716 436]\n",
      " [600 636 760 792]\n",
      " [500 336 600 448]]\n",
      "true: []\n",
      "(256, 256, 3)\n"
     ]
    },
    {
     "name": "stderr",
     "output_type": "stream",
     "text": [
      "\n",
      "\n",
      "\n",
      "\n",
      "\n",
      "  3%|▎         | 39/1500 [00:11<05:32,  4.39it/s]\u001b[A\u001b[A\u001b[A\u001b[A\u001b[A"
     ]
    },
    {
     "name": "stdout",
     "output_type": "stream",
     "text": [
      "pred: [[336 568 820 808]\n",
      " [312 232 772 448]]\n",
      "true: [[ 64  64 166 117]\n",
      " [ 70 139 191 200]]\n",
      "(256, 256, 3)\n"
     ]
    },
    {
     "name": "stderr",
     "output_type": "stream",
     "text": [
      "\n",
      "\n",
      "\n",
      "\n",
      "\n",
      "  3%|▎         | 40/1500 [00:11<05:33,  4.38it/s]\u001b[A\u001b[A\u001b[A\u001b[A\u001b[A"
     ]
    },
    {
     "name": "stdout",
     "output_type": "stream",
     "text": [
      "pred: [[600 216 820 392]\n",
      " [536 624 828 832]\n",
      " [200 352 400 496]]\n",
      "true: []\n",
      "(256, 256, 3)\n"
     ]
    },
    {
     "name": "stderr",
     "output_type": "stream",
     "text": [
      "\n",
      "\n",
      "\n",
      "\n",
      "\n",
      "  3%|▎         | 41/1500 [00:11<05:38,  4.32it/s]\u001b[A\u001b[A\u001b[A\u001b[A\u001b[A\n",
      "\n",
      "\n",
      "\n",
      "\n",
      "  3%|▎         | 42/1500 [00:11<05:16,  4.60it/s]\u001b[A\u001b[A\u001b[A\u001b[A\u001b[A"
     ]
    },
    {
     "name": "stdout",
     "output_type": "stream",
     "text": [
      "pred: [[584 180 796 392]\n",
      " [432 624 628 752]\n",
      " [520 712 668 856]]\n",
      "true: []\n",
      "(256, 256, 3)\n",
      "pred: [[484 200 672 384]\n",
      " [500 572 716 804]\n",
      " [372 572 544 708]]\n",
      "true: []\n"
     ]
    },
    {
     "name": "stderr",
     "output_type": "stream",
     "text": [
      "\n",
      "\n",
      "\n",
      "\n",
      "\n",
      "  3%|▎         | 43/1500 [00:12<04:59,  4.87it/s]\u001b[A\u001b[A\u001b[A\u001b[A\u001b[A"
     ]
    },
    {
     "name": "stdout",
     "output_type": "stream",
     "text": [
      "(256, 256, 3)\n",
      "pred: [[644 740 764 852]\n",
      " [616 160 772 344]\n",
      " [228 596 320 756]]\n",
      "true: []\n",
      "(256, 256, 3)\n"
     ]
    },
    {
     "name": "stderr",
     "output_type": "stream",
     "text": [
      "\n",
      "\n",
      "\n",
      "\n",
      "\n",
      "  3%|▎         | 44/1500 [00:12<04:48,  5.04it/s]\u001b[A\u001b[A\u001b[A\u001b[A\u001b[A"
     ]
    },
    {
     "name": "stdout",
     "output_type": "stream",
     "text": [
      "pred: [[272 548 784 816]\n",
      " [480 136 720 344]\n",
      " [236 216 560 400]]\n",
      "true: [[ 55  61  93  88]\n",
      " [146  35 174  82]\n",
      " [ 93 147 181 201]]\n",
      "(256, 256, 3)\n"
     ]
    },
    {
     "name": "stderr",
     "output_type": "stream",
     "text": [
      "\n",
      "\n",
      "\n",
      "\n",
      "\n",
      "  3%|▎         | 45/1500 [00:12<04:57,  4.88it/s]\u001b[A\u001b[A\u001b[A\u001b[A\u001b[A"
     ]
    },
    {
     "name": "stdout",
     "output_type": "stream",
     "text": [
      "pred: [[556 220 744 424]\n",
      " [536 648 756 892]\n",
      " [372 324 560 464]]\n",
      "true: []\n",
      "(256, 256, 3)\n"
     ]
    },
    {
     "name": "stderr",
     "output_type": "stream",
     "text": [
      "\n",
      "\n",
      "\n",
      "\n",
      "\n",
      "  3%|▎         | 46/1500 [00:12<05:09,  4.69it/s]\u001b[A\u001b[A\u001b[A\u001b[A\u001b[A\n",
      "\n",
      "\n",
      "\n",
      "\n",
      "  3%|▎         | 47/1500 [00:12<04:58,  4.87it/s]\u001b[A\u001b[A\u001b[A\u001b[A\u001b[A"
     ]
    },
    {
     "name": "stdout",
     "output_type": "stream",
     "text": [
      "pred: [[368 164 860 408]\n",
      " [644 584 924 828]]\n",
      "true: []\n",
      "(256, 256, 3)\n",
      "pred: [[604 276 804 432]\n",
      " [440 348 608 456]\n",
      " [368 616 572 708]]\n",
      "true: []\n"
     ]
    },
    {
     "name": "stderr",
     "output_type": "stream",
     "text": [
      "\n",
      "\n",
      "\n",
      "\n",
      "\n",
      "  3%|▎         | 48/1500 [00:13<05:08,  4.71it/s]\u001b[A\u001b[A\u001b[A\u001b[A\u001b[A"
     ]
    },
    {
     "name": "stdout",
     "output_type": "stream",
     "text": [
      "(256, 256, 3)\n",
      "pred: [[252 628 864 892]\n",
      " [264 300 760 520]]\n",
      "true: []\n"
     ]
    },
    {
     "name": "stderr",
     "output_type": "stream",
     "text": [
      "\n",
      "\n",
      "\n",
      "\n",
      "\n"
     ]
    },
    {
     "name": "stdout",
     "output_type": "stream",
     "text": [
      "(256, 256, 3)\n",
      "pred: [[516 160 648 356]\n",
      " [456 588 632 808]\n",
      " [432 300 588 396]]\n",
      "true: []\n"
     ]
    },
    {
     "name": "stderr",
     "output_type": "stream",
     "text": [
      "  3%|▎         | 49/1500 [00:13<05:48,  4.17it/s]\u001b[A\u001b[A\u001b[A\u001b[A\u001b[A\n",
      "\n",
      "\n",
      "\n",
      "\n",
      "  3%|▎         | 50/1500 [00:13<05:53,  4.10it/s]\u001b[A\u001b[A\u001b[A\u001b[A\u001b[A"
     ]
    },
    {
     "name": "stdout",
     "output_type": "stream",
     "text": [
      "(256, 256, 3)\n",
      "pred: [[584 592 780 788]\n",
      " [576 216 784 424]\n",
      " [364 576 560 672]]\n",
      "true: []\n"
     ]
    },
    {
     "name": "stderr",
     "output_type": "stream",
     "text": [
      "\n",
      "\n",
      "\n",
      "\n",
      "\n",
      "  3%|▎         | 51/1500 [00:13<05:45,  4.19it/s]\u001b[A\u001b[A\u001b[A\u001b[A\u001b[A"
     ]
    },
    {
     "name": "stdout",
     "output_type": "stream",
     "text": [
      "(256, 256, 3)\n",
      "pred: [[500 556 788 776]\n",
      " [556 180 736 380]]\n",
      "true: [[131 129 211 204]\n",
      " [142  30 203 106]]\n",
      "(256, 256, 3)\n"
     ]
    },
    {
     "name": "stderr",
     "output_type": "stream",
     "text": [
      "\n",
      "\n",
      "\n",
      "\n",
      "\n",
      "  3%|▎         | 52/1500 [00:14<05:13,  4.62it/s]\u001b[A\u001b[A\u001b[A\u001b[A\u001b[A\n",
      "\n",
      "\n",
      "\n",
      "\n",
      "  4%|▎         | 53/1500 [00:14<04:59,  4.84it/s]\u001b[A\u001b[A\u001b[A\u001b[A\u001b[A"
     ]
    },
    {
     "name": "stdout",
     "output_type": "stream",
     "text": [
      "pred: [[512 580 716 824]\n",
      " [528 200 692 356]\n",
      " [216 620 336 716]]\n",
      "true: []\n",
      "(256, 256, 3)\n",
      "pred: [[216 584 544 780]\n",
      " [304 192 704 460]\n",
      " [656 192 928 416]]\n",
      "true: []\n"
     ]
    },
    {
     "name": "stderr",
     "output_type": "stream",
     "text": [
      "\n",
      "\n",
      "\n",
      "\n",
      "\n",
      "  4%|▎         | 54/1500 [00:14<04:52,  4.95it/s]\u001b[A\u001b[A\u001b[A\u001b[A\u001b[A"
     ]
    },
    {
     "name": "stdout",
     "output_type": "stream",
     "text": [
      "(256, 256, 3)\n",
      "pred: [[376 176 880 464]\n",
      " [368 580 876 812]]\n",
      "true: [[ 81 146 254 238]\n",
      " [ 85  35 251 123]]\n",
      "(256, 256, 3)\n"
     ]
    },
    {
     "name": "stderr",
     "output_type": "stream",
     "text": [
      "\n",
      "\n",
      "\n",
      "\n",
      "\n",
      "  4%|▎         | 55/1500 [00:14<04:33,  5.29it/s]\u001b[A\u001b[A\u001b[A\u001b[A\u001b[A\n",
      "\n",
      "\n",
      "\n",
      "\n",
      "  4%|▎         | 56/1500 [00:14<04:24,  5.46it/s]\u001b[A\u001b[A\u001b[A\u001b[A\u001b[A"
     ]
    },
    {
     "name": "stdout",
     "output_type": "stream",
     "text": [
      "pred: [[248 312 428 464]\n",
      " [688 244 904 400]\n",
      " [484 636 784 760]]\n",
      "true: []\n",
      "(256, 256, 3)\n",
      "pred: [[552 164 716 364]\n",
      " [668 580 824 792]\n",
      " [292 580 452 696]]\n",
      "true: []\n"
     ]
    },
    {
     "name": "stderr",
     "output_type": "stream",
     "text": [
      "\n",
      "\n",
      "\n",
      "\n",
      "\n",
      "  4%|▍         | 57/1500 [00:14<04:41,  5.13it/s]\u001b[A\u001b[A\u001b[A\u001b[A\u001b[A"
     ]
    },
    {
     "name": "stdout",
     "output_type": "stream",
     "text": [
      "(256, 256, 3)\n",
      "pred: [[288 592 800 916]\n",
      " [216 320 452 496]\n",
      " [596 232 760 448]]\n",
      "true: [[ 74 162 177 232]]\n"
     ]
    },
    {
     "name": "stderr",
     "output_type": "stream",
     "text": [
      "\n",
      "\n",
      "\n",
      "\n",
      "\n",
      "  4%|▍         | 58/1500 [00:15<04:40,  5.13it/s]\u001b[A\u001b[A\u001b[A\u001b[A\u001b[A"
     ]
    },
    {
     "name": "stdout",
     "output_type": "stream",
     "text": [
      "(256, 256, 3)\n",
      "pred: [[428 192 544 404]\n",
      " [420 604 688 820]\n",
      " [176 620 468 804]]\n",
      "true: [[102  50 133  99]]\n",
      "(256, 256, 3)\n"
     ]
    },
    {
     "name": "stderr",
     "output_type": "stream",
     "text": [
      "\n",
      "\n",
      "\n",
      "\n",
      "\n",
      "  4%|▍         | 59/1500 [00:15<04:38,  5.17it/s]\u001b[A\u001b[A\u001b[A\u001b[A\u001b[A\n",
      "\n",
      "\n",
      "\n",
      "\n",
      "  4%|▍         | 60/1500 [00:15<04:33,  5.27it/s]\u001b[A\u001b[A\u001b[A\u001b[A\u001b[A"
     ]
    },
    {
     "name": "stdout",
     "output_type": "stream",
     "text": [
      "pred: [[468 224 600 440]\n",
      " [488 740 608 856]\n",
      " [312 628 496 720]]\n",
      "true: []\n",
      "(256, 256, 3)\n",
      "pred: [[528 148 684 396]\n",
      " [540 692 688 876]]\n",
      "true: []\n"
     ]
    },
    {
     "name": "stderr",
     "output_type": "stream",
     "text": [
      "\n",
      "\n",
      "\n",
      "\n",
      "\n",
      "  4%|▍         | 61/1500 [00:15<04:27,  5.38it/s]\u001b[A\u001b[A\u001b[A\u001b[A\u001b[A"
     ]
    },
    {
     "name": "stdout",
     "output_type": "stream",
     "text": [
      "(256, 256, 3)\n",
      "pred: [[568 232 720 436]\n",
      " [320 628 552 744]\n",
      " [588 628 760 792]]\n",
      "true: []\n",
      "(256, 256, 3)\n"
     ]
    },
    {
     "name": "stderr",
     "output_type": "stream",
     "text": [
      "\n",
      "\n",
      "\n",
      "\n",
      "\n",
      "  4%|▍         | 62/1500 [00:15<04:29,  5.34it/s]\u001b[A\u001b[A\u001b[A\u001b[A\u001b[A\n",
      "\n",
      "\n",
      "\n",
      "\n",
      "  4%|▍         | 63/1500 [00:16<04:22,  5.47it/s]\u001b[A\u001b[A\u001b[A\u001b[A\u001b[A"
     ]
    },
    {
     "name": "stdout",
     "output_type": "stream",
     "text": [
      "pred: [[320 172 720 404]\n",
      " [408 600 788 804]]\n",
      "true: [[ 23  42 188 113]\n",
      " [ 83 149 223 210]]\n",
      "(256, 256, 3)\n",
      "pred: [[468 604 644 744]\n",
      " [336 596 496 724]\n",
      " [548 248 648 436]]\n",
      "true: []\n"
     ]
    },
    {
     "name": "stderr",
     "output_type": "stream",
     "text": [
      "\n",
      "\n",
      "\n",
      "\n",
      "\n",
      "  4%|▍         | 64/1500 [00:16<04:16,  5.60it/s]\u001b[A\u001b[A\u001b[A\u001b[A\u001b[A"
     ]
    },
    {
     "name": "stdout",
     "output_type": "stream",
     "text": [
      "(256, 256, 3)\n",
      "pred: [[608 156 780 384]\n",
      " [216 132 420 324]\n",
      " [716 556 888 736]]\n",
      "true: []\n",
      "(256, 256, 3)\n"
     ]
    },
    {
     "name": "stderr",
     "output_type": "stream",
     "text": [
      "\n",
      "\n",
      "\n",
      "\n",
      "\n",
      "  4%|▍         | 65/1500 [00:16<04:40,  5.11it/s]\u001b[A\u001b[A\u001b[A\u001b[A\u001b[A\n",
      "\n",
      "\n",
      "\n",
      "\n",
      "  4%|▍         | 66/1500 [00:16<04:39,  5.14it/s]\u001b[A\u001b[A\u001b[A\u001b[A\u001b[A"
     ]
    },
    {
     "name": "stdout",
     "output_type": "stream",
     "text": [
      "pred: [[292 128 668 408]\n",
      " [328 608 616 860]]\n",
      "true: []\n",
      "(256, 256, 3)\n",
      "pred: [[264 248 624 464]\n",
      " [588 596 796 836]\n",
      " [556 216 712 376]]\n",
      "true: []\n"
     ]
    },
    {
     "name": "stderr",
     "output_type": "stream",
     "text": [
      "\n",
      "\n",
      "\n",
      "\n",
      "\n",
      "  4%|▍         | 67/1500 [00:16<04:38,  5.14it/s]\u001b[A\u001b[A\u001b[A\u001b[A\u001b[A"
     ]
    },
    {
     "name": "stdout",
     "output_type": "stream",
     "text": [
      "(256, 256, 3)\n",
      "pred: [[552 316 648 416]\n",
      " [472 716 672 920]\n",
      " [396 636 584 736]]\n",
      "true: []\n",
      "(256, 256, 3)\n"
     ]
    },
    {
     "name": "stderr",
     "output_type": "stream",
     "text": [
      "\n",
      "\n",
      "\n",
      "\n",
      "\n",
      "  5%|▍         | 68/1500 [00:16<04:21,  5.48it/s]\u001b[A\u001b[A\u001b[A\u001b[A\u001b[A\n",
      "\n",
      "\n",
      "\n",
      "\n",
      "  5%|▍         | 69/1500 [00:17<04:10,  5.72it/s]\u001b[A\u001b[A\u001b[A\u001b[A\u001b[A"
     ]
    },
    {
     "name": "stdout",
     "output_type": "stream",
     "text": [
      "pred: [[428 740 508 836]\n",
      " [512 208 684 472]\n",
      " [368 324 516 456]]\n",
      "true: [[129  49 179 124]]\n",
      "(256, 256, 3)\n",
      "pred: [[372 244 496 408]\n",
      " [388 688 516 788]\n",
      " [380 808 468 888]]\n",
      "true: []\n"
     ]
    },
    {
     "name": "stderr",
     "output_type": "stream",
     "text": [
      "\n",
      "\n",
      "\n",
      "\n",
      "\n",
      "  5%|▍         | 70/1500 [00:17<04:09,  5.74it/s]\u001b[A\u001b[A\u001b[A\u001b[A\u001b[A"
     ]
    },
    {
     "name": "stdout",
     "output_type": "stream",
     "text": [
      "(256, 256, 3)\n",
      "pred: [[676 624 856 788]\n",
      " [644 256 852 412]\n",
      " [512 324 676 420]]\n",
      "true: []\n",
      "(256, 256, 3)\n"
     ]
    },
    {
     "name": "stderr",
     "output_type": "stream",
     "text": [
      "\n",
      "\n",
      "\n",
      "\n",
      "\n",
      "  5%|▍         | 71/1500 [00:17<04:06,  5.79it/s]\u001b[A\u001b[A\u001b[A\u001b[A\u001b[A\n",
      "\n",
      "\n",
      "\n",
      "\n",
      "  5%|▍         | 72/1500 [00:17<04:04,  5.85it/s]\u001b[A\u001b[A\u001b[A\u001b[A\u001b[A"
     ]
    },
    {
     "name": "stdout",
     "output_type": "stream",
     "text": [
      "pred: [[492 244 696 408]\n",
      " [600 584 736 720]\n",
      " [464 580 620 720]]\n",
      "true: []\n",
      "(256, 256, 3)\n",
      "pred: [[304 600 432 716]\n",
      " [420 596 584 756]\n",
      " [464 196 576 392]]\n",
      "true: []\n"
     ]
    },
    {
     "name": "stderr",
     "output_type": "stream",
     "text": [
      "\n",
      "\n",
      "\n",
      "\n",
      "\n",
      "  5%|▍         | 73/1500 [00:17<04:20,  5.49it/s]\u001b[A\u001b[A\u001b[A\u001b[A\u001b[A"
     ]
    },
    {
     "name": "stdout",
     "output_type": "stream",
     "text": [
      "(256, 256, 3)\n",
      "pred: [[532 244 780 452]\n",
      " [428 624 580 732]]\n",
      "true: []\n",
      "(256, 256, 3)\n"
     ]
    },
    {
     "name": "stderr",
     "output_type": "stream",
     "text": [
      "\n",
      "\n",
      "\n",
      "\n",
      "\n",
      "  5%|▍         | 74/1500 [00:18<04:10,  5.69it/s]\u001b[A\u001b[A\u001b[A\u001b[A\u001b[A\n",
      "\n",
      "\n",
      "\n",
      "\n",
      "  5%|▌         | 75/1500 [00:18<04:15,  5.57it/s]"
     ]
    },
    {
     "name": "stdout",
     "output_type": "stream",
     "text": [
      "pred: [[312 664 452 812]\n",
      " [188 612 324 744]\n",
      " [648 752 736 852]]\n",
      "true: [[ 78 153 120 202]]\n",
      "(256, 256, 3)\n",
      "pred: [[504 296 660 472]\n",
      " [188 372 328 512]\n",
      " [548 772 652 904]]\n",
      "true: []\n"
     ]
    },
    {
     "name": "stderr",
     "output_type": "stream",
     "text": [
      "\u001b[A\u001b[A\u001b[A\u001b[A\u001b[A\n",
      "\n",
      "\n",
      "\n",
      "\n",
      "  5%|▌         | 76/1500 [00:18<04:19,  5.49it/s]\u001b[A\u001b[A\u001b[A\u001b[A\u001b[A"
     ]
    },
    {
     "name": "stdout",
     "output_type": "stream",
     "text": [
      "(256, 256, 3)\n",
      "pred: [[336 596 472 692]\n",
      " [368 288 576 424]\n",
      " [528 672 688 848]]\n",
      "true: []\n",
      "(256, 256, 3)\n"
     ]
    },
    {
     "name": "stderr",
     "output_type": "stream",
     "text": [
      "\n",
      "\n",
      "\n",
      "\n",
      "\n",
      "  5%|▌         | 77/1500 [00:18<04:16,  5.54it/s]\u001b[A\u001b[A\u001b[A\u001b[A\u001b[A\n",
      "\n",
      "\n",
      "\n",
      "\n",
      "  5%|▌         | 78/1500 [00:18<04:17,  5.53it/s]\u001b[A\u001b[A\u001b[A\u001b[A\u001b[A"
     ]
    },
    {
     "name": "stdout",
     "output_type": "stream",
     "text": [
      "pred: [[560 676 808 888]\n",
      " [656 176 868 396]]\n",
      "true: [[171  47 209  94]]\n",
      "(256, 256, 3)\n",
      "pred: [[592 592 804 820]\n",
      " [588 196 772 352]]\n",
      "true: []\n"
     ]
    },
    {
     "name": "stderr",
     "output_type": "stream",
     "text": [
      "\n",
      "\n",
      "\n",
      "\n",
      "\n",
      "  5%|▌         | 79/1500 [00:18<04:23,  5.39it/s]\u001b[A\u001b[A\u001b[A\u001b[A\u001b[A"
     ]
    },
    {
     "name": "stdout",
     "output_type": "stream",
     "text": [
      "(256, 256, 3)\n",
      "pred: [[356 592 748 824]\n",
      " [312 244 712 476]]\n",
      "true: []\n"
     ]
    },
    {
     "name": "stderr",
     "output_type": "stream",
     "text": [
      "\n",
      "\n",
      "\n",
      "\n",
      "\n",
      "  5%|▌         | 80/1500 [00:19<04:22,  5.41it/s]\u001b[A\u001b[A\u001b[A\u001b[A\u001b[A"
     ]
    },
    {
     "name": "stdout",
     "output_type": "stream",
     "text": [
      "(256, 256, 3)\n",
      "pred: [[492 604 656 768]\n",
      " [496 216 644 400]\n",
      " [188 260 428 452]]\n",
      "true: [[140  65 164  94]]\n",
      "(256, 256, 3)\n"
     ]
    },
    {
     "name": "stderr",
     "output_type": "stream",
     "text": [
      "\n",
      "\n",
      "\n",
      "\n",
      "\n",
      "  5%|▌         | 81/1500 [00:19<04:14,  5.58it/s]\u001b[A\u001b[A\u001b[A\u001b[A\u001b[A"
     ]
    },
    {
     "name": "stdout",
     "output_type": "stream",
     "text": [
      "pred: [[460 208 636 364]\n",
      " [556 584 724 824]\n",
      " [464 604 600 716]]\n",
      "true: []\n",
      "(256, 256, 3)\n",
      "pred:"
     ]
    },
    {
     "name": "stderr",
     "output_type": "stream",
     "text": [
      "\n",
      "\n",
      "\n",
      "\n",
      "\n",
      "  5%|▌         | 82/1500 [00:19<04:24,  5.36it/s]\u001b[A\u001b[A\u001b[A\u001b[A\u001b[A\n",
      "\n",
      "\n",
      "\n",
      "\n"
     ]
    },
    {
     "name": "stdout",
     "output_type": "stream",
     "text": [
      " [[500 176 692 364]\n",
      " [592 532 764 716]\n",
      " [516 588 632 696]]\n",
      "true: []\n",
      "(256, 256, 3)\n",
      "pred: [[512 172 884 412]\n",
      " [588 616 900 896]\n",
      " [128 568 304 748]]\n",
      "true: []\n"
     ]
    },
    {
     "name": "stderr",
     "output_type": "stream",
     "text": [
      "  6%|▌         | 83/1500 [00:19<04:29,  5.26it/s]\u001b[A\u001b[A\u001b[A\u001b[A\u001b[A\n",
      "\n",
      "\n",
      "\n",
      "\n",
      "  6%|▌         | 84/1500 [00:19<04:40,  5.05it/s]\u001b[A\u001b[A\u001b[A\u001b[A\u001b[A"
     ]
    },
    {
     "name": "stdout",
     "output_type": "stream",
     "text": [
      "(256, 256, 3)\n",
      "pred: [[368 552 784 772]\n",
      " [560 228 784 400]]\n",
      "true: []\n"
     ]
    },
    {
     "name": "stderr",
     "output_type": "stream",
     "text": [
      "\n",
      "\n",
      "\n",
      "\n",
      "\n",
      "  6%|▌         | 85/1500 [00:20<04:36,  5.13it/s]\u001b[A\u001b[A\u001b[A\u001b[A\u001b[A"
     ]
    },
    {
     "name": "stdout",
     "output_type": "stream",
     "text": [
      "(256, 256, 3)\n",
      "pred: [[332 252 440 408]\n",
      " [464 628 624 784]\n",
      " [432 208 584 396]]\n",
      "true: [[ 82  65 115 103]]\n",
      "(256, 256, 3)\n"
     ]
    },
    {
     "name": "stderr",
     "output_type": "stream",
     "text": [
      "\n",
      "\n",
      "\n",
      "\n",
      "\n",
      "  6%|▌         | 86/1500 [00:20<04:32,  5.19it/s]\u001b[A\u001b[A\u001b[A\u001b[A\u001b[A\n",
      "\n",
      "\n",
      "\n",
      "\n",
      "  6%|▌         | 87/1500 [00:20<04:33,  5.16it/s]\u001b[A\u001b[A\u001b[A\u001b[A\u001b[A"
     ]
    },
    {
     "name": "stdout",
     "output_type": "stream",
     "text": [
      "pred: [[508 236 664 404]\n",
      " [480 580 708 820]]\n",
      "true: []\n",
      "(256, 256, 3)\n",
      "pred: [[344 576 728 760]\n",
      " [464 304 668 448]]\n",
      "true: [[ 61 135 200 204]\n",
      " [ 65  61 192 127]]\n"
     ]
    },
    {
     "name": "stderr",
     "output_type": "stream",
     "text": [
      "\n",
      "\n",
      "\n",
      "\n",
      "\n",
      "  6%|▌         | 88/1500 [00:20<04:12,  5.59it/s]\u001b[A\u001b[A\u001b[A\u001b[A\u001b[A"
     ]
    },
    {
     "name": "stdout",
     "output_type": "stream",
     "text": [
      "(256, 256, 3)\n",
      "pred: [[540 636 688 804]\n",
      " [468 276 616 432]]\n",
      "true: []\n",
      "(256, 256, 3)\n"
     ]
    },
    {
     "name": "stderr",
     "output_type": "stream",
     "text": [
      "\n",
      "\n",
      "\n",
      "\n",
      "\n",
      "  6%|▌         | 89/1500 [00:20<04:15,  5.52it/s]\u001b[A\u001b[A\u001b[A\u001b[A\u001b[A\n",
      "\n",
      "\n",
      "\n",
      "\n",
      "  6%|▌         | 90/1500 [00:21<04:11,  5.61it/s]\u001b[A\u001b[A\u001b[A\u001b[A\u001b[A"
     ]
    },
    {
     "name": "stdout",
     "output_type": "stream",
     "text": [
      "pred: [[596 140 820 352]\n",
      " [596 580 792 808]]\n",
      "true: []\n",
      "(256, 256, 3)\n",
      "pred: [[524 212 652 396]\n",
      " [516 584 636 672]\n",
      " [508 668 592 780]]\n",
      "true: []\n"
     ]
    },
    {
     "name": "stderr",
     "output_type": "stream",
     "text": [
      "\n",
      "\n",
      "\n",
      "\n",
      "\n",
      "  6%|▌         | 91/1500 [00:21<04:24,  5.32it/s]\u001b[A\u001b[A\u001b[A\u001b[A\u001b[A"
     ]
    },
    {
     "name": "stdout",
     "output_type": "stream",
     "text": [
      "(256, 256, 3)\n",
      "pred: [[112 576 540 784]\n",
      " [584 564 852 808]\n",
      " [304 120 816 376]]\n",
      "true: []\n"
     ]
    },
    {
     "name": "stderr",
     "output_type": "stream",
     "text": [
      "\n",
      "\n",
      "\n",
      "\n",
      "\n",
      "  6%|▌         | 92/1500 [00:21<05:02,  4.66it/s]\u001b[A\u001b[A\u001b[A\u001b[A\u001b[A"
     ]
    },
    {
     "name": "stdout",
     "output_type": "stream",
     "text": [
      "(256, 256, 3)\n",
      "pred: [[364 244 772 484]\n",
      " [564 588 828 780]]\n",
      "true: []\n"
     ]
    },
    {
     "name": "stderr",
     "output_type": "stream",
     "text": [
      "\n",
      "\n",
      "\n",
      "\n",
      "\n",
      "  6%|▌         | 93/1500 [00:21<04:55,  4.76it/s]\u001b[A\u001b[A\u001b[A\u001b[A\u001b[A"
     ]
    },
    {
     "name": "stdout",
     "output_type": "stream",
     "text": [
      "(256, 256, 3)\n",
      "pred: [[488 244 652 408]\n",
      " [496 628 652 712]]\n",
      "true: []\n",
      "(256, 256, 3)\n"
     ]
    },
    {
     "name": "stderr",
     "output_type": "stream",
     "text": [
      "\n",
      "\n",
      "\n",
      "\n",
      "\n",
      "  6%|▋         | 94/1500 [00:21<04:30,  5.20it/s]\u001b[A\u001b[A\u001b[A\u001b[A\u001b[A\n",
      "\n",
      "\n",
      "\n",
      "\n",
      "  6%|▋         | 95/1500 [00:22<04:32,  5.15it/s]"
     ]
    },
    {
     "name": "stdout",
     "output_type": "stream",
     "text": [
      "pred: [[220 360 304 456]\n",
      " [440 312 552 440]\n",
      " [556 672 656 756]]\n",
      "true: []\n",
      "(256, 256, 3)\n",
      "pred: [[460 288 668 440]\n",
      " [472 604 680 756]]\n",
      "true: []\n"
     ]
    },
    {
     "name": "stderr",
     "output_type": "stream",
     "text": [
      "\u001b[A\u001b[A\u001b[A\u001b[A\u001b[A\n",
      "\n",
      "\n",
      "\n",
      "\n",
      "  6%|▋         | 96/1500 [00:22<05:01,  4.66it/s]\u001b[A\u001b[A\u001b[A\u001b[A\u001b[A"
     ]
    },
    {
     "name": "stdout",
     "output_type": "stream",
     "text": [
      "(256, 256, 3)\n",
      "pred: [[348 116 596 340]\n",
      " [ 88 572 412 756]\n",
      " [448 564 680 824]]\n",
      "true: []\n"
     ]
    },
    {
     "name": "stderr",
     "output_type": "stream",
     "text": [
      "\n",
      "\n",
      "\n",
      "\n",
      "\n",
      "  6%|▋         | 97/1500 [00:22<05:13,  4.48it/s]\u001b[A\u001b[A\u001b[A\u001b[A\u001b[A"
     ]
    },
    {
     "name": "stdout",
     "output_type": "stream",
     "text": [
      "(256, 256, 3)\n",
      "pred: [[188 560 320 696]\n",
      " [544 248 664 388]\n",
      " [556 560 748 752]]\n",
      "true: []\n"
     ]
    },
    {
     "name": "stderr",
     "output_type": "stream",
     "text": [
      "\n",
      "\n",
      "\n",
      "\n",
      "\n",
      "  7%|▋         | 98/1500 [00:22<05:17,  4.41it/s]\u001b[A\u001b[A\u001b[A\u001b[A\u001b[A"
     ]
    },
    {
     "name": "stdout",
     "output_type": "stream",
     "text": [
      "(256, 256, 3)\n",
      "pred: [[560 188 732 360]\n",
      " [556 588 764 800]\n",
      " [512 328 680 420]]\n",
      "true: []\n"
     ]
    },
    {
     "name": "stderr",
     "output_type": "stream",
     "text": [
      "\n",
      "\n",
      "\n",
      "\n",
      "\n",
      "  7%|▋         | 99/1500 [00:22<05:03,  4.61it/s]\u001b[A\u001b[A\u001b[A\u001b[A\u001b[A"
     ]
    },
    {
     "name": "stdout",
     "output_type": "stream",
     "text": [
      "(256, 256, 3)\n",
      "pred: [[476 544 664 772]\n",
      " [484 204 600 384]]\n",
      "true: []\n",
      "(256, 256, 3)\n"
     ]
    },
    {
     "name": "stderr",
     "output_type": "stream",
     "text": [
      "\n",
      "\n",
      "\n",
      "\n",
      "\n",
      "  7%|▋         | 100/1500 [00:23<04:43,  4.94it/s]\u001b[A\u001b[A\u001b[A\u001b[A\u001b[A\n",
      "\n",
      "\n",
      "\n",
      "\n",
      "  7%|▋         | 101/1500 [00:23<04:26,  5.24it/s]\u001b[A\u001b[A\u001b[A\u001b[A\u001b[A"
     ]
    },
    {
     "name": "stdout",
     "output_type": "stream",
     "text": [
      "pred: [[632 204 764 420]\n",
      " [620 636 824 896]\n",
      " [476 336 668 444]]\n",
      "true: []\n",
      "(256, 256, 3)\n",
      "pred: [[396 304 672 528]\n",
      " [404 648 732 888]\n",
      " [348  76 752 252]]\n",
      "true: []\n"
     ]
    },
    {
     "name": "stderr",
     "output_type": "stream",
     "text": [
      "\n",
      "\n",
      "\n",
      "\n",
      "\n",
      "  7%|▋         | 102/1500 [00:23<04:14,  5.49it/s]\u001b[A\u001b[A\u001b[A\u001b[A\u001b[A"
     ]
    },
    {
     "name": "stdout",
     "output_type": "stream",
     "text": [
      "(256, 256, 3)\n",
      "pred: [[412 272 588 420]\n",
      " [480 588 652 820]\n",
      " [236 368 448 460]]\n",
      "true: []\n",
      "(256, 256, 3)\n"
     ]
    },
    {
     "name": "stderr",
     "output_type": "stream",
     "text": [
      "\n",
      "\n",
      "\n",
      "\n",
      "\n",
      "  7%|▋         | 103/1500 [00:23<04:12,  5.54it/s]\u001b[A\u001b[A\u001b[A\u001b[A\u001b[A\n",
      "\n",
      "\n",
      "\n",
      "\n"
     ]
    },
    {
     "name": "stdout",
     "output_type": "stream",
     "text": [
      "pred: [[536 184 692 424]\n",
      " [480 692 744 932]]\n",
      "true: []\n",
      "(256, 256, 3)\n",
      "pred: [[576 240 760 420]\n",
      " [512 616 800 864]\n",
      " [380 228 524 380]]\n",
      "true: [[ 74  61 186 120]]\n"
     ]
    },
    {
     "name": "stderr",
     "output_type": "stream",
     "text": [
      "  7%|▋         | 104/1500 [00:23<04:21,  5.35it/s]\u001b[A\u001b[A\u001b[A\u001b[A\u001b[A\n",
      "\n",
      "\n",
      "\n",
      "\n",
      "  7%|▋         | 105/1500 [00:24<04:56,  4.71it/s]\u001b[A\u001b[A\u001b[A\u001b[A\u001b[A"
     ]
    },
    {
     "name": "stdout",
     "output_type": "stream",
     "text": [
      "(256, 256, 3)\n",
      "pred: [[480 196 676 408]\n",
      " [244 352 432 456]\n",
      " [480 628 676 784]]\n",
      "true: []\n"
     ]
    },
    {
     "name": "stderr",
     "output_type": "stream",
     "text": [
      "\n",
      "\n",
      "\n",
      "\n",
      "\n",
      "  7%|▋         | 106/1500 [00:24<05:22,  4.32it/s]\u001b[A\u001b[A\u001b[A\u001b[A\u001b[A"
     ]
    },
    {
     "name": "stdout",
     "output_type": "stream",
     "text": [
      "(256, 256, 3)\n",
      "pred: [[376 156 660 392]\n",
      " [288 548 676 792]]\n",
      "true: [[ 47  39 159  98]\n",
      " [ 42 136 184 207]]\n"
     ]
    },
    {
     "name": "stderr",
     "output_type": "stream",
     "text": [
      "\n",
      "\n",
      "\n",
      "\n",
      "\n",
      "  7%|▋         | 107/1500 [00:24<05:32,  4.18it/s]\u001b[A\u001b[A\u001b[A\u001b[A\u001b[A"
     ]
    },
    {
     "name": "stdout",
     "output_type": "stream",
     "text": [
      "(256, 256, 3)\n",
      "pred: [[244 140 660 396]\n",
      " [376 544 652 768]]\n",
      "true: []\n"
     ]
    },
    {
     "name": "stderr",
     "output_type": "stream",
     "text": [
      "\n",
      "\n",
      "\n",
      "\n",
      "\n",
      "  7%|▋         | 108/1500 [00:24<05:31,  4.20it/s]\u001b[A\u001b[A\u001b[A\u001b[A\u001b[A"
     ]
    },
    {
     "name": "stdout",
     "output_type": "stream",
     "text": [
      "(256, 256, 3)\n",
      "pred: [[560 100 800 372]\n",
      " [600 596 768 804]\n",
      " [456 264 640 404]]\n",
      "true: []\n"
     ]
    },
    {
     "name": "stderr",
     "output_type": "stream",
     "text": [
      "\n",
      "\n",
      "\n",
      "\n",
      "\n",
      "  7%|▋         | 109/1500 [00:25<05:41,  4.07it/s]\u001b[A\u001b[A\u001b[A\u001b[A\u001b[A"
     ]
    },
    {
     "name": "stdout",
     "output_type": "stream",
     "text": [
      "(256, 256, 3)\n",
      "pred: [[268 520 732 732]\n",
      " [268 176 708 408]]\n",
      "true: [[ 47  36 174  96]\n",
      " [ 49 130 185 190]]\n"
     ]
    },
    {
     "name": "stderr",
     "output_type": "stream",
     "text": [
      "\n",
      "\n",
      "\n",
      "\n",
      "\n",
      "  7%|▋         | 110/1500 [00:25<06:07,  3.79it/s]\u001b[A\u001b[A\u001b[A\u001b[A\u001b[A"
     ]
    },
    {
     "name": "stdout",
     "output_type": "stream",
     "text": [
      "(256, 256, 3)\n",
      "pred: [[288 428 676 704]\n",
      " [252 128 668 352]]\n",
      "true: [[ 71 123 157 190]\n",
      " [125  28 165  83]]\n"
     ]
    },
    {
     "name": "stderr",
     "output_type": "stream",
     "text": [
      "\n",
      "\n",
      "\n",
      "\n",
      "\n",
      "  7%|▋         | 111/1500 [00:25<06:26,  3.59it/s]\u001b[A\u001b[A\u001b[A\u001b[A\u001b[A"
     ]
    },
    {
     "name": "stdout",
     "output_type": "stream",
     "text": [
      "(256, 256, 3)\n",
      "pred: [[488 224 680 416]\n",
      " [472 656 568 792]\n",
      " [452 324 524 404]]\n",
      "true: []\n"
     ]
    },
    {
     "name": "stderr",
     "output_type": "stream",
     "text": [
      "\n",
      "\n",
      "\n",
      "\n",
      "\n",
      "  7%|▋         | 112/1500 [00:25<05:52,  3.94it/s]\u001b[A\u001b[A\u001b[A\u001b[A\u001b[A"
     ]
    },
    {
     "name": "stdout",
     "output_type": "stream",
     "text": [
      "(256, 256, 3)\n",
      "pred: [[484 272 700 436]\n",
      " [520 640 760 848]\n",
      " [220 632 368 792]]\n",
      "true: []\n"
     ]
    },
    {
     "name": "stderr",
     "output_type": "stream",
     "text": [
      "\n",
      "\n",
      "\n",
      "\n",
      "\n",
      "  8%|▊         | 113/1500 [00:26<05:46,  4.00it/s]\u001b[A\u001b[A\u001b[A\u001b[A\u001b[A"
     ]
    },
    {
     "name": "stdout",
     "output_type": "stream",
     "text": [
      "(256, 256, 3)\n",
      "pred: [[412 576 736 824]\n",
      " [444 280 656 424]\n",
      " [140 312 292 452]]\n",
      "true: []\n"
     ]
    },
    {
     "name": "stderr",
     "output_type": "stream",
     "text": [
      "\n",
      "\n",
      "\n",
      "\n",
      "\n",
      "  8%|▊         | 114/1500 [00:26<05:35,  4.13it/s]\u001b[A\u001b[A\u001b[A\u001b[A\u001b[A"
     ]
    },
    {
     "name": "stdout",
     "output_type": "stream",
     "text": [
      "(256, 256, 3)\n",
      "pred: [[504 272 668 432]\n",
      " [572 608 700 748]\n",
      " [468 388 568 464]]\n",
      "true: []\n"
     ]
    },
    {
     "name": "stderr",
     "output_type": "stream",
     "text": [
      "\n",
      "\n",
      "\n",
      "\n",
      "\n",
      "  8%|▊         | 115/1500 [00:26<05:22,  4.29it/s]\u001b[A\u001b[A\u001b[A\u001b[A\u001b[A"
     ]
    },
    {
     "name": "stdout",
     "output_type": "stream",
     "text": [
      "(256, 256, 3)\n",
      "pred: [[492 368 664 492]\n",
      " [348 432 536 528]\n",
      " [540 660 676 772]]\n",
      "true: []\n",
      "(256, 256, 3)\n"
     ]
    },
    {
     "name": "stderr",
     "output_type": "stream",
     "text": [
      "\n",
      "\n",
      "\n",
      "\n",
      "\n",
      "  8%|▊         | 116/1500 [00:26<05:03,  4.56it/s]\u001b[A\u001b[A\u001b[A\u001b[A\u001b[A\n",
      "\n",
      "\n",
      "\n",
      "\n",
      "  8%|▊         | 117/1500 [00:27<04:48,  4.80it/s]\u001b[A\u001b[A\u001b[A\u001b[A\u001b[A"
     ]
    },
    {
     "name": "stdout",
     "output_type": "stream",
     "text": [
      "pred: [[544 660 768 888]\n",
      " [556 252 728 476]\n",
      " [412 664 564 804]]\n",
      "true: []\n",
      "(256, 256, 3)\n",
      "pred: [[620 596 892 808]\n",
      " [608 168 844 384]\n",
      " [308 552 468 672]]\n",
      "true: []\n"
     ]
    },
    {
     "name": "stderr",
     "output_type": "stream",
     "text": [
      "\n",
      "\n",
      "\n",
      "\n",
      "\n",
      "  8%|▊         | 118/1500 [00:27<04:56,  4.66it/s]\u001b[A\u001b[A\u001b[A\u001b[A\u001b[A"
     ]
    },
    {
     "name": "stdout",
     "output_type": "stream",
     "text": [
      "(256, 256, 3)\n",
      "pred: [[232 572 704 816]\n",
      " [204 196 664 432]]\n",
      "true: []\n"
     ]
    },
    {
     "name": "stderr",
     "output_type": "stream",
     "text": [
      "\n",
      "\n",
      "\n",
      "\n",
      "\n",
      "  8%|▊         | 119/1500 [00:27<05:06,  4.51it/s]\u001b[A\u001b[A\u001b[A\u001b[A\u001b[A"
     ]
    },
    {
     "name": "stdout",
     "output_type": "stream",
     "text": [
      "(256, 256, 3)\n",
      "pred: [[516 572 708 804]\n",
      " [240 108 392 224]]\n",
      "true: []\n",
      "(256, 256, 3)\n"
     ]
    },
    {
     "name": "stderr",
     "output_type": "stream",
     "text": [
      "\n",
      "\n",
      "\n",
      "\n",
      "\n",
      "  8%|▊         | 120/1500 [00:27<05:05,  4.52it/s]\u001b[A\u001b[A\u001b[A\u001b[A\u001b[A"
     ]
    },
    {
     "name": "stdout",
     "output_type": "stream",
     "text": [
      "pred: [[400 128 588 388]\n",
      " [200 544 572 784]]\n",
      "true: []\n",
      "(256, 256, 3)\n"
     ]
    },
    {
     "name": "stderr",
     "output_type": "stream",
     "text": [
      "\n",
      "\n",
      "\n",
      "\n",
      "\n",
      "  8%|▊         | 121/1500 [00:27<05:07,  4.49it/s]\u001b[A\u001b[A\u001b[A\u001b[A\u001b[A"
     ]
    },
    {
     "name": "stdout",
     "output_type": "stream",
     "text": [
      "pred: [[460 632 708 880]\n",
      " [484 200 692 404]\n",
      " [184 324 356 472]]\n",
      "true: []\n",
      "(256, 256, 3)\n"
     ]
    },
    {
     "name": "stderr",
     "output_type": "stream",
     "text": [
      "\n",
      "\n",
      "\n",
      "\n",
      "\n",
      "  8%|▊         | 122/1500 [00:28<05:11,  4.43it/s]\u001b[A\u001b[A\u001b[A\u001b[A\u001b[A"
     ]
    },
    {
     "name": "stdout",
     "output_type": "stream",
     "text": [
      "pred: [[392 752 680 948]\n",
      " [676 400 816 568]\n",
      " [568 428 696 580]]\n",
      "true: [[102 198 166 238]\n",
      " [143  96 203 138]]\n",
      "(256, 256, 3)\n"
     ]
    },
    {
     "name": "stderr",
     "output_type": "stream",
     "text": [
      "\n",
      "\n",
      "\n",
      "\n",
      "\n",
      "  8%|▊         | 123/1500 [00:28<05:27,  4.21it/s]\u001b[A\u001b[A\u001b[A\u001b[A\u001b[A"
     ]
    },
    {
     "name": "stdout",
     "output_type": "stream",
     "text": [
      "pred: [[272 556 820 852]\n",
      " [324 256 500 392]\n",
      " [548 152 760 364]]\n",
      "true: [[ 57 151 113 190]\n",
      " [142 158 186 207]\n",
      " [ 60  53 119  95]\n",
      " [153  42 182  82]]\n",
      "(256, 256, 3)\n"
     ]
    },
    {
     "name": "stderr",
     "output_type": "stream",
     "text": [
      "\n",
      "\n",
      "\n",
      "\n",
      "\n",
      "  8%|▊         | 124/1500 [00:28<05:15,  4.36it/s]\u001b[A\u001b[A\u001b[A\u001b[A\u001b[A\n",
      "\n",
      "\n",
      "\n",
      "\n",
      "  8%|▊         | 125/1500 [00:28<04:44,  4.84it/s]\u001b[A\u001b[A\u001b[A\u001b[A\u001b[A"
     ]
    },
    {
     "name": "stdout",
     "output_type": "stream",
     "text": [
      "pred: [[408 176 628 408]\n",
      " [364 620 532 732]]\n",
      "true: []\n",
      "(256, 256, 3)\n",
      "pred: [[456 224 656 424]\n",
      " [504 580 700 700]]\n",
      "true: []\n"
     ]
    },
    {
     "name": "stderr",
     "output_type": "stream",
     "text": [
      "\n",
      "\n",
      "\n",
      "\n",
      "\n",
      "  8%|▊         | 126/1500 [00:28<04:25,  5.18it/s]\u001b[A\u001b[A\u001b[A\u001b[A\u001b[A"
     ]
    },
    {
     "name": "stdout",
     "output_type": "stream",
     "text": [
      "(256, 256, 3)\n",
      "pred: [[480 580 688 808]\n",
      " [500 216 672 372]\n",
      " [368 612 504 724]]\n",
      "true: [[126 163 163 183]]\n",
      "(256, 256, 3)\n"
     ]
    },
    {
     "name": "stderr",
     "output_type": "stream",
     "text": [
      "\n",
      "\n",
      "\n",
      "\n",
      "\n",
      "  8%|▊         | 127/1500 [00:29<04:24,  5.19it/s]\u001b[A\u001b[A\u001b[A\u001b[A\u001b[A\n",
      "\n",
      "\n",
      "\n",
      "\n",
      "  9%|▊         | 128/1500 [00:29<04:25,  5.17it/s]"
     ]
    },
    {
     "name": "stdout",
     "output_type": "stream",
     "text": [
      "pred: [[264 608 672 812]\n",
      " [284 340 604 512]\n",
      " [220 212 432 392]]\n",
      "true: []\n",
      "(256, 256, 3)\n",
      "pred: [[480 532 780 756]\n",
      " [492 180 748 404]]\n",
      "true: [[108 133 234 199]\n",
      " [108  41 206 101]]\n"
     ]
    },
    {
     "name": "stderr",
     "output_type": "stream",
     "text": [
      "\u001b[A\u001b[A\u001b[A\u001b[A\u001b[A\n",
      "\n",
      "\n",
      "\n",
      "\n",
      "  9%|▊         | 129/1500 [00:29<04:35,  4.98it/s]\u001b[A\u001b[A\u001b[A\u001b[A\u001b[A"
     ]
    },
    {
     "name": "stdout",
     "output_type": "stream",
     "text": [
      "(256, 256, 3)\n",
      "pred: [[376 552 924 836]\n",
      " [716 152 932 368]\n",
      " [416 232 784 412]]\n",
      "true: [[ 91 148 228 208]\n",
      " [ 84  36 231 104]]\n"
     ]
    },
    {
     "name": "stderr",
     "output_type": "stream",
     "text": [
      "\n",
      "\n",
      "\n",
      "\n",
      "\n",
      "  9%|▊         | 130/1500 [00:29<04:43,  4.83it/s]\u001b[A\u001b[A\u001b[A\u001b[A\u001b[A"
     ]
    },
    {
     "name": "stdout",
     "output_type": "stream",
     "text": [
      "(256, 256, 3)\n",
      "pred: [[508 216 680 404]\n",
      " [528 616 692 780]]\n",
      "true: []\n",
      "(256, 256, 3)\n"
     ]
    },
    {
     "name": "stderr",
     "output_type": "stream",
     "text": [
      "\n",
      "\n",
      "\n",
      "\n",
      "\n",
      "  9%|▊         | 131/1500 [00:29<04:26,  5.13it/s]\u001b[A\u001b[A\u001b[A\u001b[A\u001b[A\n",
      "\n",
      "\n",
      "\n",
      "\n",
      "  9%|▉         | 132/1500 [00:30<04:12,  5.41it/s]\u001b[A\u001b[A\u001b[A\u001b[A\u001b[A"
     ]
    },
    {
     "name": "stdout",
     "output_type": "stream",
     "text": [
      "pred: [[368 544 692 764]\n",
      " [456 172 652 340]\n",
      " [204 284 368 412]]\n",
      "true: []\n",
      "(256, 256, 3)\n",
      "pred: [[408 216 620 408]\n",
      " [220 584 336 684]\n",
      " [544 660 692 832]]\n",
      "true: []\n"
     ]
    },
    {
     "name": "stderr",
     "output_type": "stream",
     "text": [
      "\n",
      "\n",
      "\n",
      "\n",
      "\n",
      "  9%|▉         | 133/1500 [00:30<04:23,  5.18it/s]\u001b[A\u001b[A\u001b[A\u001b[A\u001b[A"
     ]
    },
    {
     "name": "stdout",
     "output_type": "stream",
     "text": [
      "(256, 256, 3)\n",
      "pred: [[164 152 680 468]\n",
      " [244 584 696 824]]\n",
      "true: [[ 64  54 158 110]\n",
      " [ 71 136 176 203]]\n"
     ]
    },
    {
     "name": "stderr",
     "output_type": "stream",
     "text": [
      "\n",
      "\n",
      "\n",
      "\n",
      "\n",
      "  9%|▉         | 134/1500 [00:30<04:29,  5.06it/s]\u001b[A\u001b[A\u001b[A\u001b[A\u001b[A"
     ]
    },
    {
     "name": "stdout",
     "output_type": "stream",
     "text": [
      "(256, 256, 3)\n",
      "pred: [[600 212 804 436]\n",
      " [580 636 832 864]\n",
      " [156 620 348 736]]\n",
      "true: []\n",
      "(256, 256, 3)\n"
     ]
    },
    {
     "name": "stderr",
     "output_type": "stream",
     "text": [
      "\n",
      "\n",
      "\n",
      "\n",
      "\n",
      "  9%|▉         | 135/1500 [00:30<04:37,  4.91it/s]\u001b[A\u001b[A\u001b[A\u001b[A\u001b[A\n",
      "\n",
      "\n",
      "\n",
      "\n",
      "  9%|▉         | 136/1500 [00:30<04:20,  5.23it/s]\u001b[A\u001b[A\u001b[A\u001b[A\u001b[A"
     ]
    },
    {
     "name": "stdout",
     "output_type": "stream",
     "text": [
      "pred: [[480 624 692 948]\n",
      " [520 196 668 372]\n",
      " [432 340 636 464]]\n",
      "true: []\n",
      "(256, 256, 3)\n",
      "pred: [[476 200 652 372]\n",
      " [548 588 656 672]]\n",
      "true: []\n"
     ]
    },
    {
     "name": "stderr",
     "output_type": "stream",
     "text": [
      "\n",
      "\n",
      "\n",
      "\n",
      "\n",
      "  9%|▉         | 137/1500 [00:31<04:05,  5.56it/s]\u001b[A\u001b[A\u001b[A\u001b[A\u001b[A"
     ]
    },
    {
     "name": "stdout",
     "output_type": "stream",
     "text": [
      "(256, 256, 3)\n",
      "pred: [[656 200 800 400]\n",
      " [664 604 808 756]\n",
      " [684 732 824 856]]\n",
      "true: []\n",
      "(256, 256, 3)\n"
     ]
    },
    {
     "name": "stderr",
     "output_type": "stream",
     "text": [
      "\n",
      "\n",
      "\n",
      "\n",
      "\n",
      "  9%|▉         | 138/1500 [00:31<04:13,  5.38it/s]\u001b[A\u001b[A\u001b[A\u001b[A\u001b[A"
     ]
    },
    {
     "name": "stdout",
     "output_type": "stream",
     "text": [
      "pred: [[528 276 772 408]\n",
      " [588 580 748 740]\n",
      " [340 624 472 716]]\n",
      "true: []\n",
      "(256, 256, 3)\n"
     ]
    },
    {
     "name": "stderr",
     "output_type": "stream",
     "text": [
      "\n",
      "\n",
      "\n",
      "\n",
      "\n",
      "  9%|▉         | 139/1500 [00:31<04:24,  5.14it/s]\u001b[A\u001b[A\u001b[A\u001b[A\u001b[A"
     ]
    },
    {
     "name": "stdout",
     "output_type": "stream",
     "text": [
      "pred: [[472 200 592 400]\n",
      " [408 612 520 748]\n",
      " [388 344 528 424]]\n",
      "true: []\n",
      "(256, 256, 3)\n"
     ]
    },
    {
     "name": "stderr",
     "output_type": "stream",
     "text": [
      "\n",
      "\n",
      "\n",
      "\n",
      "\n",
      "  9%|▉         | 140/1500 [00:31<04:39,  4.87it/s]\u001b[A\u001b[A\u001b[A\u001b[A\u001b[A"
     ]
    },
    {
     "name": "stdout",
     "output_type": "stream",
     "text": [
      "pred: [[364 228 652 420]\n",
      " [380 608 628 820]]\n",
      "true: []\n",
      "(256, 256, 3)\n"
     ]
    },
    {
     "name": "stderr",
     "output_type": "stream",
     "text": [
      "\n",
      "\n",
      "\n",
      "\n",
      "\n",
      "  9%|▉         | 141/1500 [00:31<05:00,  4.52it/s]\u001b[A\u001b[A\u001b[A\u001b[A\u001b[A"
     ]
    },
    {
     "name": "stdout",
     "output_type": "stream",
     "text": [
      "pred: [[496 544 816 788]\n",
      " [516 180 816 420]]\n",
      "true: []\n",
      "(256, 256, 3)\n"
     ]
    },
    {
     "name": "stderr",
     "output_type": "stream",
     "text": [
      "\n",
      "\n",
      "\n",
      "\n",
      "\n",
      "  9%|▉         | 142/1500 [00:32<05:21,  4.22it/s]\u001b[A\u001b[A\u001b[A\u001b[A\u001b[A"
     ]
    },
    {
     "name": "stdout",
     "output_type": "stream",
     "text": [
      "pred: [[532 112 752 372]\n",
      " [376 584 652 864]\n",
      " [204 136 508 376]]\n",
      "true: []\n",
      "(256, 256, 3)\n"
     ]
    },
    {
     "name": "stderr",
     "output_type": "stream",
     "text": [
      "\n",
      "\n",
      "\n",
      "\n",
      "\n",
      " 10%|▉         | 143/1500 [00:32<05:23,  4.20it/s]\u001b[A\u001b[A\u001b[A\u001b[A\u001b[A"
     ]
    },
    {
     "name": "stdout",
     "output_type": "stream",
     "text": [
      "pred: [[512 240 676 432]\n",
      " [588 628 752 800]\n",
      " [292 352 528 476]]\n",
      "true: []\n",
      "(256, 256, 3)\n"
     ]
    },
    {
     "name": "stderr",
     "output_type": "stream",
     "text": [
      "\n",
      "\n",
      "\n",
      "\n",
      "\n",
      " 10%|▉         | 144/1500 [00:32<05:16,  4.28it/s]\u001b[A\u001b[A\u001b[A\u001b[A\u001b[A"
     ]
    },
    {
     "name": "stdout",
     "output_type": "stream",
     "text": [
      "pred: [[508 232 620 384]\n",
      " [348 628 536 716]\n",
      " [588 664 724 896]]\n",
      "true: []\n",
      "(256, 256, 3)\n"
     ]
    },
    {
     "name": "stderr",
     "output_type": "stream",
     "text": [
      "\n",
      "\n",
      "\n",
      "\n",
      "\n",
      " 10%|▉         | 145/1500 [00:32<05:18,  4.25it/s]\u001b[A\u001b[A\u001b[A\u001b[A\u001b[A"
     ]
    },
    {
     "name": "stdout",
     "output_type": "stream",
     "text": [
      "pred: [[392 244 496 388]\n",
      " [320 356 468 448]\n",
      " [464 192 616 444]]\n",
      "true: []\n",
      "(256, 256, 3)\n"
     ]
    },
    {
     "name": "stderr",
     "output_type": "stream",
     "text": [
      "\n",
      "\n",
      "\n",
      "\n",
      "\n",
      " 10%|▉         | 146/1500 [00:33<05:23,  4.18it/s]\u001b[A\u001b[A\u001b[A\u001b[A\u001b[A"
     ]
    },
    {
     "name": "stdout",
     "output_type": "stream",
     "text": [
      "pred: [[472 536 608 708]\n",
      " [516 156 616 348]\n",
      " [232 164 364 296]]\n",
      "true: [[137 141 151 166]\n",
      " [131  45 150  89]]\n",
      "(256, 256, 3)\n"
     ]
    },
    {
     "name": "stderr",
     "output_type": "stream",
     "text": [
      "\n",
      "\n",
      "\n",
      "\n",
      "\n",
      " 10%|▉         | 147/1500 [00:33<05:13,  4.31it/s]\u001b[A\u001b[A\u001b[A\u001b[A\u001b[A"
     ]
    },
    {
     "name": "stdout",
     "output_type": "stream",
     "text": [
      "pred: [[652 188 880 388]\n",
      " [636 540 876 756]]\n",
      "true: []\n",
      "(256, 256, 3)\n"
     ]
    },
    {
     "name": "stderr",
     "output_type": "stream",
     "text": [
      "\n",
      "\n",
      "\n",
      "\n",
      "\n",
      " 10%|▉         | 148/1500 [00:33<05:09,  4.36it/s]\u001b[A\u001b[A\u001b[A\u001b[A\u001b[A"
     ]
    },
    {
     "name": "stdout",
     "output_type": "stream",
     "text": [
      "pred: [[468 292 716 492]\n",
      " [408 632 764 872]]\n",
      "true: []\n",
      "(256, 256, 3)\n"
     ]
    },
    {
     "name": "stderr",
     "output_type": "stream",
     "text": [
      "\n",
      "\n",
      "\n",
      "\n",
      "\n",
      " 10%|▉         | 149/1500 [00:33<05:01,  4.48it/s]\u001b[A\u001b[A\u001b[A\u001b[A\u001b[A"
     ]
    },
    {
     "name": "stdout",
     "output_type": "stream",
     "text": [
      "pred: [[436 172 696 412]\n",
      " [580 616 776 792]]\n",
      "true: []\n",
      "(256, 256, 3)\n"
     ]
    },
    {
     "name": "stderr",
     "output_type": "stream",
     "text": [
      "\n",
      "\n",
      "\n",
      "\n",
      "\n",
      " 10%|█         | 150/1500 [00:34<05:16,  4.27it/s]\u001b[A\u001b[A\u001b[A\u001b[A\u001b[A"
     ]
    },
    {
     "name": "stdout",
     "output_type": "stream",
     "text": [
      "pred: [[336 696 600 856]\n",
      " [420 256 584 388]\n",
      " [472 564 656 724]]\n",
      "true: []\n",
      "(256, 256, 3)\n"
     ]
    },
    {
     "name": "stderr",
     "output_type": "stream",
     "text": [
      "\n",
      "\n",
      "\n",
      "\n",
      "\n",
      " 10%|█         | 151/1500 [00:34<05:04,  4.43it/s]\u001b[A\u001b[A\u001b[A\u001b[A\u001b[A\n",
      "\n",
      "\n",
      "\n",
      "\n",
      " 10%|█         | 152/1500 [00:34<04:51,  4.63it/s]"
     ]
    },
    {
     "name": "stdout",
     "output_type": "stream",
     "text": [
      "pred: [[328 552 508 644]\n",
      " [616 120 744 288]\n",
      " [624 688 704 796]]\n",
      "true: []\n",
      "(256, 256, 3)\n",
      "pred: [[560 152 804 384]\n",
      " [312 184 528 344]\n",
      " [184 280 372 404]]\n",
      "true: [[150  45 200 120]]\n"
     ]
    },
    {
     "name": "stderr",
     "output_type": "stream",
     "text": [
      "\u001b[A\u001b[A\u001b[A\u001b[A\u001b[A\n",
      "\n",
      "\n",
      "\n",
      "\n",
      " 10%|█         | 153/1500 [00:34<04:44,  4.73it/s]\u001b[A\u001b[A\u001b[A\u001b[A\u001b[A"
     ]
    },
    {
     "name": "stdout",
     "output_type": "stream",
     "text": [
      "(256, 256, 3)\n",
      "pred: [[328 576 700 832]\n",
      " [324 140 728 392]]\n",
      "true: [[ 73 142 244 220]\n",
      " [ 70  40 222 104]]\n",
      "(256, 256, 3)\n"
     ]
    },
    {
     "name": "stderr",
     "output_type": "stream",
     "text": [
      "\n",
      "\n",
      "\n",
      "\n",
      "\n",
      " 10%|█         | 154/1500 [00:34<04:36,  4.86it/s]\u001b[A\u001b[A\u001b[A\u001b[A\u001b[A\n",
      "\n",
      "\n",
      "\n",
      "\n",
      " 10%|█         | 155/1500 [00:35<04:22,  5.13it/s]\u001b[A\u001b[A\u001b[A\u001b[A\u001b[A"
     ]
    },
    {
     "name": "stdout",
     "output_type": "stream",
     "text": [
      "pred: [[304 196 600 452]\n",
      " [212 604 672 852]]\n",
      "true: [[ 56 160 136 207]\n",
      " [ 57  53 151 111]]\n",
      "(256, 256, 3)\n",
      "pred: [[412 176 688 360]]\n",
      "true: []\n"
     ]
    },
    {
     "name": "stderr",
     "output_type": "stream",
     "text": [
      "\n",
      "\n",
      "\n",
      "\n",
      "\n",
      " 10%|█         | 156/1500 [00:35<04:19,  5.18it/s]\u001b[A\u001b[A\u001b[A\u001b[A\u001b[A"
     ]
    },
    {
     "name": "stdout",
     "output_type": "stream",
     "text": [
      "(256, 256, 3)\n",
      "pred: [[456 200 656 424]\n",
      " [428 612 684 828]]\n",
      "true: [[126  50 174  94]]\n",
      "(256, 256, 3)\n"
     ]
    },
    {
     "name": "stderr",
     "output_type": "stream",
     "text": [
      "\n",
      "\n",
      "\n",
      "\n",
      "\n",
      " 10%|█         | 157/1500 [00:35<04:17,  5.22it/s]\u001b[A\u001b[A\u001b[A\u001b[A\u001b[A"
     ]
    },
    {
     "name": "stdout",
     "output_type": "stream",
     "text": [
      "pred: [[436 316 564 468]\n",
      " [492 656 608 820]]\n",
      "true: []\n",
      "(256, 256, 3)\n"
     ]
    },
    {
     "name": "stderr",
     "output_type": "stream",
     "text": [
      "\n",
      "\n",
      "\n",
      "\n",
      "\n",
      " 11%|█         | 158/1500 [00:35<04:22,  5.12it/s]\u001b[A\u001b[A\u001b[A\u001b[A\u001b[A"
     ]
    },
    {
     "name": "stdout",
     "output_type": "stream",
     "text": [
      "pred: [[284 200 576 424]]\n",
      "true: []\n",
      "(256, 256, 3)\n"
     ]
    },
    {
     "name": "stderr",
     "output_type": "stream",
     "text": [
      "\n",
      "\n",
      "\n",
      "\n",
      "\n",
      " 11%|█         | 159/1500 [00:35<04:27,  5.02it/s]\u001b[A\u001b[A\u001b[A\u001b[A\u001b[A"
     ]
    },
    {
     "name": "stdout",
     "output_type": "stream",
     "text": [
      "pred: [[416 624 696 864]\n",
      " [472 200 700 420]]\n",
      "true: []\n",
      "(256, 256, 3)\n"
     ]
    },
    {
     "name": "stderr",
     "output_type": "stream",
     "text": [
      "\n",
      "\n",
      "\n",
      "\n",
      "\n",
      " 11%|█         | 160/1500 [00:36<04:56,  4.52it/s]\u001b[A\u001b[A\u001b[A\u001b[A\u001b[A"
     ]
    },
    {
     "name": "stdout",
     "output_type": "stream",
     "text": [
      "pred: [[452 292 660 552]\n",
      " [328 696 652 956]]\n",
      "true: []\n",
      "(256, 256, 3)\n"
     ]
    },
    {
     "name": "stderr",
     "output_type": "stream",
     "text": [
      "\n",
      "\n",
      "\n",
      "\n",
      "\n",
      " 11%|█         | 161/1500 [00:36<05:20,  4.18it/s]\u001b[A\u001b[A\u001b[A\u001b[A\u001b[A"
     ]
    },
    {
     "name": "stdout",
     "output_type": "stream",
     "text": [
      "pred: [[552 240 664 464]\n",
      " [420 388 604 512]\n",
      " [600 688 804 956]]\n",
      "true: [[167 167 195 212]\n",
      " [148  79 182 111]]\n",
      "(256, 256, 3)\n"
     ]
    },
    {
     "name": "stderr",
     "output_type": "stream",
     "text": [
      "\n",
      "\n",
      "\n",
      "\n",
      "\n",
      " 11%|█         | 162/1500 [00:36<05:31,  4.04it/s]\u001b[A\u001b[A\u001b[A\u001b[A\u001b[A"
     ]
    },
    {
     "name": "stdout",
     "output_type": "stream",
     "text": [
      "pred: [[616 168 748 324]\n",
      " [596 576 816 808]\n",
      " [472 580 648 700]]\n",
      "true: [[150  41 188  85]]\n",
      "(256, 256, 3)\n"
     ]
    },
    {
     "name": "stderr",
     "output_type": "stream",
     "text": [
      "\n",
      "\n",
      "\n",
      "\n",
      "\n",
      " 11%|█         | 163/1500 [00:36<05:40,  3.93it/s]\u001b[A\u001b[A\u001b[A\u001b[A\u001b[A"
     ]
    },
    {
     "name": "stdout",
     "output_type": "stream",
     "text": [
      "pred: [[276 572 624 828]\n",
      " [368 316 540 456]]\n",
      "true: [[ 64 140 174 208]]\n",
      "(256, 256, 3)\n"
     ]
    },
    {
     "name": "stderr",
     "output_type": "stream",
     "text": [
      "\n",
      "\n",
      "\n",
      "\n",
      "\n",
      " 11%|█         | 164/1500 [00:37<05:37,  3.95it/s]\u001b[A\u001b[A\u001b[A\u001b[A\u001b[A\n",
      "\n",
      "\n",
      "\n",
      "\n"
     ]
    },
    {
     "name": "stdout",
     "output_type": "stream",
     "text": [
      "pred: [[436 164 600 340]\n",
      " [456 580 664 808]\n",
      " [320 180 456 296]]\n",
      "true: []\n",
      "(256, 256, 3)\n",
      "pred: [[564 268 740 444]\n",
      " [576 628 748 720]]\n",
      "true: []\n"
     ]
    },
    {
     "name": "stderr",
     "output_type": "stream",
     "text": [
      " 11%|█         | 165/1500 [00:37<05:17,  4.21it/s]\u001b[A\u001b[A\u001b[A\u001b[A\u001b[A\n",
      "\n",
      "\n",
      "\n",
      "\n",
      " 11%|█         | 166/1500 [00:37<05:34,  3.99it/s]\u001b[A\u001b[A\u001b[A\u001b[A\u001b[A"
     ]
    },
    {
     "name": "stdout",
     "output_type": "stream",
     "text": [
      "(256, 256, 3)\n",
      "pred: [[552 276 716 460]\n",
      " [224 688 680 880]\n",
      " [256 320 616 524]]\n",
      "true: [[145  63 195 120]]\n"
     ]
    },
    {
     "name": "stderr",
     "output_type": "stream",
     "text": [
      "\n",
      "\n",
      "\n",
      "\n",
      "\n",
      " 11%|█         | 167/1500 [00:37<05:18,  4.19it/s]\u001b[A\u001b[A\u001b[A\u001b[A\u001b[A"
     ]
    },
    {
     "name": "stdout",
     "output_type": "stream",
     "text": [
      "(256, 256, 3)\n",
      "pred: [[556 668 684 836]\n",
      " [584 284 776 440]]\n",
      "true: []\n"
     ]
    },
    {
     "name": "stderr",
     "output_type": "stream",
     "text": [
      "\n",
      "\n",
      "\n",
      "\n",
      "\n",
      " 11%|█         | 168/1500 [00:38<04:54,  4.52it/s]\u001b[A\u001b[A\u001b[A\u001b[A\u001b[A"
     ]
    },
    {
     "name": "stdout",
     "output_type": "stream",
     "text": [
      "(256, 256, 3)\n",
      "pred: [[636 204 804 356]\n",
      " [244 232 456 412]\n",
      " [512 612 772 836]]\n",
      "true: []\n",
      "(256, 256, 3)\n"
     ]
    },
    {
     "name": "stderr",
     "output_type": "stream",
     "text": [
      "\n",
      "\n",
      "\n",
      "\n",
      "\n",
      " 11%|█▏        | 169/1500 [00:38<04:37,  4.80it/s]\u001b[A\u001b[A\u001b[A\u001b[A\u001b[A\n",
      "\n",
      "\n",
      "\n",
      "\n",
      " 11%|█▏        | 170/1500 [00:38<04:23,  5.05it/s]\u001b[A\u001b[A\u001b[A\u001b[A\u001b[A"
     ]
    },
    {
     "name": "stdout",
     "output_type": "stream",
     "text": [
      "pred: [[620 256 828 436]\n",
      " [604 604 828 796]]\n",
      "true: [[163  70 208 108]]\n",
      "(256, 256, 3)\n",
      "pred: [[184 416 304 520]\n",
      " [552 300 704 472]\n",
      " [552 632 708 704]]\n",
      "true: []\n"
     ]
    },
    {
     "name": "stderr",
     "output_type": "stream",
     "text": [
      "\n",
      "\n",
      "\n",
      "\n",
      "\n",
      " 11%|█▏        | 171/1500 [00:38<04:40,  4.74it/s]\u001b[A\u001b[A\u001b[A\u001b[A\u001b[A"
     ]
    },
    {
     "name": "stdout",
     "output_type": "stream",
     "text": [
      "(256, 256, 3)\n",
      "pred: [[192 476 472 668]\n",
      " [420 128 548 280]\n",
      " [136 144 480 328]]\n",
      "true: []\n"
     ]
    },
    {
     "name": "stderr",
     "output_type": "stream",
     "text": [
      "\n",
      "\n",
      "\n",
      "\n",
      "\n",
      " 11%|█▏        | 172/1500 [00:38<04:52,  4.53it/s]\u001b[A\u001b[A\u001b[A\u001b[A\u001b[A"
     ]
    },
    {
     "name": "stdout",
     "output_type": "stream",
     "text": [
      "(256, 256, 3)\n",
      "pred: [[512 612 680 728]\n",
      " [532 244 708 424]]\n",
      "true: []\n"
     ]
    },
    {
     "name": "stderr",
     "output_type": "stream",
     "text": [
      "\n",
      "\n",
      "\n",
      "\n",
      "\n",
      " 12%|█▏        | 173/1500 [00:39<05:14,  4.22it/s]\u001b[A\u001b[A\u001b[A\u001b[A\u001b[A"
     ]
    },
    {
     "name": "stdout",
     "output_type": "stream",
     "text": [
      "(256, 256, 3)\n",
      "pred: [[456 512 708 736]\n",
      " [388 188 612 364]]\n",
      "true: []\n",
      "(256, 256, 3)\n"
     ]
    },
    {
     "name": "stderr",
     "output_type": "stream",
     "text": [
      "\n",
      "\n",
      "\n",
      "\n",
      "\n",
      " 12%|█▏        | 174/1500 [00:39<05:10,  4.28it/s]\u001b[A\u001b[A\u001b[A\u001b[A\u001b[A"
     ]
    },
    {
     "name": "stdout",
     "output_type": "stream",
     "text": [
      "pred: [[388 572 764 844]\n",
      " [624 240 828 400]\n",
      " [316 268 500 388]]\n",
      "true: [[ 89 152 209 221]\n",
      " [155  67 213 104]]\n",
      "(256, 256, 3)\n"
     ]
    },
    {
     "name": "stderr",
     "output_type": "stream",
     "text": [
      "\n",
      "\n",
      "\n",
      "\n",
      "\n",
      " 12%|█▏        | 175/1500 [00:39<05:04,  4.35it/s]\u001b[A\u001b[A\u001b[A\u001b[A\u001b[A"
     ]
    },
    {
     "name": "stdout",
     "output_type": "stream",
     "text": [
      "pred: [[568 724 652 848]\n",
      " [596 572 748 732]\n",
      " [388 584 556 708]]\n",
      "true: []\n",
      "(256, 256, 3)\n"
     ]
    },
    {
     "name": "stderr",
     "output_type": "stream",
     "text": [
      "\n",
      "\n",
      "\n",
      "\n",
      "\n",
      " 12%|█▏        | 176/1500 [00:39<05:03,  4.37it/s]\u001b[A\u001b[A\u001b[A\u001b[A\u001b[A\n",
      "\n",
      "\n",
      "\n",
      "\n",
      " 12%|█▏        | 177/1500 [00:40<04:50,  4.55it/s]"
     ]
    },
    {
     "name": "stdout",
     "output_type": "stream",
     "text": [
      "pred: [[248 228 640 432]\n",
      " [192 552 636 772]]\n",
      "true: [[ 74  49 181 114]\n",
      " [ 48 138 189 205]]\n",
      "(256, 256, 3)\n",
      "pred: [[592 624 772 808]\n",
      " [236 324 428 500]\n",
      " [568 252 728 440]]\n",
      "true: []\n"
     ]
    },
    {
     "name": "stderr",
     "output_type": "stream",
     "text": [
      "\u001b[A\u001b[A\u001b[A\u001b[A\u001b[A\n",
      "\n",
      "\n",
      "\n",
      "\n",
      " 12%|█▏        | 178/1500 [00:40<04:43,  4.67it/s]\u001b[A\u001b[A\u001b[A\u001b[A\u001b[A"
     ]
    },
    {
     "name": "stdout",
     "output_type": "stream",
     "text": [
      "(256, 256, 3)\n",
      "pred: [[436 584 660 832]\n",
      " [416 168 596 388]]\n",
      "true: []\n"
     ]
    },
    {
     "name": "stderr",
     "output_type": "stream",
     "text": [
      "\n",
      "\n",
      "\n",
      "\n",
      "\n",
      " 12%|█▏        | 179/1500 [00:40<04:45,  4.62it/s]\u001b[A\u001b[A\u001b[A\u001b[A\u001b[A"
     ]
    },
    {
     "name": "stdout",
     "output_type": "stream",
     "text": [
      "(256, 256, 3)\n",
      "pred: [[408 632 780 820]\n",
      " [564 276 760 464]\n",
      " [320 372 596 528]]\n",
      "true: []\n"
     ]
    },
    {
     "name": "stderr",
     "output_type": "stream",
     "text": [
      "\n",
      "\n",
      "\n",
      "\n",
      "\n",
      " 12%|█▏        | 180/1500 [00:40<05:01,  4.37it/s]\u001b[A\u001b[A\u001b[A\u001b[A\u001b[A"
     ]
    },
    {
     "name": "stdout",
     "output_type": "stream",
     "text": [
      "(256, 256, 3)\n",
      "pred: [[304 152 588 336]\n",
      " [544 184 764 392]\n",
      " [660 588 808 724]]\n",
      "true: []\n"
     ]
    },
    {
     "name": "stderr",
     "output_type": "stream",
     "text": [
      "\n",
      "\n",
      "\n",
      "\n",
      "\n",
      " 12%|█▏        | 181/1500 [00:40<04:44,  4.64it/s]\u001b[A\u001b[A\u001b[A\u001b[A\u001b[A"
     ]
    },
    {
     "name": "stdout",
     "output_type": "stream",
     "text": [
      "(256, 256, 3)\n",
      "pred: [[568 272 744 448]\n",
      " [564 632 724 776]]\n",
      "true: []\n"
     ]
    },
    {
     "name": "stderr",
     "output_type": "stream",
     "text": [
      "\n",
      "\n",
      "\n",
      "\n",
      "\n",
      " 12%|█▏        | 182/1500 [00:41<04:49,  4.56it/s]\u001b[A\u001b[A\u001b[A\u001b[A\u001b[A"
     ]
    },
    {
     "name": "stdout",
     "output_type": "stream",
     "text": [
      "(256, 256, 3)\n",
      "pred: [[540 628 852 836]\n",
      " [236 156 464 344]\n",
      " [476 276 740 436]]\n",
      "true: []\n"
     ]
    },
    {
     "name": "stderr",
     "output_type": "stream",
     "text": [
      "\n",
      "\n",
      "\n",
      "\n",
      "\n",
      " 12%|█▏        | 183/1500 [00:41<04:41,  4.69it/s]\u001b[A\u001b[A\u001b[A\u001b[A\u001b[A"
     ]
    },
    {
     "name": "stdout",
     "output_type": "stream",
     "text": [
      "(256, 256, 3)\n",
      "pred: [[440 200 604 348]\n",
      " [456 608 656 844]\n",
      " [360 624 456 748]]\n",
      "true: []\n",
      "(256, 256, 3)\n"
     ]
    },
    {
     "name": "stderr",
     "output_type": "stream",
     "text": [
      "\n",
      "\n",
      "\n",
      "\n",
      "\n",
      " 12%|█▏        | 184/1500 [00:41<04:27,  4.92it/s]\u001b[A\u001b[A\u001b[A\u001b[A\u001b[A\n",
      "\n",
      "\n",
      "\n",
      "\n",
      " 12%|█▏        | 185/1500 [00:41<04:14,  5.16it/s]\u001b[A\u001b[A\u001b[A\u001b[A\u001b[A"
     ]
    },
    {
     "name": "stdout",
     "output_type": "stream",
     "text": [
      "pred: [[516 188 680 376]\n",
      " [632 536 780 692]\n",
      " [552 640 732 816]]\n",
      "true: []\n",
      "(256, 256, 3)\n",
      "pred: [[352 652 672 896]\n",
      " [416 284 640 452]\n",
      " [168 372 384 520]]\n",
      "true: []\n"
     ]
    },
    {
     "name": "stderr",
     "output_type": "stream",
     "text": [
      "\n",
      "\n",
      "\n",
      "\n",
      "\n",
      " 12%|█▏        | 186/1500 [00:41<04:15,  5.14it/s]\u001b[A\u001b[A\u001b[A\u001b[A\u001b[A"
     ]
    },
    {
     "name": "stdout",
     "output_type": "stream",
     "text": [
      "(256, 256, 3)\n",
      "pred: [[236 584 660 800]\n",
      " [312 280 636 460]]\n",
      "true: []\n",
      "(256, 256, 3)\n"
     ]
    },
    {
     "name": "stderr",
     "output_type": "stream",
     "text": [
      "\n",
      "\n",
      "\n",
      "\n",
      "\n",
      " 12%|█▏        | 187/1500 [00:42<04:10,  5.23it/s]\u001b[A\u001b[A\u001b[A\u001b[A\u001b[A"
     ]
    },
    {
     "name": "stdout",
     "output_type": "stream",
     "text": [
      "pred: [[388 308 560 456]\n",
      " [448 620 628 824]]\n",
      "true: []\n",
      "(256, 256, 3)\n"
     ]
    },
    {
     "name": "stderr",
     "output_type": "stream",
     "text": [
      "\n",
      "\n",
      "\n",
      "\n",
      "\n",
      " 13%|█▎        | 188/1500 [00:42<04:21,  5.03it/s]\u001b[A\u001b[A\u001b[A\u001b[A\u001b[A"
     ]
    },
    {
     "name": "stdout",
     "output_type": "stream",
     "text": [
      "pred: [[488 260 632 436]\n",
      " [552 620 636 704]\n",
      " [520 688 624 780]]\n",
      "true: []\n",
      "(256, 256, 3)\n"
     ]
    },
    {
     "name": "stderr",
     "output_type": "stream",
     "text": [
      "\n",
      "\n",
      "\n",
      "\n",
      "\n",
      " 13%|█▎        | 189/1500 [00:42<04:46,  4.57it/s]\u001b[A\u001b[A\u001b[A\u001b[A\u001b[A"
     ]
    },
    {
     "name": "stdout",
     "output_type": "stream",
     "text": [
      "pred: [[432 672 748 900]\n",
      " [504 240 676 440]\n",
      " [312 196 552 344]]\n",
      "true: []\n",
      "(256, 256, 3)\n"
     ]
    },
    {
     "name": "stderr",
     "output_type": "stream",
     "text": [
      "\n",
      "\n",
      "\n",
      "\n",
      "\n",
      " 13%|█▎        | 190/1500 [00:42<05:11,  4.20it/s]\u001b[A\u001b[A\u001b[A\u001b[A\u001b[A"
     ]
    },
    {
     "name": "stdout",
     "output_type": "stream",
     "text": [
      "pred: [[252 456 748 708]\n",
      " [420 108 764 308]]\n",
      "true: []\n",
      "(256, 256, 3)\n"
     ]
    },
    {
     "name": "stderr",
     "output_type": "stream",
     "text": [
      "\n",
      "\n",
      "\n",
      "\n",
      "\n",
      " 13%|█▎        | 191/1500 [00:43<05:02,  4.33it/s]\u001b[A\u001b[A\u001b[A\u001b[A\u001b[A\n",
      "\n",
      "\n",
      "\n",
      "\n",
      " 13%|█▎        | 192/1500 [00:43<04:46,  4.57it/s]\u001b[A\u001b[A\u001b[A\u001b[A\u001b[A"
     ]
    },
    {
     "name": "stdout",
     "output_type": "stream",
     "text": [
      "pred: [[504 536 664 668]\n",
      " [356 536 528 656]\n",
      " [552 712 636 796]]\n",
      "true: []\n",
      "(256, 256, 3)\n",
      "pred: [[360 588 644 788]\n",
      " [396 244 632 436]]\n",
      "true: []\n"
     ]
    },
    {
     "name": "stderr",
     "output_type": "stream",
     "text": [
      "\n",
      "\n",
      "\n",
      "\n",
      "\n",
      " 13%|█▎        | 193/1500 [00:43<04:35,  4.74it/s]\u001b[A\u001b[A\u001b[A\u001b[A\u001b[A"
     ]
    },
    {
     "name": "stdout",
     "output_type": "stream",
     "text": [
      "(256, 256, 3)\n",
      "pred: [[472 600 668 880]\n",
      " [508 224 652 360]\n",
      " [376 316 604 444]]\n",
      "true: []\n",
      "(256, 256, 3)\n"
     ]
    },
    {
     "name": "stderr",
     "output_type": "stream",
     "text": [
      "\n",
      "\n",
      "\n",
      "\n",
      "\n",
      " 13%|█▎        | 194/1500 [00:43<04:31,  4.81it/s]\u001b[A\u001b[A\u001b[A\u001b[A\u001b[A\n",
      "\n",
      "\n",
      "\n",
      "\n",
      " 13%|█▎        | 195/1500 [00:43<04:22,  4.96it/s]\u001b[A\u001b[A\u001b[A\u001b[A\u001b[A"
     ]
    },
    {
     "name": "stdout",
     "output_type": "stream",
     "text": [
      "pred: [[552 248 740 432]\n",
      " [500 320 568 436]\n",
      " [228 352 340 460]]\n",
      "true: []\n",
      "(256, 256, 3)\n",
      "pred: [[536 192 684 388]\n",
      " [552 612 692 728]\n",
      " [452 616 572 708]]\n",
      "true: []\n"
     ]
    },
    {
     "name": "stderr",
     "output_type": "stream",
     "text": [
      "\n",
      "\n",
      "\n",
      "\n",
      "\n",
      " 13%|█▎        | 196/1500 [00:43<04:05,  5.31it/s]\u001b[A\u001b[A\u001b[A\u001b[A\u001b[A"
     ]
    },
    {
     "name": "stdout",
     "output_type": "stream",
     "text": [
      "(256, 256, 3)\n",
      "pred: [[624  68 824 300]\n",
      " [664 520 876 732]]\n",
      "true: []\n",
      "(256, 256, 3)\n"
     ]
    },
    {
     "name": "stderr",
     "output_type": "stream",
     "text": [
      "\n",
      "\n",
      "\n",
      "\n",
      "\n",
      " 13%|█▎        | 197/1500 [00:44<04:10,  5.20it/s]\u001b[A\u001b[A\u001b[A\u001b[A\u001b[A"
     ]
    },
    {
     "name": "stdout",
     "output_type": "stream",
     "text": [
      "pred: [[560 192 720 380]\n",
      " [616 656 772 836]\n",
      " [392 648 564 720]]\n",
      "true: []\n",
      "(256, 256, 3)\n",
      "pred: [[544 248 672 392]\n",
      " [576 612 700 820]\n",
      " [232 324 456 448]]\n",
      "true:"
     ]
    },
    {
     "name": "stderr",
     "output_type": "stream",
     "text": [
      "\n",
      "\n",
      "\n",
      "\n",
      "\n",
      " 13%|█▎        | 198/1500 [00:44<04:15,  5.09it/s]\u001b[A\u001b[A\u001b[A\u001b[A\u001b[A"
     ]
    },
    {
     "name": "stdout",
     "output_type": "stream",
     "text": [
      " []\n",
      "(256, 256, 3)\n"
     ]
    },
    {
     "name": "stderr",
     "output_type": "stream",
     "text": [
      "\n",
      "\n",
      "\n",
      "\n",
      "\n",
      " 13%|█▎        | 199/1500 [00:44<04:29,  4.83it/s]\u001b[A\u001b[A\u001b[A\u001b[A\u001b[A\n",
      "\n",
      "\n",
      "\n",
      "\n",
      " 13%|█▎        | 200/1500 [00:44<04:23,  4.93it/s]\u001b[A\u001b[A\u001b[A\u001b[A\u001b[A"
     ]
    },
    {
     "name": "stdout",
     "output_type": "stream",
     "text": [
      "pred: [[520 388 720 588]\n",
      " [528 748 692 944]\n",
      " [292 344 504 496]]\n",
      "true: []\n",
      "(256, 256, 3)\n",
      "pred: [[564 592 740 760]\n",
      " [520 220 700 408]\n",
      " [332 580 480 672]]\n",
      "true: []\n"
     ]
    },
    {
     "name": "stderr",
     "output_type": "stream",
     "text": [
      "\n",
      "\n",
      "\n",
      "\n",
      "\n",
      " 13%|█▎        | 201/1500 [00:45<04:22,  4.94it/s]\u001b[A\u001b[A\u001b[A\u001b[A\u001b[A"
     ]
    },
    {
     "name": "stdout",
     "output_type": "stream",
     "text": [
      "(256, 256, 3)\n",
      "pred: [[448 576 608 776]\n",
      " [404 276 544 412]]\n",
      "true: []\n"
     ]
    },
    {
     "name": "stderr",
     "output_type": "stream",
     "text": [
      "\n",
      "\n",
      "\n",
      "\n",
      "\n",
      " 13%|█▎        | 202/1500 [00:45<04:20,  4.98it/s]\u001b[A\u001b[A\u001b[A\u001b[A\u001b[A"
     ]
    },
    {
     "name": "stdout",
     "output_type": "stream",
     "text": [
      "(256, 256, 3)\n",
      "pred: [[292 228 656 420]\n",
      " [228 332 392 476]\n",
      " [476 628 744 852]]\n",
      "true: [[ 74  59 181 110]]\n"
     ]
    },
    {
     "name": "stderr",
     "output_type": "stream",
     "text": [
      "\n",
      "\n",
      "\n",
      "\n",
      "\n",
      " 14%|█▎        | 203/1500 [00:45<04:27,  4.84it/s]\u001b[A\u001b[A\u001b[A\u001b[A\u001b[A"
     ]
    },
    {
     "name": "stdout",
     "output_type": "stream",
     "text": [
      "(256, 256, 3)\n",
      "pred: [[240 612 620 824]\n",
      " [236 216 484 452]\n",
      " [684 216 788 412]]\n",
      "true: [[ 68 164 193 216]\n",
      " [ 72  56 120 112]]\n"
     ]
    },
    {
     "name": "stderr",
     "output_type": "stream",
     "text": [
      "\n",
      "\n",
      "\n",
      "\n",
      "\n",
      " 14%|█▎        | 204/1500 [00:45<04:29,  4.81it/s]\u001b[A\u001b[A\u001b[A\u001b[A\u001b[A"
     ]
    },
    {
     "name": "stdout",
     "output_type": "stream",
     "text": [
      "(256, 256, 3)\n",
      "pred: [[164 556 808 808]\n",
      " [240 248 652 444]]\n",
      "true: [[ 42 142 178 193]\n",
      " [ 29  55 179 118]]\n"
     ]
    },
    {
     "name": "stderr",
     "output_type": "stream",
     "text": [
      "\n",
      "\n",
      "\n",
      "\n",
      "\n",
      " 14%|█▎        | 205/1500 [00:45<04:28,  4.83it/s]\u001b[A\u001b[A\u001b[A\u001b[A\u001b[A"
     ]
    },
    {
     "name": "stdout",
     "output_type": "stream",
     "text": [
      "(256, 256, 3)\n",
      "pred: [[560 192 760 392]\n",
      " [164 292 328 468]\n",
      " [612 640 808 832]]\n",
      "true: []\n"
     ]
    },
    {
     "name": "stderr",
     "output_type": "stream",
     "text": [
      "\n",
      "\n",
      "\n",
      "\n",
      "\n",
      " 14%|█▎        | 206/1500 [00:46<04:49,  4.47it/s]\u001b[A\u001b[A\u001b[A\u001b[A\u001b[A"
     ]
    },
    {
     "name": "stdout",
     "output_type": "stream",
     "text": [
      "(256, 256, 3)\n",
      "pred: [[256 472 760 744]\n",
      " [528 228 728 352]]\n",
      "true: [[152 118 221 193]]\n"
     ]
    },
    {
     "name": "stderr",
     "output_type": "stream",
     "text": [
      "\n",
      "\n",
      "\n",
      "\n",
      "\n",
      " 14%|█▍        | 207/1500 [00:46<04:46,  4.51it/s]\u001b[A\u001b[A\u001b[A\u001b[A\u001b[A"
     ]
    },
    {
     "name": "stdout",
     "output_type": "stream",
     "text": [
      "(256, 256, 3)\n",
      "pred: [[380 572 672 824]\n",
      " [388 252 620 440]]\n",
      "true: []\n",
      "(256, 256, 3)\n"
     ]
    },
    {
     "name": "stderr",
     "output_type": "stream",
     "text": [
      "\n",
      "\n",
      "\n",
      "\n",
      "\n",
      " 14%|█▍        | 208/1500 [00:46<04:32,  4.74it/s]\u001b[A\u001b[A\u001b[A\u001b[A\u001b[A\n",
      "\n",
      "\n",
      "\n",
      "\n",
      " 14%|█▍        | 209/1500 [00:46<04:17,  5.02it/s]\u001b[A\u001b[A\u001b[A\u001b[A\u001b[A"
     ]
    },
    {
     "name": "stdout",
     "output_type": "stream",
     "text": [
      "pred: [[136 192 548 428]\n",
      " [232 596 652 828]]\n",
      "true: []\n",
      "(256, 256, 3)\n",
      "pred: [[376 168 480 320]\n",
      " [488 152 720 384]\n",
      " [564 616 716 816]]\n",
      "true: []\n"
     ]
    },
    {
     "name": "stderr",
     "output_type": "stream",
     "text": [
      "\n",
      "\n",
      "\n",
      "\n",
      "\n",
      " 14%|█▍        | 210/1500 [00:46<04:15,  5.06it/s]\u001b[A\u001b[A\u001b[A\u001b[A\u001b[A"
     ]
    },
    {
     "name": "stdout",
     "output_type": "stream",
     "text": [
      "(256, 256, 3)\n",
      "pred: [[212 164 712 428]\n",
      " [460 624 700 844]]\n",
      "true: [[ 30 141 186 215]\n",
      " [ 32  39 181 104]]\n",
      "(256, 256, 3)\n"
     ]
    },
    {
     "name": "stderr",
     "output_type": "stream",
     "text": [
      "\n",
      "\n",
      "\n",
      "\n",
      "\n",
      " 14%|█▍        | 211/1500 [00:47<04:05,  5.26it/s]\u001b[A\u001b[A\u001b[A\u001b[A\u001b[A\n",
      "\n",
      "\n",
      "\n",
      "\n",
      " 14%|█▍        | 212/1500 [00:47<03:58,  5.40it/s]\u001b[A\u001b[A\u001b[A\u001b[A\u001b[A"
     ]
    },
    {
     "name": "stdout",
     "output_type": "stream",
     "text": [
      "pred: [[424 656 800 920]\n",
      " [656 228 820 396]]\n",
      "true: [[118 162 200 231]]\n",
      "(256, 256, 3)\n",
      "pred: [[436 272 660 428]\n",
      " [300 596 484 724]]\n",
      "true: []\n"
     ]
    },
    {
     "name": "stderr",
     "output_type": "stream",
     "text": [
      "\n",
      "\n",
      "\n",
      "\n",
      "\n",
      " 14%|█▍        | 213/1500 [00:47<03:52,  5.53it/s]\u001b[A\u001b[A\u001b[A\u001b[A\u001b[A"
     ]
    },
    {
     "name": "stdout",
     "output_type": "stream",
     "text": [
      "(256, 256, 3)\n",
      "pred: [[516 284 736 424]]\n",
      "true: []\n",
      "(256, 256, 3)\n"
     ]
    },
    {
     "name": "stderr",
     "output_type": "stream",
     "text": [
      "\n",
      "\n",
      "\n",
      "\n",
      "\n",
      " 14%|█▍        | 214/1500 [00:47<03:50,  5.58it/s]\u001b[A\u001b[A\u001b[A\u001b[A\u001b[A\n",
      "\n",
      "\n",
      "\n",
      "\n",
      " 14%|█▍        | 215/1500 [00:47<03:45,  5.69it/s]\u001b[A\u001b[A\u001b[A\u001b[A\u001b[A"
     ]
    },
    {
     "name": "stdout",
     "output_type": "stream",
     "text": [
      "pred: [[636 564 792 728]\n",
      " [476 572 592 660]\n",
      " [560 280 752 388]]\n",
      "true: []\n",
      "(256, 256, 3)\n",
      "pred: [[328 616 656 864]\n",
      " [440 260 616 456]\n",
      " [228 352 484 492]]\n",
      "true: []\n"
     ]
    },
    {
     "name": "stderr",
     "output_type": "stream",
     "text": [
      "\n",
      "\n",
      "\n",
      "\n",
      "\n",
      " 14%|█▍        | 216/1500 [00:47<04:02,  5.30it/s]\u001b[A\u001b[A\u001b[A\u001b[A\u001b[A"
     ]
    },
    {
     "name": "stdout",
     "output_type": "stream",
     "text": [
      "(256, 256, 3)\n",
      "pred: [[316 504 852 784]\n",
      " [396 144 820 376]]\n",
      "true: []\n"
     ]
    },
    {
     "name": "stderr",
     "output_type": "stream",
     "text": [
      "\n",
      "\n",
      "\n",
      "\n",
      "\n",
      " 14%|█▍        | 217/1500 [00:48<03:59,  5.36it/s]\u001b[A\u001b[A\u001b[A\u001b[A\u001b[A"
     ]
    },
    {
     "name": "stdout",
     "output_type": "stream",
     "text": [
      "(256, 256, 3)\n",
      "pred: [[224 540 668 796]\n",
      " [488 172 604 364]\n",
      " [388 288 544 440]]\n",
      "true: []\n",
      "(256, 256, 3)\n"
     ]
    },
    {
     "name": "stderr",
     "output_type": "stream",
     "text": [
      "\n",
      "\n",
      "\n",
      "\n",
      "\n",
      " 15%|█▍        | 218/1500 [00:48<03:53,  5.49it/s]\u001b[A\u001b[A\u001b[A\u001b[A\u001b[A\n",
      "\n",
      "\n",
      "\n",
      "\n",
      " 15%|█▍        | 219/1500 [00:48<03:49,  5.57it/s]\u001b[A\u001b[A\u001b[A\u001b[A\u001b[A"
     ]
    },
    {
     "name": "stdout",
     "output_type": "stream",
     "text": [
      "pred: [[476 528 684 792]\n",
      " [508 240 664 424]]\n",
      "true: []\n",
      "(256, 256, 3)\n",
      "pred: [[452 612 588 820]\n",
      " [320 152 428 260]\n",
      " [236 508 412 660]]\n",
      "true: []\n"
     ]
    },
    {
     "name": "stderr",
     "output_type": "stream",
     "text": [
      "\n",
      "\n",
      "\n",
      "\n",
      "\n",
      " 15%|█▍        | 220/1500 [00:48<03:48,  5.61it/s]\u001b[A\u001b[A\u001b[A\u001b[A\u001b[A"
     ]
    },
    {
     "name": "stdout",
     "output_type": "stream",
     "text": [
      "(256, 256, 3)\n",
      "pred: [[212 660 320 792]\n",
      " [496 632 656 796]\n",
      " [476 304 612 460]]\n",
      "true: []\n",
      "(256, 256, 3)\n"
     ]
    },
    {
     "name": "stderr",
     "output_type": "stream",
     "text": [
      "\n",
      "\n",
      "\n",
      "\n",
      "\n",
      " 15%|█▍        | 221/1500 [00:48<03:50,  5.56it/s]\u001b[A\u001b[A\u001b[A\u001b[A\u001b[A"
     ]
    },
    {
     "name": "stdout",
     "output_type": "stream",
     "text": [
      "pred: [[440 260 588 436]\n",
      " [556 596 720 744]\n",
      " [400 608 568 720]]\n",
      "true: []\n",
      "(256, 256, 3)\n"
     ]
    },
    {
     "name": "stderr",
     "output_type": "stream",
     "text": [
      "\n",
      "\n",
      "\n",
      "\n",
      "\n",
      " 15%|█▍        | 222/1500 [00:49<04:03,  5.25it/s]\u001b[A\u001b[A\u001b[A\u001b[A\u001b[A\n",
      "\n",
      "\n",
      "\n",
      "\n",
      " 15%|█▍        | 223/1500 [00:49<04:00,  5.31it/s]\u001b[A\u001b[A\u001b[A\u001b[A\u001b[A"
     ]
    },
    {
     "name": "stdout",
     "output_type": "stream",
     "text": [
      "pred: [[560 172 836 388]\n",
      " [716 580 944 800]]\n",
      "true: []\n",
      "(256, 256, 3)\n",
      "pred: [[660 664 924 876]\n",
      " [632 324 880 476]\n",
      " [756 224 896 328]]\n",
      "true: []\n"
     ]
    },
    {
     "name": "stderr",
     "output_type": "stream",
     "text": [
      "\n",
      "\n",
      "\n",
      "\n",
      "\n",
      " 15%|█▍        | 224/1500 [00:49<03:53,  5.47it/s]\u001b[A\u001b[A\u001b[A\u001b[A\u001b[A"
     ]
    },
    {
     "name": "stdout",
     "output_type": "stream",
     "text": [
      "(256, 256, 3)\n",
      "pred: [[528 588 716 756]\n",
      " [528 192 740 416]\n",
      " [556 724 652 824]]\n",
      "true: []\n",
      "(256, 256, 3)\n"
     ]
    },
    {
     "name": "stderr",
     "output_type": "stream",
     "text": [
      "\n",
      "\n",
      "\n",
      "\n",
      "\n",
      " 15%|█▌        | 225/1500 [00:49<03:47,  5.60it/s]\u001b[A\u001b[A\u001b[A\u001b[A\u001b[A"
     ]
    },
    {
     "name": "stdout",
     "output_type": "stream",
     "text": [
      "pred: [[636 240 844 408]\n",
      " [652 576 840 768]]\n",
      "true: []\n",
      "(256, 256, 3)\n"
     ]
    },
    {
     "name": "stderr",
     "output_type": "stream",
     "text": [
      "\n",
      "\n",
      "\n",
      "\n",
      "\n",
      " 15%|█▌        | 226/1500 [00:49<03:59,  5.32it/s]\u001b[A\u001b[A\u001b[A\u001b[A\u001b[A\n",
      "\n",
      "\n",
      "\n",
      "\n",
      " 15%|█▌        | 227/1500 [00:49<03:50,  5.53it/s]\u001b[A\u001b[A\u001b[A\u001b[A\u001b[A"
     ]
    },
    {
     "name": "stdout",
     "output_type": "stream",
     "text": [
      "pred: [[304 588 792 808]\n",
      " [488 212 688 436]]\n",
      "true: [[ 78 156 194 202]\n",
      " [108  52 181 110]]\n",
      "(256, 256, 3)\n",
      "pred: [[504 208 712 388]\n",
      " [500 708 604 832]\n",
      " [540 588 736 768]]\n",
      "true: []\n"
     ]
    },
    {
     "name": "stderr",
     "output_type": "stream",
     "text": [
      "\n",
      "\n",
      "\n",
      "\n",
      "\n",
      " 15%|█▌        | 228/1500 [00:50<03:48,  5.58it/s]\u001b[A\u001b[A\u001b[A\u001b[A\u001b[A"
     ]
    },
    {
     "name": "stdout",
     "output_type": "stream",
     "text": [
      "(256, 256, 3)\n",
      "pred: [[560 252 712 436]\n",
      " [560 612 728 772]\n",
      " [424 352 612 460]]\n",
      "true: []\n",
      "(256, 256, 3)\n"
     ]
    },
    {
     "name": "stderr",
     "output_type": "stream",
     "text": [
      "\n",
      "\n",
      "\n",
      "\n",
      "\n",
      " 15%|█▌        | 229/1500 [00:50<03:53,  5.45it/s]\u001b[A\u001b[A\u001b[A\u001b[A\u001b[A\n",
      "\n",
      "\n",
      "\n",
      "\n",
      " 15%|█▌        | 230/1500 [00:50<03:43,  5.68it/s]\u001b[A\u001b[A\u001b[A\u001b[A\u001b[A"
     ]
    },
    {
     "name": "stdout",
     "output_type": "stream",
     "text": [
      "pred: [[596 204 756 388]\n",
      " [592 600 788 864]]\n",
      "true: []\n",
      "(256, 256, 3)\n",
      "pred: [[428 368 544 444]\n",
      " [372 616 460 700]\n",
      " [516 304 668 436]]\n",
      "true: []\n"
     ]
    },
    {
     "name": "stderr",
     "output_type": "stream",
     "text": [
      "\n",
      "\n",
      "\n",
      "\n",
      "\n",
      " 15%|█▌        | 231/1500 [00:50<03:42,  5.71it/s]\u001b[A\u001b[A\u001b[A\u001b[A\u001b[A"
     ]
    },
    {
     "name": "stdout",
     "output_type": "stream",
     "text": [
      "(256, 256, 3)\n",
      "pred: [[428 160 616 352]\n",
      " [424 568 756 764]]\n",
      "true: []\n",
      "(256, 256, 3)\n"
     ]
    },
    {
     "name": "stderr",
     "output_type": "stream",
     "text": [
      "\n",
      "\n",
      "\n",
      "\n",
      "\n",
      " 15%|█▌        | 232/1500 [00:50<03:39,  5.78it/s]\u001b[A\u001b[A\u001b[A\u001b[A\u001b[A\n",
      "\n",
      "\n",
      "\n",
      "\n",
      " 16%|█▌        | 233/1500 [00:51<03:47,  5.57it/s]"
     ]
    },
    {
     "name": "stdout",
     "output_type": "stream",
     "text": [
      "pred: [[568 228 792 432]\n",
      " [652 644 808 796]\n",
      " [416 640 608 740]]\n",
      "true: [[ 84  72 128 101]]\n",
      "(256, 256, 3)\n",
      "pred: [[228 156 856 396]\n",
      " [248 512 656 760]\n",
      " [728 592 864 752]]\n",
      "true: [[ 47 129 231 202]\n",
      " [ 48  42 213 100]]\n"
     ]
    },
    {
     "name": "stderr",
     "output_type": "stream",
     "text": [
      "\u001b[A\u001b[A\u001b[A\u001b[A\u001b[A\n",
      "\n",
      "\n",
      "\n",
      "\n",
      " 16%|█▌        | 234/1500 [00:51<03:49,  5.53it/s]\u001b[A\u001b[A\u001b[A\u001b[A\u001b[A"
     ]
    },
    {
     "name": "stdout",
     "output_type": "stream",
     "text": [
      "(256, 256, 3)\n",
      "pred: [[432 196 636 428]\n",
      " [468 752 596 876]\n",
      " [180 608 396 728]]\n",
      "true: [[126 177 175 235]]\n",
      "(256, 256, 3)\n"
     ]
    },
    {
     "name": "stderr",
     "output_type": "stream",
     "text": [
      "\n",
      "\n",
      "\n",
      "\n",
      "\n",
      " 16%|█▌        | 235/1500 [00:51<03:48,  5.55it/s]\u001b[A\u001b[A\u001b[A\u001b[A\u001b[A\n",
      "\n",
      "\n",
      "\n",
      "\n",
      " 16%|█▌        | 236/1500 [00:51<03:48,  5.54it/s]\u001b[A\u001b[A\u001b[A\u001b[A\u001b[A"
     ]
    },
    {
     "name": "stdout",
     "output_type": "stream",
     "text": [
      "pred: [[448 208 692 396]\n",
      " [384 604 724 824]]\n",
      "true: []\n",
      "(256, 256, 3)\n",
      "pred: [[568 176 752 380]\n",
      " [580 556 788 784]]\n",
      "true: []\n"
     ]
    },
    {
     "name": "stderr",
     "output_type": "stream",
     "text": [
      "\n",
      "\n",
      "\n",
      "\n",
      "\n",
      " 16%|█▌        | 237/1500 [00:51<03:48,  5.52it/s]\u001b[A\u001b[A\u001b[A\u001b[A\u001b[A"
     ]
    },
    {
     "name": "stdout",
     "output_type": "stream",
     "text": [
      "(256, 256, 3)\n",
      "pred: [[360 540 832 744]\n",
      " [576 180 720 344]\n",
      " [280 232 624 408]]\n",
      "true: []\n",
      "(256, 256, 3)\n"
     ]
    },
    {
     "name": "stderr",
     "output_type": "stream",
     "text": [
      "\n",
      "\n",
      "\n",
      "\n",
      "\n",
      " 16%|█▌        | 238/1500 [00:51<03:58,  5.30it/s]\u001b[A\u001b[A\u001b[A\u001b[A\u001b[A\n",
      "\n",
      "\n",
      "\n",
      "\n",
      " 16%|█▌        | 239/1500 [00:52<03:52,  5.41it/s]\u001b[A\u001b[A\u001b[A\u001b[A\u001b[A"
     ]
    },
    {
     "name": "stdout",
     "output_type": "stream",
     "text": [
      "pred: [[588 264 816 484]\n",
      " [492 712 824 920]\n",
      " [140 392 356 536]]\n",
      "true: []\n",
      "(256, 256, 3)\n",
      "pred: [[708 212 852 400]\n",
      " [708 672 932 936]\n",
      " [540 644 780 772]]\n",
      "true: []\n"
     ]
    },
    {
     "name": "stderr",
     "output_type": "stream",
     "text": [
      "\n",
      "\n",
      "\n",
      "\n",
      "\n",
      " 16%|█▌        | 240/1500 [00:52<03:53,  5.39it/s]\u001b[A\u001b[A\u001b[A\u001b[A\u001b[A"
     ]
    },
    {
     "name": "stdout",
     "output_type": "stream",
     "text": [
      "(256, 256, 3)\n",
      "pred: [[560 204 660 324]\n",
      " [500 680 624 804]\n",
      " [480 292 616 396]]\n",
      "true: []\n",
      "(256, 256, 3)\n"
     ]
    },
    {
     "name": "stderr",
     "output_type": "stream",
     "text": [
      "\n",
      "\n",
      "\n",
      "\n",
      "\n",
      " 16%|█▌        | 241/1500 [00:52<03:53,  5.40it/s]\u001b[A\u001b[A\u001b[A\u001b[A\u001b[A\n",
      "\n",
      "\n",
      "\n",
      "\n",
      " 16%|█▌        | 242/1500 [00:52<03:53,  5.38it/s]"
     ]
    },
    {
     "name": "stdout",
     "output_type": "stream",
     "text": [
      "pred: [[488 140 680 368]\n",
      " [464 564 652 724]\n",
      " [536 684 724 848]]\n",
      "true: []\n",
      "(256, 256, 3)\n",
      "pred: [[504 296 680 452]\n",
      " [584 660 720 880]\n",
      " [440 196 544 360]]\n",
      "true: []\n"
     ]
    },
    {
     "name": "stderr",
     "output_type": "stream",
     "text": [
      "\u001b[A\u001b[A\u001b[A\u001b[A\u001b[A\n",
      "\n",
      "\n",
      "\n",
      "\n",
      " 16%|█▌        | 243/1500 [00:52<04:28,  4.69it/s]\u001b[A\u001b[A\u001b[A\u001b[A\u001b[A"
     ]
    },
    {
     "name": "stdout",
     "output_type": "stream",
     "text": [
      "(256, 256, 3)\n",
      "pred: [[344 540 764 760]\n",
      " [572  88 808 316]\n",
      " [204 172 496 380]]\n",
      "true: [[150  31 208  83]]\n"
     ]
    },
    {
     "name": "stderr",
     "output_type": "stream",
     "text": [
      "\n",
      "\n",
      "\n",
      "\n",
      "\n",
      " 16%|█▋        | 244/1500 [00:53<04:19,  4.84it/s]\u001b[A\u001b[A\u001b[A\u001b[A\u001b[A"
     ]
    },
    {
     "name": "stdout",
     "output_type": "stream",
     "text": [
      "(256, 256, 3)\n",
      "pred: [[508 580 648 780]\n",
      " [356 320 448 400]\n",
      " [300 536 448 648]]\n",
      "true: []\n",
      "(256, 256, 3)\n"
     ]
    },
    {
     "name": "stderr",
     "output_type": "stream",
     "text": [
      "\n",
      "\n",
      "\n",
      "\n",
      "\n",
      " 16%|█▋        | 245/1500 [00:53<04:26,  4.70it/s]\u001b[A\u001b[A\u001b[A\u001b[A\u001b[A\n",
      "\n",
      "\n",
      "\n",
      "\n",
      " 16%|█▋        | 246/1500 [00:53<04:16,  4.88it/s]\u001b[A\u001b[A\u001b[A\u001b[A\u001b[A"
     ]
    },
    {
     "name": "stdout",
     "output_type": "stream",
     "text": [
      "pred: [[228 192 712 448]\n",
      " [432 588 724 820]]\n",
      "true: [[ 77  57 185 109]\n",
      " [103 145 203 203]]\n",
      "(256, 256, 3)\n",
      "pred: [[404 208 576 344]\n",
      " [244 632 428 776]\n",
      " [576 244 836 424]]\n",
      "true: []\n"
     ]
    },
    {
     "name": "stderr",
     "output_type": "stream",
     "text": [
      "\n",
      "\n",
      "\n",
      "\n",
      "\n",
      " 16%|█▋        | 247/1500 [00:53<04:13,  4.94it/s]\u001b[A\u001b[A\u001b[A\u001b[A\u001b[A"
     ]
    },
    {
     "name": "stdout",
     "output_type": "stream",
     "text": [
      "(256, 256, 3)\n",
      "pred: [[296 232 636 444]\n",
      " [360 576 764 804]]\n",
      "true: []\n"
     ]
    },
    {
     "name": "stderr",
     "output_type": "stream",
     "text": [
      "\n",
      "\n",
      "\n",
      "\n",
      "\n",
      " 17%|█▋        | 248/1500 [00:54<04:41,  4.44it/s]\u001b[A\u001b[A\u001b[A\u001b[A\u001b[A"
     ]
    },
    {
     "name": "stdout",
     "output_type": "stream",
     "text": [
      "(256, 256, 3)\n",
      "pred: [[252 468 808 780]\n",
      " [276  88 812 344]]\n",
      "true: [[ 91  23 144  74]\n",
      " [ 67 124 154 187]]\n",
      "(256, 256, 3)\n"
     ]
    },
    {
     "name": "stderr",
     "output_type": "stream",
     "text": [
      "\n",
      "\n",
      "\n",
      "\n",
      "\n",
      " 17%|█▋        | 249/1500 [00:54<04:19,  4.81it/s]\u001b[A\u001b[A\u001b[A\u001b[A\u001b[A"
     ]
    },
    {
     "name": "stdout",
     "output_type": "stream",
     "text": [
      "pred: [[516 240 656 400]\n",
      " [564 608 728 788]]\n",
      "true: []\n",
      "(256, 256, 3)\n"
     ]
    },
    {
     "name": "stderr",
     "output_type": "stream",
     "text": [
      "\n",
      "\n",
      "\n",
      "\n",
      "\n",
      " 17%|█▋        | 250/1500 [00:54<04:21,  4.79it/s]\u001b[A\u001b[A\u001b[A\u001b[A\u001b[A"
     ]
    },
    {
     "name": "stdout",
     "output_type": "stream",
     "text": [
      "pred: [[392 364 532 456]\n",
      " [508 644 648 844]\n",
      " [472 220 600 424]]\n",
      "true: []\n",
      "(256, 256, 3)\n"
     ]
    },
    {
     "name": "stderr",
     "output_type": "stream",
     "text": [
      "\n",
      "\n",
      "\n",
      "\n",
      "\n",
      " 17%|█▋        | 251/1500 [00:54<04:20,  4.80it/s]\u001b[A\u001b[A\u001b[A\u001b[A\u001b[A"
     ]
    },
    {
     "name": "stdout",
     "output_type": "stream",
     "text": [
      "pred: [[448 596 772 796]\n",
      " [584 208 748 372]]\n",
      "true: []\n",
      "(256, 256, 3)\n"
     ]
    },
    {
     "name": "stderr",
     "output_type": "stream",
     "text": [
      "\n",
      "\n",
      "\n",
      "\n",
      "\n",
      " 17%|█▋        | 252/1500 [00:54<04:23,  4.74it/s]\u001b[A\u001b[A\u001b[A\u001b[A\u001b[A"
     ]
    },
    {
     "name": "stdout",
     "output_type": "stream",
     "text": [
      "pred: [[352 584 552 808]\n",
      " [444 264 608 400]\n",
      " [236 564 392 716]]\n",
      "true: []\n",
      "(256, 256, 3)\n"
     ]
    },
    {
     "name": "stderr",
     "output_type": "stream",
     "text": [
      "\n",
      "\n",
      "\n",
      "\n",
      "\n",
      " 17%|█▋        | 253/1500 [00:55<04:24,  4.71it/s]\u001b[A\u001b[A\u001b[A\u001b[A\u001b[A"
     ]
    },
    {
     "name": "stdout",
     "output_type": "stream",
     "text": [
      "pred: [[536 188 824 388]\n",
      " [600 648 732 812]\n",
      " [116 544 288 692]]\n",
      "true: []\n",
      "(256, 256, 3)\n",
      "pred: [[428 612 640 804]\n",
      " [480 260 592 396]\n",
      " [164 608 248 688]]\n"
     ]
    },
    {
     "name": "stderr",
     "output_type": "stream",
     "text": [
      "\n",
      "\n",
      "\n",
      "\n",
      "\n",
      " 17%|█▋        | 254/1500 [00:55<04:20,  4.78it/s]\u001b[A\u001b[A\u001b[A\u001b[A\u001b[A"
     ]
    },
    {
     "name": "stdout",
     "output_type": "stream",
     "text": [
      "true: []\n",
      "(256, 256, 3)\n"
     ]
    },
    {
     "name": "stderr",
     "output_type": "stream",
     "text": [
      "\n",
      "\n",
      "\n",
      "\n",
      "\n",
      " 17%|█▋        | 255/1500 [00:55<04:32,  4.57it/s]\u001b[A\u001b[A\u001b[A\u001b[A\u001b[A\n",
      "\n",
      "\n",
      "\n",
      "\n",
      " 17%|█▋        | 256/1500 [00:55<04:19,  4.79it/s]\u001b[A\u001b[A\u001b[A\u001b[A\u001b[A"
     ]
    },
    {
     "name": "stdout",
     "output_type": "stream",
     "text": [
      "pred: [[200 560 904 856]\n",
      " [468 180 728 388]\n",
      " [180 608 332 772]]\n",
      "true: [[ 33  42 204 118]\n",
      " [ 36 141 228 214]]\n",
      "(256, 256, 3)\n",
      "pred: [[520 200 724 420]\n",
      " [364 628 704 908]]\n",
      "true: []\n"
     ]
    },
    {
     "name": "stderr",
     "output_type": "stream",
     "text": [
      "\n",
      "\n",
      "\n",
      "\n",
      "\n",
      " 17%|█▋        | 257/1500 [00:55<04:14,  4.88it/s]\u001b[A\u001b[A\u001b[A\u001b[A\u001b[A"
     ]
    },
    {
     "name": "stdout",
     "output_type": "stream",
     "text": [
      "(256, 256, 3)\n",
      "pred: [[352 140 760 368]\n",
      " [272 544 860 832]]\n",
      "true: [[ 92  22 175  88]\n",
      " [105 152 209 200]]\n",
      "(256, 256, 3)\n"
     ]
    },
    {
     "name": "stderr",
     "output_type": "stream",
     "text": [
      "\n",
      "\n",
      "\n",
      "\n",
      "\n",
      " 17%|█▋        | 258/1500 [00:56<04:06,  5.03it/s]\u001b[A\u001b[A\u001b[A\u001b[A\u001b[A"
     ]
    },
    {
     "name": "stdout",
     "output_type": "stream",
     "text": [
      "pred: [[436 348 596 472]\n",
      " [488 640 652 804]]\n",
      "true: [[119  73 142 111]]\n",
      "(256, 256, 3)\n"
     ]
    },
    {
     "name": "stderr",
     "output_type": "stream",
     "text": [
      "\n",
      "\n",
      "\n",
      "\n",
      "\n",
      " 17%|█▋        | 259/1500 [00:56<04:10,  4.96it/s]\u001b[A\u001b[A\u001b[A\u001b[A\u001b[A\n",
      "\n",
      "\n",
      "\n",
      "\n",
      " 17%|█▋        | 260/1500 [00:56<03:55,  5.26it/s]\u001b[A\u001b[A\u001b[A\u001b[A\u001b[A"
     ]
    },
    {
     "name": "stdout",
     "output_type": "stream",
     "text": [
      "pred: [[348 232 776 456]\n",
      " [236 608 420 752]\n",
      " [572 616 836 856]]\n",
      "true: []\n",
      "(256, 256, 3)\n",
      "pred: [[556 228 760 444]\n",
      " [532 608 724 832]]\n",
      "true: []\n"
     ]
    },
    {
     "name": "stderr",
     "output_type": "stream",
     "text": [
      "\n",
      "\n",
      "\n",
      "\n",
      "\n",
      " 17%|█▋        | 261/1500 [00:56<03:58,  5.20it/s]\u001b[A\u001b[A\u001b[A\u001b[A\u001b[A"
     ]
    },
    {
     "name": "stdout",
     "output_type": "stream",
     "text": [
      "(256, 256, 3)\n",
      "pred: [[548 228 716 440]\n",
      " [476 376 624 464]\n",
      " [508 712 680 868]]\n",
      "true: []\n",
      "(256, 256, 3)\n"
     ]
    },
    {
     "name": "stderr",
     "output_type": "stream",
     "text": [
      "\n",
      "\n",
      "\n",
      "\n",
      "\n",
      " 17%|█▋        | 262/1500 [00:56<03:55,  5.25it/s]\u001b[A\u001b[A\u001b[A\u001b[A\u001b[A\n",
      "\n",
      "\n",
      "\n",
      "\n",
      " 18%|█▊        | 263/1500 [00:57<03:51,  5.33it/s]\u001b[A\u001b[A\u001b[A\u001b[A\u001b[A"
     ]
    },
    {
     "name": "stdout",
     "output_type": "stream",
     "text": [
      "pred: [[496 188 844 396]\n",
      " [524 600 904 816]\n",
      " [140 292 312 436]]\n",
      "true: []\n",
      "(256, 256, 3)\n",
      "pred: [[492 608 784 804]\n",
      " [608 208 780 400]\n",
      " [412 568 572 676]]\n",
      "true: []\n"
     ]
    },
    {
     "name": "stderr",
     "output_type": "stream",
     "text": [
      "\n",
      "\n",
      "\n",
      "\n",
      "\n",
      " 18%|█▊        | 264/1500 [00:57<03:47,  5.43it/s]\u001b[A\u001b[A\u001b[A\u001b[A\u001b[A"
     ]
    },
    {
     "name": "stdout",
     "output_type": "stream",
     "text": [
      "(256, 256, 3)\n",
      "pred: [[440 188 592 404]\n",
      " [452 692 644 936]\n",
      " [144 220 292 428]]\n",
      "true: []\n",
      "(256, 256, 3)\n"
     ]
    },
    {
     "name": "stderr",
     "output_type": "stream",
     "text": [
      "\n",
      "\n",
      "\n",
      "\n",
      "\n",
      " 18%|█▊        | 265/1500 [00:57<03:43,  5.52it/s]\u001b[A\u001b[A\u001b[A\u001b[A\u001b[A\n",
      "\n",
      "\n",
      "\n",
      "\n",
      " 18%|█▊        | 266/1500 [00:57<03:32,  5.82it/s]\u001b[A\u001b[A\u001b[A\u001b[A\u001b[A"
     ]
    },
    {
     "name": "stdout",
     "output_type": "stream",
     "text": [
      "pred: [[280 284 692 508]\n",
      " [244 620 724 852]]\n",
      "true: [[ 72  79 169 120]\n",
      " [ 64 158 140 207]]\n",
      "(256, 256, 3)\n",
      "pred: [[484 240 612 432]\n",
      " [492 640 612 832]]\n",
      "true: []\n"
     ]
    },
    {
     "name": "stderr",
     "output_type": "stream",
     "text": [
      "\n",
      "\n",
      "\n",
      "\n",
      "\n",
      " 18%|█▊        | 267/1500 [00:57<03:31,  5.82it/s]\u001b[A\u001b[A\u001b[A\u001b[A\u001b[A"
     ]
    },
    {
     "name": "stdout",
     "output_type": "stream",
     "text": [
      "(256, 256, 3)\n",
      "pred: [[580 240 728 408]\n",
      " [480 644 604 732]\n",
      " [600 680 728 852]]\n",
      "true: []\n"
     ]
    },
    {
     "name": "stderr",
     "output_type": "stream",
     "text": [
      "\n",
      "\n",
      "\n",
      "\n",
      "\n",
      " 18%|█▊        | 268/1500 [00:57<03:49,  5.36it/s]\u001b[A\u001b[A\u001b[A\u001b[A\u001b[A"
     ]
    },
    {
     "name": "stdout",
     "output_type": "stream",
     "text": [
      "(256, 256, 3)\n",
      "pred: [[448 160 696 372]\n",
      " [484 536 728 764]]\n",
      "true: []\n",
      "(256, 256, 3)\n"
     ]
    },
    {
     "name": "stderr",
     "output_type": "stream",
     "text": [
      "\n",
      "\n",
      "\n",
      "\n",
      "\n",
      " 18%|█▊        | 269/1500 [00:58<03:36,  5.69it/s]\u001b[A\u001b[A\u001b[A\u001b[A\u001b[A\n",
      "\n",
      "\n",
      "\n",
      "\n",
      " 18%|█▊        | 270/1500 [00:58<03:29,  5.87it/s]\u001b[A\u001b[A\u001b[A\u001b[A\u001b[A"
     ]
    },
    {
     "name": "stdout",
     "output_type": "stream",
     "text": [
      "pred: [[584 580 696 760]\n",
      " [612 100 764 312]\n",
      " [492 268 708 384]]\n",
      "true: []\n",
      "(256, 256, 3)\n",
      "pred: [[464 568 640 748]\n",
      " [384 236 532 408]]\n",
      "true: []\n"
     ]
    },
    {
     "name": "stderr",
     "output_type": "stream",
     "text": [
      "\n",
      "\n",
      "\n",
      "\n",
      "\n",
      " 18%|█▊        | 271/1500 [00:58<03:54,  5.24it/s]\u001b[A\u001b[A\u001b[A\u001b[A\u001b[A"
     ]
    },
    {
     "name": "stdout",
     "output_type": "stream",
     "text": [
      "(256, 256, 3)\n",
      "pred: [[372 564 884 844]\n",
      " [388 164 824 404]\n",
      " [152 588 312 736]]\n",
      "true: []\n"
     ]
    },
    {
     "name": "stderr",
     "output_type": "stream",
     "text": [
      "\n",
      "\n",
      "\n",
      "\n",
      "\n",
      " 18%|█▊        | 272/1500 [00:58<03:56,  5.19it/s]\u001b[A\u001b[A\u001b[A\u001b[A\u001b[A"
     ]
    },
    {
     "name": "stdout",
     "output_type": "stream",
     "text": [
      "(256, 256, 3)\n",
      "pred: [[592 580 800 808]\n",
      " [468 260 784 460]]\n",
      "true: []\n",
      "(256, 256, 3)\n"
     ]
    },
    {
     "name": "stderr",
     "output_type": "stream",
     "text": [
      "\n",
      "\n",
      "\n",
      "\n",
      "\n",
      " 18%|█▊        | 273/1500 [00:58<03:46,  5.42it/s]\u001b[A\u001b[A\u001b[A\u001b[A\u001b[A\n",
      "\n",
      "\n",
      "\n",
      "\n",
      " 18%|█▊        | 274/1500 [00:58<03:37,  5.64it/s]\u001b[A\u001b[A\u001b[A\u001b[A\u001b[A"
     ]
    },
    {
     "name": "stdout",
     "output_type": "stream",
     "text": [
      "pred: [[532 208 724 428]\n",
      " [600 636 752 804]]\n",
      "true: []\n",
      "(256, 256, 3)\n",
      "pred: [[428 312 544 436]\n",
      " [468 604 620 780]\n",
      " [552 756 652 864]]\n",
      "true: []\n"
     ]
    },
    {
     "name": "stderr",
     "output_type": "stream",
     "text": [
      "\n",
      "\n",
      "\n",
      "\n",
      "\n",
      " 18%|█▊        | 275/1500 [00:59<03:29,  5.85it/s]\u001b[A\u001b[A\u001b[A\u001b[A\u001b[A"
     ]
    },
    {
     "name": "stdout",
     "output_type": "stream",
     "text": [
      "(256, 256, 3)\n",
      "pred: [[228 104 412 300]\n",
      " [336 588 432 668]]\n",
      "true: []\n",
      "(256, 256, 3)\n"
     ]
    },
    {
     "name": "stderr",
     "output_type": "stream",
     "text": [
      "\n",
      "\n",
      "\n",
      "\n",
      "\n",
      " 18%|█▊        | 276/1500 [00:59<03:32,  5.75it/s]\u001b[A\u001b[A\u001b[A\u001b[A\u001b[A\n",
      "\n",
      "\n",
      "\n",
      "\n",
      " 18%|█▊        | 277/1500 [00:59<03:39,  5.57it/s]\u001b[A\u001b[A\u001b[A\u001b[A\u001b[A"
     ]
    },
    {
     "name": "stdout",
     "output_type": "stream",
     "text": [
      "pred: [[256 608 384 728]\n",
      " [400 204 616 412]\n",
      " [484 544 676 768]]\n",
      "true: []\n",
      "(256, 256, 3)\n",
      "pred: [[536 192 688 380]\n",
      " [564 688 688 812]\n",
      " [412 624 560 720]]\n",
      "true: []\n"
     ]
    },
    {
     "name": "stderr",
     "output_type": "stream",
     "text": [
      "\n",
      "\n",
      "\n",
      "\n",
      "\n",
      " 19%|█▊        | 278/1500 [00:59<03:49,  5.31it/s]\u001b[A\u001b[A\u001b[A\u001b[A\u001b[A"
     ]
    },
    {
     "name": "stdout",
     "output_type": "stream",
     "text": [
      "(256, 256, 3)\n",
      "pred: [[396 232 728 488]\n",
      " [372 672 600 804]]\n",
      "true: []\n"
     ]
    },
    {
     "name": "stderr",
     "output_type": "stream",
     "text": [
      "\n",
      "\n",
      "\n",
      "\n",
      "\n",
      " 19%|█▊        | 279/1500 [00:59<03:56,  5.16it/s]\u001b[A\u001b[A\u001b[A\u001b[A\u001b[A"
     ]
    },
    {
     "name": "stdout",
     "output_type": "stream",
     "text": [
      "(256, 256, 3)\n",
      "pred: [[532 292 712 460]\n",
      " [572 632 764 868]]\n",
      "true: []\n"
     ]
    },
    {
     "name": "stderr",
     "output_type": "stream",
     "text": [
      "\n",
      "\n",
      "\n",
      "\n",
      "\n",
      " 19%|█▊        | 280/1500 [01:00<04:07,  4.93it/s]\u001b[A\u001b[A\u001b[A\u001b[A\u001b[A"
     ]
    },
    {
     "name": "stdout",
     "output_type": "stream",
     "text": [
      "(256, 256, 3)\n",
      "pred: [[556 208 732 416]\n",
      " [608 624 800 832]]\n",
      "true: []\n"
     ]
    },
    {
     "name": "stderr",
     "output_type": "stream",
     "text": [
      "\n",
      "\n",
      "\n",
      "\n",
      "\n",
      " 19%|█▊        | 281/1500 [01:00<04:10,  4.86it/s]\u001b[A\u001b[A\u001b[A\u001b[A\u001b[A"
     ]
    },
    {
     "name": "stdout",
     "output_type": "stream",
     "text": [
      "(256, 256, 3)\n",
      "pred: [[480 188 652 364]\n",
      " [464 548 720 712]\n",
      " [316 592 492 748]]\n",
      "true: []\n",
      "(256, 256, 3)"
     ]
    },
    {
     "name": "stderr",
     "output_type": "stream",
     "text": [
      "\n",
      "\n",
      "\n",
      "\n",
      "\n",
      " 19%|█▉        | 282/1500 [01:00<04:09,  4.89it/s]\u001b[A\u001b[A\u001b[A\u001b[A\u001b[A"
     ]
    },
    {
     "name": "stdout",
     "output_type": "stream",
     "text": [
      "\n",
      "pred: [[400 620 600 892]\n",
      " [436 204 556 432]\n",
      " [336 376 512 480]]\n",
      "true: []\n",
      "(256, 256, 3)\n"
     ]
    },
    {
     "name": "stderr",
     "output_type": "stream",
     "text": [
      "\n",
      "\n",
      "\n",
      "\n",
      "\n",
      " 19%|█▉        | 283/1500 [01:00<04:07,  4.91it/s]\u001b[A\u001b[A\u001b[A\u001b[A\u001b[A\n",
      "\n",
      "\n",
      "\n",
      "\n",
      " 19%|█▉        | 284/1500 [01:00<03:58,  5.09it/s]\u001b[A\u001b[A\u001b[A\u001b[A\u001b[A"
     ]
    },
    {
     "name": "stdout",
     "output_type": "stream",
     "text": [
      "pred: [[460 212 788 448]\n",
      " [456 700 820 916]]\n",
      "true: []\n",
      "(256, 256, 3)\n",
      "pred: [[472 616 684 844]\n",
      " [480 216 648 420]]\n",
      "true: []\n"
     ]
    },
    {
     "name": "stderr",
     "output_type": "stream",
     "text": [
      "\n",
      "\n",
      "\n",
      "\n",
      "\n",
      " 19%|█▉        | 285/1500 [01:01<03:55,  5.17it/s]\u001b[A\u001b[A\u001b[A\u001b[A\u001b[A"
     ]
    },
    {
     "name": "stdout",
     "output_type": "stream",
     "text": [
      "(256, 256, 3)\n",
      "pred: [[528 244 688 408]\n",
      " [532 616 700 792]\n",
      " [492 744 564 820]]\n",
      "true: []\n",
      "(256, 256, 3)\n"
     ]
    },
    {
     "name": "stderr",
     "output_type": "stream",
     "text": [
      "\n",
      "\n",
      "\n",
      "\n",
      "\n",
      " 19%|█▉        | 286/1500 [01:01<03:52,  5.21it/s]\u001b[A\u001b[A\u001b[A\u001b[A\u001b[A"
     ]
    },
    {
     "name": "stdout",
     "output_type": "stream",
     "text": [
      "pred: [[420 220 532 388]\n",
      " [444 564 592 720]\n",
      " [300 568 404 652]]\n",
      "true: []\n",
      "(256, 256, 3)\n"
     ]
    },
    {
     "name": "stderr",
     "output_type": "stream",
     "text": [
      "\n",
      "\n",
      "\n",
      "\n",
      "\n",
      " 19%|█▉        | 287/1500 [01:01<04:08,  4.88it/s]\u001b[A\u001b[A\u001b[A\u001b[A\u001b[A"
     ]
    },
    {
     "name": "stdout",
     "output_type": "stream",
     "text": [
      "pred: [[560 180 912 412]\n",
      " [412 636 560 736]\n",
      " [632 648 892 844]]\n",
      "true: []\n",
      "(256, 256, 3)\n"
     ]
    },
    {
     "name": "stderr",
     "output_type": "stream",
     "text": [
      "\n",
      "\n",
      "\n",
      "\n",
      "\n",
      " 19%|█▉        | 288/1500 [01:01<04:17,  4.70it/s]\u001b[A\u001b[A\u001b[A\u001b[A\u001b[A"
     ]
    },
    {
     "name": "stdout",
     "output_type": "stream",
     "text": [
      "pred: [[512 156 760 400]\n",
      " [476 580 824 848]]\n",
      "true: [[138  48 197 109]\n",
      " [116 146 195 211]]\n",
      "(256, 256, 3)\n"
     ]
    },
    {
     "name": "stderr",
     "output_type": "stream",
     "text": [
      "\n",
      "\n",
      "\n",
      "\n",
      "\n",
      " 19%|█▉        | 289/1500 [01:01<04:19,  4.66it/s]\u001b[A\u001b[A\u001b[A\u001b[A\u001b[A"
     ]
    },
    {
     "name": "stdout",
     "output_type": "stream",
     "text": [
      "pred: [[304 356 560 476]\n",
      " [596 568 756 708]\n",
      " [612 252 736 404]]\n",
      "true: []\n",
      "(256, 256, 3)\n"
     ]
    },
    {
     "name": "stderr",
     "output_type": "stream",
     "text": [
      "\n",
      "\n",
      "\n",
      "\n",
      "\n",
      " 19%|█▉        | 290/1500 [01:02<04:33,  4.43it/s]\u001b[A\u001b[A\u001b[A\u001b[A\u001b[A"
     ]
    },
    {
     "name": "stdout",
     "output_type": "stream",
     "text": [
      "pred: [[584 176 700 392]\n",
      " [332 624 512 724]\n",
      " [244 312 336 500]]\n",
      "true: []\n",
      "(256, 256, 3)\n",
      "pred: "
     ]
    },
    {
     "name": "stderr",
     "output_type": "stream",
     "text": [
      "\n",
      "\n",
      "\n",
      "\n",
      "\n",
      " 19%|█▉        | 291/1500 [01:02<04:24,  4.57it/s]\u001b[A\u001b[A\u001b[A\u001b[A\u001b[A\n",
      "\n",
      "\n",
      "\n",
      "\n",
      " 19%|█▉        | 292/1500 [01:02<03:59,  5.04it/s]\u001b[A\u001b[A\u001b[A\u001b[A\u001b[A"
     ]
    },
    {
     "name": "stdout",
     "output_type": "stream",
     "text": [
      "[[616 196 748 372]\n",
      " [444 568 780 780]]\n",
      "true: []\n",
      "(256, 256, 3)\n",
      "pred: [[620 156 820 304]\n",
      " [716 480 916 672]\n",
      " [232 420 444 568]]\n",
      "true: []\n"
     ]
    },
    {
     "name": "stderr",
     "output_type": "stream",
     "text": [
      "\n",
      "\n",
      "\n",
      "\n",
      "\n",
      " 20%|█▉        | 293/1500 [01:02<03:55,  5.12it/s]\u001b[A\u001b[A\u001b[A\u001b[A\u001b[A"
     ]
    },
    {
     "name": "stdout",
     "output_type": "stream",
     "text": [
      "(256, 256, 3)\n",
      "pred: [[532 248 756 436]\n",
      " [304 628 716 832]]\n",
      "true: [[128 160 177 208]\n",
      " [124  74 187 111]]\n",
      "(256, 256, 3)\n"
     ]
    },
    {
     "name": "stderr",
     "output_type": "stream",
     "text": [
      "\n",
      "\n",
      "\n",
      "\n",
      "\n",
      " 20%|█▉        | 294/1500 [01:02<03:45,  5.36it/s]\u001b[A\u001b[A\u001b[A\u001b[A\u001b[A\n",
      "\n",
      "\n",
      "\n",
      "\n",
      " 20%|█▉        | 295/1500 [01:03<03:39,  5.49it/s]\u001b[A\u001b[A\u001b[A\u001b[A\u001b[A"
     ]
    },
    {
     "name": "stdout",
     "output_type": "stream",
     "text": [
      "pred: [[612 220 824 440]\n",
      " [408 620 820 880]]\n",
      "true: []\n",
      "(256, 256, 3)\n",
      "pred: [[400 604 580 832]\n",
      " [424 228 548 432]\n",
      " [216 576 372 696]]\n",
      "true: [[ 95 146 135 187]]\n"
     ]
    },
    {
     "name": "stderr",
     "output_type": "stream",
     "text": [
      "\n",
      "\n",
      "\n",
      "\n",
      "\n",
      " 20%|█▉        | 296/1500 [01:03<03:28,  5.77it/s]\u001b[A\u001b[A\u001b[A\u001b[A\u001b[A"
     ]
    },
    {
     "name": "stdout",
     "output_type": "stream",
     "text": [
      "(256, 256, 3)\n",
      "pred: [[324 292 460 480]\n",
      " [276 696 704 960]\n",
      " [548 364 688 464]]\n",
      "true: []\n",
      "(256, 256, 3)\n"
     ]
    },
    {
     "name": "stderr",
     "output_type": "stream",
     "text": [
      "\n",
      "\n",
      "\n",
      "\n",
      "\n",
      " 20%|█▉        | 297/1500 [01:03<03:24,  5.88it/s]\u001b[A\u001b[A\u001b[A\u001b[A\u001b[A\n",
      "\n",
      "\n",
      "\n",
      "\n",
      " 20%|█▉        | 298/1500 [01:03<03:17,  6.10it/s]\u001b[A\u001b[A\u001b[A\u001b[A\u001b[A"
     ]
    },
    {
     "name": "stdout",
     "output_type": "stream",
     "text": [
      "pred: [[484 184 612 408]\n",
      " [476 656 680 904]\n",
      " [280 624 424 740]]\n",
      "true: []\n",
      "(256, 256, 3)\n",
      "pred: [[504 624 640 716]\n",
      " [488 220 668 428]\n",
      " [568 732 716 868]]\n",
      "true: []\n"
     ]
    },
    {
     "name": "stderr",
     "output_type": "stream",
     "text": [
      "\n",
      "\n",
      "\n",
      "\n",
      "\n",
      " 20%|█▉        | 299/1500 [01:03<03:18,  6.06it/s]\u001b[A\u001b[A\u001b[A\u001b[A\u001b[A"
     ]
    },
    {
     "name": "stdout",
     "output_type": "stream",
     "text": [
      "(256, 256, 3)\n",
      "pred: [[568 644 768 856]\n",
      " [548 216 736 448]]\n",
      "true: []\n",
      "(256, 256, 3)\n"
     ]
    },
    {
     "name": "stderr",
     "output_type": "stream",
     "text": [
      "\n",
      "\n",
      "\n",
      "\n",
      "\n",
      " 20%|██        | 300/1500 [01:03<03:43,  5.36it/s]\u001b[A\u001b[A\u001b[A\u001b[A\u001b[A\n",
      "\n",
      "\n",
      "\n",
      "\n"
     ]
    },
    {
     "name": "stdout",
     "output_type": "stream",
     "text": [
      "pred: [[540 192 728 400]\n",
      " [340 588 500 728]\n",
      " [536 576 680 744]]\n",
      "true: []\n",
      "(256, 256, 3)\n",
      "pred: [[580 608 764 748]\n",
      " [644 748 732 848]\n",
      " [612 204 764 400]]\n",
      "true: []\n"
     ]
    },
    {
     "name": "stderr",
     "output_type": "stream",
     "text": [
      " 20%|██        | 301/1500 [01:04<03:47,  5.28it/s]\u001b[A\u001b[A\u001b[A\u001b[A\u001b[A\n",
      "\n",
      "\n",
      "\n",
      "\n"
     ]
    },
    {
     "name": "stdout",
     "output_type": "stream",
     "text": [
      "(256, 256, 3)\n",
      "pred: [[456 252 684 472]\n",
      " [600 628 764 792]\n",
      " [256 436 368 512]]\n",
      "true: []\n"
     ]
    },
    {
     "name": "stderr",
     "output_type": "stream",
     "text": [
      " 20%|██        | 302/1500 [01:04<04:22,  4.56it/s]\u001b[A\u001b[A\u001b[A\u001b[A\u001b[A\n",
      "\n",
      "\n",
      "\n",
      "\n",
      " 20%|██        | 303/1500 [01:04<04:31,  4.41it/s]\u001b[A\u001b[A\u001b[A\u001b[A\u001b[A"
     ]
    },
    {
     "name": "stdout",
     "output_type": "stream",
     "text": [
      "(256, 256, 3)\n",
      "pred: [[264 136 616 392]\n",
      " [300 504 796 736]]\n",
      "true: [[ 61  12 216  94]\n",
      " [104 133 231 191]]\n"
     ]
    },
    {
     "name": "stderr",
     "output_type": "stream",
     "text": [
      "\n",
      "\n",
      "\n",
      "\n",
      "\n",
      " 20%|██        | 304/1500 [01:04<04:29,  4.43it/s]\u001b[A\u001b[A\u001b[A\u001b[A\u001b[A"
     ]
    },
    {
     "name": "stdout",
     "output_type": "stream",
     "text": [
      "(256, 256, 3)\n",
      "pred: [[428  76 680 304]\n",
      " [328 500 744 764]]\n",
      "true: []\n"
     ]
    },
    {
     "name": "stderr",
     "output_type": "stream",
     "text": [
      "\n",
      "\n",
      "\n",
      "\n",
      "\n",
      " 20%|██        | 305/1500 [01:05<04:24,  4.51it/s]\u001b[A\u001b[A\u001b[A\u001b[A\u001b[A"
     ]
    },
    {
     "name": "stdout",
     "output_type": "stream",
     "text": [
      "(256, 256, 3)\n",
      "pred: [[296 608 472 736]\n",
      " [536 260 732 436]]\n",
      "true: []\n",
      "(256, 256, 3)\n"
     ]
    },
    {
     "name": "stderr",
     "output_type": "stream",
     "text": [
      "\n",
      "\n",
      "\n",
      "\n",
      "\n",
      " 20%|██        | 306/1500 [01:05<04:24,  4.52it/s]\u001b[A\u001b[A\u001b[A\u001b[A\u001b[A\n",
      "\n",
      "\n",
      "\n",
      "\n",
      " 20%|██        | 307/1500 [01:05<04:13,  4.71it/s]\u001b[A\u001b[A\u001b[A\u001b[A\u001b[A"
     ]
    },
    {
     "name": "stdout",
     "output_type": "stream",
     "text": [
      "pred: [[508 264 728 456]\n",
      " [564 640 780 848]]\n",
      "true: [[126  63 192 110]\n",
      " [122 167 213 223]]\n",
      "(256, 256, 3)\n",
      "pred: [[476 216 680 412]\n",
      " [592 600 740 764]\n",
      " [364 584 468 672]]\n",
      "true: []\n"
     ]
    },
    {
     "name": "stderr",
     "output_type": "stream",
     "text": [
      "\n",
      "\n",
      "\n",
      "\n",
      "\n",
      " 21%|██        | 308/1500 [01:05<04:31,  4.39it/s]\u001b[A\u001b[A\u001b[A\u001b[A\u001b[A"
     ]
    },
    {
     "name": "stdout",
     "output_type": "stream",
     "text": [
      "(256, 256, 3)\n",
      "pred: [[508 228 612 352]\n",
      " [532 532 684 748]\n",
      " [444 304 548 396]]\n",
      "true: []\n"
     ]
    },
    {
     "name": "stderr",
     "output_type": "stream",
     "text": [
      "\n",
      "\n",
      "\n",
      "\n",
      "\n",
      " 21%|██        | 309/1500 [01:06<04:29,  4.41it/s]\u001b[A\u001b[A\u001b[A\u001b[A\u001b[A"
     ]
    },
    {
     "name": "stdout",
     "output_type": "stream",
     "text": [
      "(256, 256, 3)\n",
      "pred: [[344 216 616 456]\n",
      " [364 632 644 900]]\n",
      "true: []\n"
     ]
    },
    {
     "name": "stderr",
     "output_type": "stream",
     "text": [
      "\n",
      "\n",
      "\n",
      "\n",
      "\n",
      " 21%|██        | 310/1500 [01:06<04:25,  4.49it/s]\u001b[A\u001b[A\u001b[A\u001b[A\u001b[A"
     ]
    },
    {
     "name": "stdout",
     "output_type": "stream",
     "text": [
      "(256, 256, 3)\n",
      "pred: [[604 732 684 832]\n",
      " [368 240 648 484]\n",
      " [280 636 380 700]]\n",
      "true: []\n"
     ]
    },
    {
     "name": "stderr",
     "output_type": "stream",
     "text": [
      "\n",
      "\n",
      "\n",
      "\n",
      "\n",
      " 21%|██        | 311/1500 [01:06<04:29,  4.40it/s]\u001b[A\u001b[A\u001b[A\u001b[A\u001b[A"
     ]
    },
    {
     "name": "stdout",
     "output_type": "stream",
     "text": [
      "(256, 256, 3)\n",
      "pred: [[556 580 764 764]\n",
      " [524 272 696 420]]\n",
      "true: []\n"
     ]
    },
    {
     "name": "stderr",
     "output_type": "stream",
     "text": [
      "\n",
      "\n",
      "\n",
      "\n",
      "\n",
      " 21%|██        | 312/1500 [01:06<04:26,  4.46it/s]\u001b[A\u001b[A\u001b[A\u001b[A\u001b[A"
     ]
    },
    {
     "name": "stdout",
     "output_type": "stream",
     "text": [
      "(256, 256, 3)\n",
      "pred: [[548 240 716 408]\n",
      " [284 640 800 888]\n",
      " [328 232 520 404]]\n",
      "true: []\n",
      "(256, 256, 3)\n"
     ]
    },
    {
     "name": "stderr",
     "output_type": "stream",
     "text": [
      "\n",
      "\n",
      "\n",
      "\n",
      "\n",
      " 21%|██        | 313/1500 [01:06<04:01,  4.91it/s]\u001b[A\u001b[A\u001b[A\u001b[A\u001b[A"
     ]
    },
    {
     "name": "stdout",
     "output_type": "stream",
     "text": [
      "pred: [[476 276 624 464]\n",
      " [540 644 676 776]\n",
      " [488 432 596 504]]\n",
      "true: []\n",
      "(256, 256, 3)\n"
     ]
    },
    {
     "name": "stderr",
     "output_type": "stream",
     "text": [
      "\n",
      "\n",
      "\n",
      "\n",
      "\n",
      " 21%|██        | 314/1500 [01:07<04:05,  4.84it/s]\u001b[A\u001b[A\u001b[A\u001b[A\u001b[A"
     ]
    },
    {
     "name": "stdout",
     "output_type": "stream",
     "text": [
      "pred: [[520 256 656 436]\n",
      " [500 612 656 696]]\n",
      "true: []\n",
      "(256, 256, 3)\n"
     ]
    },
    {
     "name": "stderr",
     "output_type": "stream",
     "text": [
      "\n",
      "\n",
      "\n",
      "\n",
      "\n",
      " 21%|██        | 315/1500 [01:07<04:33,  4.34it/s]\u001b[A\u001b[A\u001b[A\u001b[A\u001b[A\n",
      "\n",
      "\n",
      "\n",
      "\n",
      " 21%|██        | 316/1500 [01:07<04:19,  4.56it/s]\u001b[A\u001b[A\u001b[A\u001b[A\u001b[A"
     ]
    },
    {
     "name": "stdout",
     "output_type": "stream",
     "text": [
      "pred: [[476 308 820 524]\n",
      " [392 696 812 912]]\n",
      "true: []\n",
      "(256, 256, 3)\n",
      "pred: [[564 228 752 424]\n",
      " [564 652 772 848]\n",
      " [412 608 600 740]]\n",
      "true: []\n"
     ]
    },
    {
     "name": "stderr",
     "output_type": "stream",
     "text": [
      "\n",
      "\n",
      "\n",
      "\n",
      "\n",
      " 21%|██        | 317/1500 [01:07<04:14,  4.66it/s]\u001b[A\u001b[A\u001b[A\u001b[A\u001b[A"
     ]
    },
    {
     "name": "stdout",
     "output_type": "stream",
     "text": [
      "(256, 256, 3)\n",
      "pred: [[396 704 540 840]\n",
      " [456 352 592 456]\n",
      " [576 276 768 444]]\n",
      "true: []\n"
     ]
    },
    {
     "name": "stderr",
     "output_type": "stream",
     "text": [
      "\n",
      "\n",
      "\n",
      "\n",
      "\n",
      " 21%|██        | 318/1500 [01:08<04:18,  4.58it/s]\u001b[A\u001b[A\u001b[A\u001b[A\u001b[A"
     ]
    },
    {
     "name": "stdout",
     "output_type": "stream",
     "text": [
      "(256, 256, 3)\n",
      "pred: [[368 572 524 740]\n",
      " [408 288 548 420]\n",
      " [260 260 440 432]]\n",
      "true: []\n"
     ]
    },
    {
     "name": "stderr",
     "output_type": "stream",
     "text": [
      "\n",
      "\n",
      "\n",
      "\n",
      "\n",
      " 21%|██▏       | 319/1500 [01:08<04:36,  4.27it/s]\u001b[A\u001b[A\u001b[A\u001b[A\u001b[A"
     ]
    },
    {
     "name": "stdout",
     "output_type": "stream",
     "text": [
      "(256, 256, 3)\n",
      "pred: [[452 212 796 448]\n",
      " [372 584 872 808]]\n",
      "true: [[102  69 205 124]\n",
      " [107 144 208 196]]\n"
     ]
    },
    {
     "name": "stderr",
     "output_type": "stream",
     "text": [
      "\n",
      "\n",
      "\n",
      "\n",
      "\n",
      " 21%|██▏       | 320/1500 [01:08<04:23,  4.49it/s]\u001b[A\u001b[A\u001b[A\u001b[A\u001b[A"
     ]
    },
    {
     "name": "stdout",
     "output_type": "stream",
     "text": [
      "(256, 256, 3)\n",
      "pred: [[460 600 752 864]\n",
      " [684 224 800 424]]\n",
      "true: [[170 183 193 215]]\n",
      "(256, 256, 3)\n"
     ]
    },
    {
     "name": "stderr",
     "output_type": "stream",
     "text": [
      "\n",
      "\n",
      "\n",
      "\n",
      "\n",
      " 21%|██▏       | 321/1500 [01:08<04:11,  4.68it/s]\u001b[A\u001b[A\u001b[A\u001b[A\u001b[A\n",
      "\n",
      "\n",
      "\n",
      "\n"
     ]
    },
    {
     "name": "stdout",
     "output_type": "stream",
     "text": [
      "pred: [[516 204 724 408]\n",
      " [556 568 724 712]\n",
      " [360 612 540 728]]\n",
      "true: []\n",
      "(256, 256, 3)\n",
      "pred: [[236 600 548 816]\n",
      " [488 100 652 296]\n",
      " [568 444 636 584]]\n",
      "true: []\n"
     ]
    },
    {
     "name": "stderr",
     "output_type": "stream",
     "text": [
      " 21%|██▏       | 322/1500 [01:08<04:04,  4.82it/s]\u001b[A\u001b[A\u001b[A\u001b[A\u001b[A\n",
      "\n",
      "\n",
      "\n",
      "\n",
      " 22%|██▏       | 323/1500 [01:09<04:05,  4.79it/s]\u001b[A\u001b[A\u001b[A\u001b[A\u001b[A"
     ]
    },
    {
     "name": "stdout",
     "output_type": "stream",
     "text": [
      "(256, 256, 3)\n",
      "pred: [[508 172 696 392]\n",
      " [520 604 740 836]\n",
      " [312 620 492 732]]\n",
      "true: []\n"
     ]
    },
    {
     "name": "stderr",
     "output_type": "stream",
     "text": [
      "\n",
      "\n",
      "\n",
      "\n",
      "\n",
      " 22%|██▏       | 324/1500 [01:09<04:18,  4.54it/s]\u001b[A\u001b[A\u001b[A\u001b[A\u001b[A"
     ]
    },
    {
     "name": "stdout",
     "output_type": "stream",
     "text": [
      "(256, 256, 3)\n",
      "pred: [[352 648 660 908]\n",
      " [248 264 616 488]]\n",
      "true: []\n"
     ]
    },
    {
     "name": "stderr",
     "output_type": "stream",
     "text": [
      "\n",
      "\n",
      "\n",
      "\n",
      "\n",
      " 22%|██▏       | 325/1500 [01:09<04:26,  4.41it/s]\u001b[A\u001b[A\u001b[A\u001b[A\u001b[A"
     ]
    },
    {
     "name": "stdout",
     "output_type": "stream",
     "text": [
      "(256, 256, 3)\n",
      "pred: [[128 560 308 712]\n",
      " [644 560 860 792]\n",
      " [612 152 812 380]]\n",
      "true: []\n"
     ]
    },
    {
     "name": "stderr",
     "output_type": "stream",
     "text": [
      "\n",
      "\n",
      "\n",
      "\n",
      "\n",
      " 22%|██▏       | 326/1500 [01:09<04:21,  4.49it/s]\u001b[A\u001b[A\u001b[A\u001b[A\u001b[A"
     ]
    },
    {
     "name": "stdout",
     "output_type": "stream",
     "text": [
      "(256, 256, 3)\n",
      "pred: [[584 152 764 384]\n",
      " [436 312 544 404]\n",
      " [628 572 804 696]]\n",
      "true: []\n"
     ]
    },
    {
     "name": "stderr",
     "output_type": "stream",
     "text": [
      "\n",
      "\n",
      "\n",
      "\n",
      "\n",
      " 22%|██▏       | 327/1500 [01:09<04:15,  4.59it/s]\u001b[A\u001b[A\u001b[A\u001b[A\u001b[A"
     ]
    },
    {
     "name": "stdout",
     "output_type": "stream",
     "text": [
      "(256, 256, 3)\n",
      "pred: [[420 644 684 888]\n",
      " [412 300 608 480]]\n",
      "true: [[100 155 167 216]]\n",
      "(256, 256, 3)\n"
     ]
    },
    {
     "name": "stderr",
     "output_type": "stream",
     "text": [
      "\n",
      "\n",
      "\n",
      "\n",
      "\n",
      " 22%|██▏       | 328/1500 [01:10<04:24,  4.44it/s]\u001b[A\u001b[A\u001b[A\u001b[A\u001b[A\n",
      "\n",
      "\n",
      "\n",
      "\n"
     ]
    },
    {
     "name": "stdout",
     "output_type": "stream",
     "text": [
      "pred: [[496 168 672 396]\n",
      " [452 576 700 800]]\n",
      "true: [[119  49 165 105]]\n",
      "(256, 256, 3)\n",
      "pred: [[464 232 708 404]\n",
      " [464 652 720 880]\n",
      " [348 604 564 732]]\n",
      "true: []\n"
     ]
    },
    {
     "name": "stderr",
     "output_type": "stream",
     "text": [
      " 22%|██▏       | 329/1500 [01:10<04:13,  4.61it/s]\u001b[A\u001b[A\u001b[A\u001b[A\u001b[A\n",
      "\n",
      "\n",
      "\n",
      "\n",
      " 22%|██▏       | 330/1500 [01:10<04:21,  4.47it/s]\u001b[A\u001b[A\u001b[A\u001b[A\u001b[A"
     ]
    },
    {
     "name": "stdout",
     "output_type": "stream",
     "text": [
      "(256, 256, 3)\n",
      "pred: [[488 628 660 892]\n",
      " [496 172 652 380]\n",
      " [384 316 544 416]]\n",
      "true: []\n"
     ]
    },
    {
     "name": "stderr",
     "output_type": "stream",
     "text": [
      "\n",
      "\n",
      "\n",
      "\n",
      "\n",
      " 22%|██▏       | 331/1500 [01:10<04:48,  4.06it/s]\u001b[A\u001b[A\u001b[A\u001b[A\u001b[A"
     ]
    },
    {
     "name": "stdout",
     "output_type": "stream",
     "text": [
      "(256, 256, 3)\n",
      "pred: [[316 148 664 428]\n",
      " [416 572 736 848]]\n",
      "true: []\n"
     ]
    },
    {
     "name": "stderr",
     "output_type": "stream",
     "text": [
      "\n",
      "\n",
      "\n",
      "\n",
      "\n",
      " 22%|██▏       | 332/1500 [01:11<04:50,  4.02it/s]\u001b[A\u001b[A\u001b[A\u001b[A\u001b[A"
     ]
    },
    {
     "name": "stdout",
     "output_type": "stream",
     "text": [
      "(256, 256, 3)\n",
      "pred: [[472 232 900 472]\n",
      " [244 612 916 924]\n",
      " [232 600 388 760]]\n",
      "true: [[146  68 233 110]\n",
      " [132 186 197 221]\n",
      " [ 62 154  96 193]]\n"
     ]
    },
    {
     "name": "stderr",
     "output_type": "stream",
     "text": [
      "\n",
      "\n",
      "\n",
      "\n",
      "\n",
      " 22%|██▏       | 333/1500 [01:11<04:43,  4.11it/s]\u001b[A\u001b[A\u001b[A\u001b[A\u001b[A"
     ]
    },
    {
     "name": "stdout",
     "output_type": "stream",
     "text": [
      "(256, 256, 3)\n",
      "pred: [[376 616 556 720]\n",
      " [544 264 748 424]\n",
      " [604 668 740 768]]\n",
      "true: []\n",
      "(256, 256, 3)\n"
     ]
    },
    {
     "name": "stderr",
     "output_type": "stream",
     "text": [
      "\n",
      "\n",
      "\n",
      "\n",
      "\n",
      " 22%|██▏       | 334/1500 [01:11<04:34,  4.25it/s]\u001b[A\u001b[A\u001b[A\u001b[A\u001b[A"
     ]
    },
    {
     "name": "stdout",
     "output_type": "stream",
     "text": [
      "pred: [[508 572 744 780]\n",
      " [568 188 776 352]\n",
      " [364 288 652 432]]\n",
      "true: []\n",
      "(256, 256, 3)\n"
     ]
    },
    {
     "name": "stderr",
     "output_type": "stream",
     "text": [
      "\n",
      "\n",
      "\n",
      "\n",
      "\n",
      " 22%|██▏       | 335/1500 [01:11<04:24,  4.40it/s]\u001b[A\u001b[A\u001b[A\u001b[A\u001b[A\n",
      "\n",
      "\n",
      "\n",
      "\n",
      " 22%|██▏       | 336/1500 [01:12<04:10,  4.65it/s]\u001b[A\u001b[A\u001b[A\u001b[A\u001b[A"
     ]
    },
    {
     "name": "stdout",
     "output_type": "stream",
     "text": [
      "pred: [[392 612 640 800]\n",
      " [360 316 532 460]]\n",
      "true: []\n",
      "(256, 256, 3)\n",
      "pred: [[652 596 876 728]\n",
      " [676 256 840 420]]\n",
      "true: []\n"
     ]
    },
    {
     "name": "stderr",
     "output_type": "stream",
     "text": [
      "\n",
      "\n",
      "\n",
      "\n",
      "\n",
      " 22%|██▏       | 337/1500 [01:12<03:57,  4.90it/s]\u001b[A\u001b[A\u001b[A\u001b[A\u001b[A"
     ]
    },
    {
     "name": "stdout",
     "output_type": "stream",
     "text": [
      "(256, 256, 3)\n",
      "pred: [[524 208 724 396]\n",
      " [428 588 736 812]\n",
      " [256 316 460 452]]\n",
      "true: []\n",
      "(256, 256, 3)\n"
     ]
    },
    {
     "name": "stderr",
     "output_type": "stream",
     "text": [
      "\n",
      "\n",
      "\n",
      "\n",
      "\n",
      " 23%|██▎       | 338/1500 [01:12<03:50,  5.03it/s]\u001b[A\u001b[A\u001b[A\u001b[A\u001b[A\n",
      "\n",
      "\n",
      "\n",
      "\n",
      " 23%|██▎       | 339/1500 [01:12<03:41,  5.24it/s]\u001b[A\u001b[A\u001b[A\u001b[A\u001b[A"
     ]
    },
    {
     "name": "stdout",
     "output_type": "stream",
     "text": [
      "pred: [[552 352 712 532]\n",
      " [584 676 752 852]\n",
      " [448 684 608 820]]\n",
      "true: [[108 174 153 206]\n",
      " [138  98 182 138]]\n",
      "(256, 256, 3)\n",
      "pred: [[484 220 644 396]\n",
      " [536 580 672 708]\n",
      " [320 580 420 648]]\n",
      "true: []\n"
     ]
    },
    {
     "name": "stderr",
     "output_type": "stream",
     "text": [
      "\n",
      "\n",
      "\n",
      "\n",
      "\n",
      " 23%|██▎       | 340/1500 [01:12<03:35,  5.38it/s]\u001b[A\u001b[A\u001b[A\u001b[A\u001b[A"
     ]
    },
    {
     "name": "stdout",
     "output_type": "stream",
     "text": [
      "(256, 256, 3)\n",
      "pred: [[436 188 548 408]\n",
      " [412 620 612 844]\n",
      " [384 360 504 464]]\n",
      "true: []\n",
      "(256, 256, 3)\n"
     ]
    },
    {
     "name": "stderr",
     "output_type": "stream",
     "text": [
      "\n",
      "\n",
      "\n",
      "\n",
      "\n",
      " 23%|██▎       | 341/1500 [01:12<03:37,  5.33it/s]\u001b[A\u001b[A\u001b[A\u001b[A\u001b[A"
     ]
    },
    {
     "name": "stdout",
     "output_type": "stream",
     "text": [
      "pred: [[276 624 788 876]\n",
      " [480 256 788 452]]\n",
      "true: []\n",
      "(256, 256, 3)\n"
     ]
    },
    {
     "name": "stderr",
     "output_type": "stream",
     "text": [
      "\n",
      "\n",
      "\n",
      "\n",
      "\n",
      " 23%|██▎       | 342/1500 [01:13<03:50,  5.02it/s]\u001b[A\u001b[A\u001b[A\u001b[A\u001b[A\n",
      "\n",
      "\n",
      "\n",
      "\n",
      " 23%|██▎       | 343/1500 [01:13<03:49,  5.04it/s]\u001b[A\u001b[A\u001b[A\u001b[A\u001b[A"
     ]
    },
    {
     "name": "stdout",
     "output_type": "stream",
     "text": [
      "pred: [[376 160 612 368]\n",
      " [448 580 692 832]]\n",
      "true: []\n",
      "(256, 256, 3)\n",
      "pred: [[524 584 744 828]\n",
      " [508 232 636 392]]\n",
      "true: []\n"
     ]
    },
    {
     "name": "stderr",
     "output_type": "stream",
     "text": [
      "\n",
      "\n",
      "\n",
      "\n",
      "\n",
      " 23%|██▎       | 344/1500 [01:13<03:33,  5.42it/s]\u001b[A\u001b[A\u001b[A\u001b[A\u001b[A"
     ]
    },
    {
     "name": "stdout",
     "output_type": "stream",
     "text": [
      "(256, 256, 3)\n",
      "pred: [[492 232 632 408]\n",
      " [564 624 652 704]\n",
      " [400 636 492 716]]\n",
      "true: []\n",
      "(256, 256, 3)\n"
     ]
    },
    {
     "name": "stderr",
     "output_type": "stream",
     "text": [
      "\n",
      "\n",
      "\n",
      "\n",
      "\n",
      " 23%|██▎       | 345/1500 [01:13<03:23,  5.67it/s]\u001b[A\u001b[A\u001b[A\u001b[A\u001b[A\n",
      "\n",
      "\n",
      "\n",
      "\n",
      " 23%|██▎       | 346/1500 [01:13<03:16,  5.86it/s]\u001b[A\u001b[A\u001b[A\u001b[A\u001b[A"
     ]
    },
    {
     "name": "stdout",
     "output_type": "stream",
     "text": [
      "pred: [[528 240 728 420]\n",
      " [580 636 776 784]]\n",
      "true: []\n",
      "(256, 256, 3)\n",
      "pred: [[568 244 768 416]\n",
      " [488 624 788 844]\n",
      " [428 336 644 468]]\n",
      "true: []\n"
     ]
    },
    {
     "name": "stderr",
     "output_type": "stream",
     "text": [
      "\n",
      "\n",
      "\n",
      "\n",
      "\n",
      " 23%|██▎       | 347/1500 [01:14<03:12,  5.98it/s]\u001b[A\u001b[A\u001b[A\u001b[A\u001b[A"
     ]
    },
    {
     "name": "stdout",
     "output_type": "stream",
     "text": [
      "(256, 256, 3)\n",
      "pred: [[444 688 516 776]\n",
      " [464 248 608 408]\n",
      " [564 692 712 844]]\n",
      "true: []\n",
      "(256, 256, 3)\n"
     ]
    },
    {
     "name": "stderr",
     "output_type": "stream",
     "text": [
      "\n",
      "\n",
      "\n",
      "\n",
      "\n",
      " 23%|██▎       | 348/1500 [01:14<03:23,  5.65it/s]\u001b[A\u001b[A\u001b[A\u001b[A\u001b[A"
     ]
    },
    {
     "name": "stdout",
     "output_type": "stream",
     "text": [
      "pred: [[524 256 736 448]\n",
      " [352 660 748 904]]\n",
      "true: []\n",
      "(256, 256, 3)\n"
     ]
    },
    {
     "name": "stderr",
     "output_type": "stream",
     "text": [
      "\n",
      "\n",
      "\n",
      "\n",
      "\n",
      " 23%|██▎       | 349/1500 [01:14<03:41,  5.20it/s]\u001b[A\u001b[A\u001b[A\u001b[A\u001b[A\n",
      "\n",
      "\n",
      "\n",
      "\n",
      " 23%|██▎       | 350/1500 [01:14<03:39,  5.24it/s]\u001b[A\u001b[A\u001b[A\u001b[A\u001b[A"
     ]
    },
    {
     "name": "stdout",
     "output_type": "stream",
     "text": [
      "pred: [[436 616 640 720]\n",
      " [620 180 796 396]\n",
      " [692 700 848 848]]\n",
      "true: []\n",
      "(256, 256, 3)\n",
      "pred: [[436 332 616 448]\n",
      " [416 632 576 720]]\n",
      "true: []\n"
     ]
    },
    {
     "name": "stderr",
     "output_type": "stream",
     "text": [
      "\n",
      "\n",
      "\n",
      "\n",
      "\n",
      " 23%|██▎       | 351/1500 [01:14<03:46,  5.07it/s]\u001b[A\u001b[A\u001b[A\u001b[A\u001b[A"
     ]
    },
    {
     "name": "stdout",
     "output_type": "stream",
     "text": [
      "(256, 256, 3)\n",
      "pred: [[368 564 800 804]\n",
      " [560 192 760 380]]\n",
      "true: []\n"
     ]
    },
    {
     "name": "stderr",
     "output_type": "stream",
     "text": [
      "\n",
      "\n",
      "\n",
      "\n",
      "\n",
      " 23%|██▎       | 352/1500 [01:15<03:50,  4.97it/s]\u001b[A\u001b[A\u001b[A\u001b[A\u001b[A"
     ]
    },
    {
     "name": "stdout",
     "output_type": "stream",
     "text": [
      "(256, 256, 3)\n",
      "pred: [[ 220  432  948  704]\n",
      " [ 260  116  748  368]\n",
      " [ 296  792  924 1000]]\n",
      "true: []\n"
     ]
    },
    {
     "name": "stderr",
     "output_type": "stream",
     "text": [
      "\n",
      "\n",
      "\n",
      "\n",
      "\n",
      " 24%|██▎       | 353/1500 [01:15<04:10,  4.58it/s]\u001b[A\u001b[A\u001b[A\u001b[A\u001b[A"
     ]
    },
    {
     "name": "stdout",
     "output_type": "stream",
     "text": [
      "(256, 256, 3)\n",
      "pred: [[348 188 504 348]\n",
      " [616 692 732 808]\n",
      " [476 168 696 384]]\n",
      "true: []\n"
     ]
    },
    {
     "name": "stderr",
     "output_type": "stream",
     "text": [
      "\n",
      "\n",
      "\n",
      "\n",
      "\n",
      " 24%|██▎       | 354/1500 [01:15<04:19,  4.41it/s]\u001b[A\u001b[A\u001b[A\u001b[A\u001b[A"
     ]
    },
    {
     "name": "stdout",
     "output_type": "stream",
     "text": [
      "(256, 256, 3)\n",
      "pred: [[432 552 652 808]\n",
      " [472 216 596 372]]\n",
      "true: []\n"
     ]
    },
    {
     "name": "stderr",
     "output_type": "stream",
     "text": [
      "\n",
      "\n",
      "\n",
      "\n",
      "\n",
      " 24%|██▎       | 355/1500 [01:15<04:28,  4.27it/s]\u001b[A\u001b[A\u001b[A\u001b[A\u001b[A"
     ]
    },
    {
     "name": "stdout",
     "output_type": "stream",
     "text": [
      "(256, 256, 3)\n",
      "pred: [[216 552 612 780]\n",
      " [604  76 768 280]\n",
      " [420 216 688 388]]\n",
      "true: [[ 47 128 172 200]\n",
      " [131  23 197  90]]\n"
     ]
    },
    {
     "name": "stderr",
     "output_type": "stream",
     "text": [
      "\n",
      "\n",
      "\n",
      "\n",
      "\n",
      " 24%|██▎       | 356/1500 [01:16<04:30,  4.24it/s]\u001b[A\u001b[A\u001b[A\u001b[A\u001b[A"
     ]
    },
    {
     "name": "stdout",
     "output_type": "stream",
     "text": [
      "(256, 256, 3)\n",
      "pred: [[368 296 512 396]\n",
      " [272 568 488 716]\n",
      " [388 728 580 864]]\n",
      "true: []\n",
      "(256, 256, 3)\n"
     ]
    },
    {
     "name": "stderr",
     "output_type": "stream",
     "text": [
      "\n",
      "\n",
      "\n",
      "\n",
      "\n",
      " 24%|██▍       | 357/1500 [01:16<04:20,  4.38it/s]\u001b[A\u001b[A\u001b[A\u001b[A\u001b[A"
     ]
    },
    {
     "name": "stdout",
     "output_type": "stream",
     "text": [
      "pred: [[532 200 728 412]\n",
      " [520 608 724 812]\n",
      " [264 212 416 340]]\n",
      "true: []\n",
      "(256, 256, 3)\n",
      "pred:"
     ]
    },
    {
     "name": "stderr",
     "output_type": "stream",
     "text": [
      "\n",
      "\n",
      "\n",
      "\n",
      "\n",
      " 24%|██▍       | 358/1500 [01:16<04:12,  4.53it/s]\u001b[A\u001b[A\u001b[A\u001b[A\u001b[A\n",
      "\n",
      "\n",
      "\n",
      "\n",
      " 24%|██▍       | 359/1500 [01:16<03:59,  4.76it/s]\u001b[A\u001b[A\u001b[A\u001b[A\u001b[A"
     ]
    },
    {
     "name": "stdout",
     "output_type": "stream",
     "text": [
      " [[428 760 508 840]\n",
      " [484 288 640 476]\n",
      " [476 704 664 864]]\n",
      "true: []\n",
      "(256, 256, 3)\n",
      "pred: [[508 224 688 388]\n",
      " [596 572 744 720]\n",
      " [340 296 532 428]]\n",
      "true: []\n"
     ]
    },
    {
     "name": "stderr",
     "output_type": "stream",
     "text": [
      "\n",
      "\n",
      "\n",
      "\n",
      "\n",
      " 24%|██▍       | 360/1500 [01:16<03:50,  4.94it/s]\u001b[A\u001b[A\u001b[A\u001b[A\u001b[A"
     ]
    },
    {
     "name": "stdout",
     "output_type": "stream",
     "text": [
      "(256, 256, 3)\n",
      "pred: [[428 152 560 352]\n",
      " [452 548 648 752]]\n",
      "true: []\n",
      "(256, 256, 3)\n"
     ]
    },
    {
     "name": "stderr",
     "output_type": "stream",
     "text": [
      "\n",
      "\n",
      "\n",
      "\n",
      "\n",
      " 24%|██▍       | 361/1500 [01:16<03:40,  5.15it/s]\u001b[A\u001b[A\u001b[A\u001b[A\u001b[A\n",
      "\n",
      "\n",
      "\n",
      "\n",
      " 24%|██▍       | 362/1500 [01:17<03:32,  5.34it/s]\u001b[A\u001b[A\u001b[A\u001b[A\u001b[A"
     ]
    },
    {
     "name": "stdout",
     "output_type": "stream",
     "text": [
      "pred: [[484 632 756 892]\n",
      " [512 176 688 396]]\n",
      "true: []\n",
      "(256, 256, 3)\n",
      "pred: [[500 324 704 488]\n",
      " [560 712 732 856]\n",
      " [196 620 440 716]]\n",
      "true: []\n"
     ]
    },
    {
     "name": "stderr",
     "output_type": "stream",
     "text": [
      "\n",
      "\n",
      "\n",
      "\n",
      "\n",
      " 24%|██▍       | 363/1500 [01:17<03:32,  5.35it/s]\u001b[A\u001b[A\u001b[A\u001b[A\u001b[A"
     ]
    },
    {
     "name": "stdout",
     "output_type": "stream",
     "text": [
      "(256, 256, 3)\n",
      "pred: [[552 696 684 844]\n",
      " [576 176 708 360]\n",
      " [492 308 632 412]]\n",
      "true: []\n",
      "(256, 256, 3)\n"
     ]
    },
    {
     "name": "stderr",
     "output_type": "stream",
     "text": [
      "\n",
      "\n",
      "\n",
      "\n",
      "\n",
      " 24%|██▍       | 364/1500 [01:17<03:31,  5.38it/s]\u001b[A\u001b[A\u001b[A\u001b[A\u001b[A\n",
      "\n",
      "\n",
      "\n",
      "\n",
      " 24%|██▍       | 365/1500 [01:17<03:27,  5.47it/s]\u001b[A\u001b[A\u001b[A\u001b[A\u001b[A"
     ]
    },
    {
     "name": "stdout",
     "output_type": "stream",
     "text": [
      "pred: [[392 284 588 428]\n",
      " [500 616 628 800]\n",
      " [400 648 528 828]]\n",
      "true: []\n",
      "(256, 256, 3)\n",
      "pred: [[464 720 576 848]\n",
      " [356 168 516 368]\n",
      " [448 552 580 708]]\n",
      "true: []\n"
     ]
    },
    {
     "name": "stderr",
     "output_type": "stream",
     "text": [
      "\n",
      "\n",
      "\n",
      "\n",
      "\n",
      " 24%|██▍       | 366/1500 [01:17<03:25,  5.51it/s]\u001b[A\u001b[A\u001b[A\u001b[A\u001b[A"
     ]
    },
    {
     "name": "stdout",
     "output_type": "stream",
     "text": [
      "(256, 256, 3)\n",
      "pred: [[572 276 756 444]\n",
      " [636 652 848 828]]\n",
      "true: []\n",
      "(256, 256, 3)\n"
     ]
    },
    {
     "name": "stderr",
     "output_type": "stream",
     "text": [
      "\n",
      "\n",
      "\n",
      "\n",
      "\n",
      " 24%|██▍       | 367/1500 [01:18<03:24,  5.54it/s]\u001b[A\u001b[A\u001b[A\u001b[A\u001b[A"
     ]
    },
    {
     "name": "stdout",
     "output_type": "stream",
     "text": [
      "pred: [[516 168 800 372]\n",
      " [668 548 892 756]\n",
      " [260 536 432 664]]\n",
      "true: []\n",
      "(256, 256, 3)\n"
     ]
    },
    {
     "name": "stderr",
     "output_type": "stream",
     "text": [
      "\n",
      "\n",
      "\n",
      "\n",
      "\n",
      " 25%|██▍       | 368/1500 [01:18<03:53,  4.85it/s]\u001b[A\u001b[A\u001b[A\u001b[A\u001b[A\n",
      "\n",
      "\n",
      "\n",
      "\n",
      " 25%|██▍       | 369/1500 [01:18<03:48,  4.95it/s]\u001b[A\u001b[A\u001b[A\u001b[A\u001b[A"
     ]
    },
    {
     "name": "stdout",
     "output_type": "stream",
     "text": [
      "pred: [[128 100 588 324]\n",
      " [164 448 636 728]]\n",
      "true: [[ 98 128 139 188]\n",
      " [ 47  37 133  76]]\n",
      "(256, 256, 3)\n",
      "pred: [[384 212 580 400]\n",
      " [412 724 552 872]\n",
      " [468 600 620 752]]\n",
      "true: []\n"
     ]
    },
    {
     "name": "stderr",
     "output_type": "stream",
     "text": [
      "\n",
      "\n",
      "\n",
      "\n",
      "\n",
      " 25%|██▍       | 370/1500 [01:18<03:39,  5.14it/s]\u001b[A\u001b[A\u001b[A\u001b[A\u001b[A"
     ]
    },
    {
     "name": "stdout",
     "output_type": "stream",
     "text": [
      "(256, 256, 3)\n",
      "pred: [[472 240 640 412]\n",
      " [508 584 664 736]]\n",
      "true: []\n",
      "(256, 256, 3)\n"
     ]
    },
    {
     "name": "stderr",
     "output_type": "stream",
     "text": [
      "\n",
      "\n",
      "\n",
      "\n",
      "\n",
      " 25%|██▍       | 371/1500 [01:18<03:45,  5.01it/s]\u001b[A\u001b[A\u001b[A\u001b[A\u001b[A\n",
      "\n",
      "\n",
      "\n",
      "\n",
      " 25%|██▍       | 372/1500 [01:19<03:40,  5.13it/s]\u001b[A\u001b[A\u001b[A\u001b[A\u001b[A"
     ]
    },
    {
     "name": "stdout",
     "output_type": "stream",
     "text": [
      "pred: [[496 612 684 816]\n",
      " [528 192 712 388]\n",
      " [ 84 604 236 756]]\n",
      "true: []\n",
      "(256, 256, 3)\n",
      "pred: [[476 208 716 432]\n",
      " [560 640 816 880]\n",
      " [172 600 328 732]]\n",
      "true: []\n"
     ]
    },
    {
     "name": "stderr",
     "output_type": "stream",
     "text": [
      "\n",
      "\n",
      "\n",
      "\n",
      "\n",
      " 25%|██▍       | 373/1500 [01:19<03:48,  4.94it/s]\u001b[A\u001b[A\u001b[A\u001b[A\u001b[A"
     ]
    },
    {
     "name": "stdout",
     "output_type": "stream",
     "text": [
      "(256, 256, 3)\n",
      "pred: [[540 660 792 884]\n",
      " [612 244 816 440]]\n",
      "true: []\n"
     ]
    },
    {
     "name": "stderr",
     "output_type": "stream",
     "text": [
      "\n",
      "\n",
      "\n",
      "\n",
      "\n",
      " 25%|██▍       | 374/1500 [01:19<03:49,  4.90it/s]\u001b[A\u001b[A\u001b[A\u001b[A\u001b[A"
     ]
    },
    {
     "name": "stdout",
     "output_type": "stream",
     "text": [
      "(256, 256, 3)\n",
      "pred: [[608 240 804 432]\n",
      " [576 604 804 840]\n",
      " [376 240 548 344]]\n",
      "true: [[166 153 215 210]\n",
      " [153  55 202 110]]\n"
     ]
    },
    {
     "name": "stderr",
     "output_type": "stream",
     "text": [
      "\n",
      "\n",
      "\n",
      "\n",
      "\n",
      " 25%|██▌       | 375/1500 [01:19<03:50,  4.87it/s]\u001b[A\u001b[A\u001b[A\u001b[A\u001b[A"
     ]
    },
    {
     "name": "stdout",
     "output_type": "stream",
     "text": [
      "(256, 256, 3)\n",
      "pred: [[452 256 564 404]\n",
      " [312 564 576 792]\n",
      " [528 184 684 376]]\n",
      "true: []\n",
      "(256, 256, 3)\n"
     ]
    },
    {
     "name": "stderr",
     "output_type": "stream",
     "text": [
      "\n",
      "\n",
      "\n",
      "\n",
      "\n",
      " 25%|██▌       | 376/1500 [01:19<03:45,  4.98it/s]\u001b[A\u001b[A\u001b[A\u001b[A\u001b[A\n",
      "\n",
      "\n",
      "\n",
      "\n",
      " 25%|██▌       | 377/1500 [01:20<03:31,  5.31it/s]\u001b[A\u001b[A\u001b[A\u001b[A\u001b[A"
     ]
    },
    {
     "name": "stdout",
     "output_type": "stream",
     "text": [
      "pred: [[472 188 624 396]\n",
      " [500 616 672 864]\n",
      " [448 368 608 464]]\n",
      "true: []\n",
      "(256, 256, 3)\n",
      "pred: [[612 216 728 412]\n",
      " [616 676 724 804]\n",
      " [796 756 904 888]]\n",
      "true: []\n"
     ]
    },
    {
     "name": "stderr",
     "output_type": "stream",
     "text": [
      "\n",
      "\n",
      "\n",
      "\n",
      "\n",
      " 25%|██▌       | 378/1500 [01:20<03:26,  5.42it/s]\u001b[A\u001b[A\u001b[A\u001b[A\u001b[A"
     ]
    },
    {
     "name": "stdout",
     "output_type": "stream",
     "text": [
      "(256, 256, 3)\n",
      "pred: [[460 228 668 400]\n",
      " [340 112 568 272]\n",
      " [516 588 736 756]]\n",
      "true: []\n",
      "(256, 256, 3)\n"
     ]
    },
    {
     "name": "stderr",
     "output_type": "stream",
     "text": [
      "\n",
      "\n",
      "\n",
      "\n",
      "\n",
      " 25%|██▌       | 379/1500 [01:20<03:21,  5.57it/s]\u001b[A\u001b[A\u001b[A\u001b[A\u001b[A\n",
      "\n",
      "\n",
      "\n",
      "\n",
      " 25%|██▌       | 380/1500 [01:20<03:16,  5.71it/s]\u001b[A\u001b[A\u001b[A\u001b[A\u001b[A"
     ]
    },
    {
     "name": "stdout",
     "output_type": "stream",
     "text": [
      "pred: [[620 248 776 400]\n",
      " [380 620 596 712]\n",
      " [484 360 608 448]]\n",
      "true: []\n",
      "(256, 256, 3)\n",
      "pred: [[556 584 704 824]\n",
      " [520 224 680 368]]\n",
      "true: []\n"
     ]
    },
    {
     "name": "stderr",
     "output_type": "stream",
     "text": [
      "\n",
      "\n",
      "\n",
      "\n",
      "\n",
      " 25%|██▌       | 381/1500 [01:20<03:27,  5.40it/s]\u001b[A\u001b[A\u001b[A\u001b[A\u001b[A"
     ]
    },
    {
     "name": "stdout",
     "output_type": "stream",
     "text": [
      "(256, 256, 3)\n",
      "pred: [[588 156 824 368]\n",
      " [588 620 884 868]\n",
      " [236 656 436 848]]\n",
      "true: [[161  39 208  89]]\n",
      "(256, 256, 3)\n"
     ]
    },
    {
     "name": "stderr",
     "output_type": "stream",
     "text": [
      "\n",
      "\n",
      "\n",
      "\n",
      "\n",
      " 25%|██▌       | 382/1500 [01:20<03:22,  5.52it/s]\u001b[A\u001b[A\u001b[A\u001b[A\u001b[A\n",
      "\n",
      "\n",
      "\n",
      "\n",
      " 26%|██▌       | 383/1500 [01:21<03:13,  5.78it/s]\u001b[A\u001b[A\u001b[A\u001b[A\u001b[A"
     ]
    },
    {
     "name": "stdout",
     "output_type": "stream",
     "text": [
      "pred: [[456 552 704 828]\n",
      " [508 152 700 360]]\n",
      "true: []\n",
      "(256, 256, 3)\n",
      "pred: [[432 348 576 440]\n",
      " [460 612 612 724]\n",
      " [320 624 472 712]]\n",
      "true: []\n"
     ]
    },
    {
     "name": "stderr",
     "output_type": "stream",
     "text": [
      "\n",
      "\n",
      "\n",
      "\n",
      "\n",
      " 26%|██▌       | 384/1500 [01:21<03:23,  5.48it/s]\u001b[A\u001b[A\u001b[A\u001b[A\u001b[A"
     ]
    },
    {
     "name": "stdout",
     "output_type": "stream",
     "text": [
      "(256, 256, 3)\n",
      "pred: [[544 168 836 396]\n",
      " [508 616 852 892]]\n",
      "true: []\n",
      "(256, 256, 3)\n"
     ]
    },
    {
     "name": "stderr",
     "output_type": "stream",
     "text": [
      "\n",
      "\n",
      "\n",
      "\n",
      "\n",
      " 26%|██▌       | 385/1500 [01:21<03:14,  5.72it/s]\u001b[A\u001b[A\u001b[A\u001b[A\u001b[A\n",
      "\n",
      "\n",
      "\n",
      "\n",
      " 26%|██▌       | 386/1500 [01:21<03:16,  5.66it/s]\u001b[A\u001b[A\u001b[A\u001b[A\u001b[A"
     ]
    },
    {
     "name": "stdout",
     "output_type": "stream",
     "text": [
      "pred: [[568 224 728 384]\n",
      " [640 552 764 676]]\n",
      "true: []\n",
      "(256, 256, 3)\n",
      "pred: [[484 540 652 804]\n",
      " [500 156 628 304]]\n",
      "true: []\n"
     ]
    },
    {
     "name": "stderr",
     "output_type": "stream",
     "text": [
      "\n",
      "\n",
      "\n",
      "\n",
      "\n",
      " 26%|██▌       | 387/1500 [01:21<03:36,  5.13it/s]\u001b[A\u001b[A\u001b[A\u001b[A\u001b[A"
     ]
    },
    {
     "name": "stdout",
     "output_type": "stream",
     "text": [
      "(256, 256, 3)\n",
      "pred: [[484 216 636 396]\n",
      " [512 628 680 908]\n",
      " [360 624 540 748]]\n",
      "true: []\n"
     ]
    },
    {
     "name": "stderr",
     "output_type": "stream",
     "text": [
      "\n",
      "\n",
      "\n",
      "\n",
      "\n",
      " 26%|██▌       | 388/1500 [01:22<04:00,  4.62it/s]\u001b[A\u001b[A\u001b[A\u001b[A\u001b[A"
     ]
    },
    {
     "name": "stdout",
     "output_type": "stream",
     "text": [
      "(256, 256, 3)\n",
      "pred: [[344 628 624 876]\n",
      " [336 176 592 416]]\n",
      "true: []\n"
     ]
    },
    {
     "name": "stderr",
     "output_type": "stream",
     "text": [
      "\n",
      "\n",
      "\n",
      "\n",
      "\n",
      " 26%|██▌       | 389/1500 [01:22<04:20,  4.27it/s]\u001b[A\u001b[A\u001b[A\u001b[A\u001b[A"
     ]
    },
    {
     "name": "stdout",
     "output_type": "stream",
     "text": [
      "(256, 256, 3)\n",
      "pred: [[372 124 820 364]\n",
      " [588 564 852 808]]\n",
      "true: [[102  40 205  86]\n",
      " [154 154 212 201]]\n"
     ]
    },
    {
     "name": "stderr",
     "output_type": "stream",
     "text": [
      "\n",
      "\n",
      "\n",
      "\n",
      "\n",
      " 26%|██▌       | 390/1500 [01:22<04:17,  4.32it/s]\u001b[A\u001b[A\u001b[A\u001b[A\u001b[A"
     ]
    },
    {
     "name": "stdout",
     "output_type": "stream",
     "text": [
      "(256, 256, 3)\n",
      "pred: [[392 648 612 884]\n",
      " [452 244 528 432]\n",
      " [384 388 504 496]]\n",
      "true: []\n",
      "(256, 256, 3)\n"
     ]
    },
    {
     "name": "stderr",
     "output_type": "stream",
     "text": [
      "\n",
      "\n",
      "\n",
      "\n",
      "\n",
      " 26%|██▌       | 391/1500 [01:22<03:56,  4.69it/s]\u001b[A\u001b[A\u001b[A\u001b[A\u001b[A\n",
      "\n",
      "\n",
      "\n",
      "\n",
      " 26%|██▌       | 392/1500 [01:23<03:47,  4.88it/s]\u001b[A\u001b[A\u001b[A\u001b[A\u001b[A"
     ]
    },
    {
     "name": "stdout",
     "output_type": "stream",
     "text": [
      "pred: [[496 264 672 424]\n",
      " [520 592 740 836]]\n",
      "true: []\n",
      "(256, 256, 3)\n",
      "pred: [[456 348 624 456]\n",
      " [608 640 752 796]\n",
      " [460 184 608 308]]\n",
      "true: []\n"
     ]
    },
    {
     "name": "stderr",
     "output_type": "stream",
     "text": [
      "\n",
      "\n",
      "\n",
      "\n",
      "\n",
      " 26%|██▌       | 393/1500 [01:23<04:01,  4.59it/s]\u001b[A\u001b[A\u001b[A\u001b[A\u001b[A"
     ]
    },
    {
     "name": "stdout",
     "output_type": "stream",
     "text": [
      "(256, 256, 3)\n",
      "pred: [[248 316 380 500]\n",
      " [584 196 864 460]\n",
      " [532 708 940 928]]\n",
      "true: []\n"
     ]
    },
    {
     "name": "stderr",
     "output_type": "stream",
     "text": [
      "\n",
      "\n",
      "\n",
      "\n",
      "\n",
      " 26%|██▋       | 394/1500 [01:23<03:54,  4.71it/s]\u001b[A\u001b[A\u001b[A\u001b[A\u001b[A"
     ]
    },
    {
     "name": "stdout",
     "output_type": "stream",
     "text": [
      "(256, 256, 3)\n",
      "pred: [[604 180 748 384]\n",
      " [568 588 716 728]\n",
      " [412 608 568 736]]\n",
      "true: []\n"
     ]
    },
    {
     "name": "stderr",
     "output_type": "stream",
     "text": [
      "\n",
      "\n",
      "\n",
      "\n",
      "\n",
      " 26%|██▋       | 395/1500 [01:23<04:07,  4.46it/s]\u001b[A\u001b[A\u001b[A\u001b[A\u001b[A"
     ]
    },
    {
     "name": "stdout",
     "output_type": "stream",
     "text": [
      "(256, 256, 3)\n",
      "pred: [[364 228 608 460]\n",
      " [240 636 444 800]]\n",
      "true: []\n"
     ]
    },
    {
     "name": "stderr",
     "output_type": "stream",
     "text": [
      "\n",
      "\n",
      "\n",
      "\n",
      "\n",
      " 26%|██▋       | 396/1500 [01:23<04:22,  4.21it/s]\u001b[A\u001b[A\u001b[A\u001b[A\u001b[A"
     ]
    },
    {
     "name": "stdout",
     "output_type": "stream",
     "text": [
      "(256, 256, 3)\n",
      "pred: [[196 552 528 792]\n",
      " [188 236 532 444]]\n",
      "true: [[ 52 146  91 191]]\n"
     ]
    },
    {
     "name": "stderr",
     "output_type": "stream",
     "text": [
      "\n",
      "\n",
      "\n",
      "\n",
      "\n",
      " 26%|██▋       | 397/1500 [01:24<04:18,  4.26it/s]\u001b[A\u001b[A\u001b[A\u001b[A\u001b[A"
     ]
    },
    {
     "name": "stdout",
     "output_type": "stream",
     "text": [
      "(256, 256, 3)\n",
      "pred: [[520 260 684 396]\n",
      " [648 580 804 716]\n",
      " [364 128 468 236]]\n",
      "true: []\n"
     ]
    },
    {
     "name": "stderr",
     "output_type": "stream",
     "text": [
      "\n",
      "\n",
      "\n",
      "\n",
      "\n",
      " 27%|██▋       | 398/1500 [01:24<04:24,  4.17it/s]\u001b[A\u001b[A\u001b[A\u001b[A\u001b[A"
     ]
    },
    {
     "name": "stdout",
     "output_type": "stream",
     "text": [
      "(256, 256, 3)\n",
      "pred: [[428 184 636 420]\n",
      " [548 688 680 924]\n",
      " [268 632 400 724]]\n",
      "true: []\n",
      "(256, 256, 3)\n"
     ]
    },
    {
     "name": "stderr",
     "output_type": "stream",
     "text": [
      "\n",
      "\n",
      "\n",
      "\n",
      "\n",
      " 27%|██▋       | 399/1500 [01:24<04:18,  4.26it/s]\u001b[A\u001b[A\u001b[A\u001b[A\u001b[A"
     ]
    },
    {
     "name": "stdout",
     "output_type": "stream",
     "text": [
      "pred: [[464 660 720 928]\n",
      " [504 100 736 348]\n",
      " [ 96 596 300 816]]\n",
      "true: []\n",
      "(256, 256, 3)\n"
     ]
    },
    {
     "name": "stderr",
     "output_type": "stream",
     "text": [
      "\n",
      "\n",
      "\n",
      "\n",
      "\n",
      " 27%|██▋       | 400/1500 [01:24<04:11,  4.37it/s]\u001b[A\u001b[A\u001b[A\u001b[A\u001b[A"
     ]
    },
    {
     "name": "stdout",
     "output_type": "stream",
     "text": [
      "pred: [[496 128 736 364]\n",
      " [196 564 464 756]\n",
      " [620 556 864 736]]\n",
      "true: [[130  43 175  82]]\n",
      "(256, 256, 3)\n"
     ]
    },
    {
     "name": "stderr",
     "output_type": "stream",
     "text": [
      "\n",
      "\n",
      "\n",
      "\n",
      "\n",
      " 27%|██▋       | 401/1500 [01:25<04:03,  4.51it/s]\u001b[A\u001b[A\u001b[A\u001b[A\u001b[A\n",
      "\n",
      "\n",
      "\n",
      "\n",
      " 27%|██▋       | 402/1500 [01:25<03:50,  4.75it/s]\u001b[A\u001b[A\u001b[A\u001b[A\u001b[A"
     ]
    },
    {
     "name": "stdout",
     "output_type": "stream",
     "text": [
      "pred: [[184 328 320 448]\n",
      " [468 228 576 384]\n",
      " [184 572 304 660]]\n",
      "true: []\n",
      "(256, 256, 3)\n",
      "pred: [[512 604 732 856]\n",
      " [548 196 744 416]]\n",
      "true: []\n"
     ]
    },
    {
     "name": "stderr",
     "output_type": "stream",
     "text": [
      "\n",
      "\n",
      "\n",
      "\n",
      "\n",
      " 27%|██▋       | 403/1500 [01:25<03:46,  4.84it/s]\u001b[A\u001b[A\u001b[A\u001b[A\u001b[A"
     ]
    },
    {
     "name": "stdout",
     "output_type": "stream",
     "text": [
      "(256, 256, 3)\n",
      "pred: [[376 200 540 416]\n",
      " [472 744 596 868]\n",
      " [552 636 724 764]]\n",
      "true: []\n",
      "(256, 256, 3)\n"
     ]
    },
    {
     "name": "stderr",
     "output_type": "stream",
     "text": [
      "\n",
      "\n",
      "\n",
      "\n",
      "\n",
      " 27%|██▋       | 404/1500 [01:25<03:57,  4.62it/s]\u001b[A\u001b[A\u001b[A\u001b[A\u001b[A\n",
      "\n",
      "\n",
      "\n",
      "\n",
      " 27%|██▋       | 405/1500 [01:25<03:50,  4.76it/s]"
     ]
    },
    {
     "name": "stdout",
     "output_type": "stream",
     "text": [
      "pred: [[316 232 852 516]\n",
      " [584 656 824 868]]\n",
      "true: []\n",
      "(256, 256, 3)\n",
      "pred: [[436 580 636 784]\n",
      " [376 280 544 424]]\n",
      "true: [[ 94 158 138 190]]\n"
     ]
    },
    {
     "name": "stderr",
     "output_type": "stream",
     "text": [
      "\u001b[A\u001b[A\u001b[A\u001b[A\u001b[A\n",
      "\n",
      "\n",
      "\n",
      "\n",
      " 27%|██▋       | 406/1500 [01:26<03:41,  4.94it/s]\u001b[A\u001b[A\u001b[A\u001b[A\u001b[A"
     ]
    },
    {
     "name": "stdout",
     "output_type": "stream",
     "text": [
      "(256, 256, 3)\n",
      "pred: [[536 232 668 388]\n",
      " [564 632 720 784]\n",
      " [336 636 492 760]]\n",
      "true: []\n",
      "(256, 256, 3)\n"
     ]
    },
    {
     "name": "stderr",
     "output_type": "stream",
     "text": [
      "\n",
      "\n",
      "\n",
      "\n",
      "\n",
      " 27%|██▋       | 407/1500 [01:26<03:44,  4.87it/s]\u001b[A\u001b[A\u001b[A\u001b[A\u001b[A"
     ]
    },
    {
     "name": "stdout",
     "output_type": "stream",
     "text": [
      "pred: [[544 232 688 396]\n",
      " [512 660 628 800]\n",
      " [588 740 688 856]]\n",
      "true: []\n",
      "(256, 256, 3)\n"
     ]
    },
    {
     "name": "stderr",
     "output_type": "stream",
     "text": [
      "\n",
      "\n",
      "\n",
      "\n",
      "\n",
      " 27%|██▋       | 408/1500 [01:26<03:54,  4.66it/s]\u001b[A\u001b[A\u001b[A\u001b[A\u001b[A\n",
      "\n",
      "\n",
      "\n",
      "\n",
      " 27%|██▋       | 409/1500 [01:26<03:46,  4.81it/s]"
     ]
    },
    {
     "name": "stdout",
     "output_type": "stream",
     "text": [
      "pred: [[360 204 488 384]\n",
      " [400 604 536 732]\n",
      " [412 708 564 816]]\n",
      "true: []\n",
      "(256, 256, 3)\n",
      "pred: [[372 376 508 472]\n",
      " [308 624 452 732]\n",
      " [476 296 636 452]]\n",
      "true: []\n"
     ]
    },
    {
     "name": "stderr",
     "output_type": "stream",
     "text": [
      "\u001b[A\u001b[A\u001b[A\u001b[A\u001b[A\n",
      "\n",
      "\n",
      "\n",
      "\n",
      " 27%|██▋       | 410/1500 [01:26<03:34,  5.08it/s]\u001b[A\u001b[A\u001b[A\u001b[A\u001b[A"
     ]
    },
    {
     "name": "stdout",
     "output_type": "stream",
     "text": [
      "(256, 256, 3)\n",
      "pred: [[492 628 668 872]\n",
      " [488 232 660 404]\n",
      " [184 348 308 488]]\n",
      "true: []\n",
      "(256, 256, 3)\n"
     ]
    },
    {
     "name": "stderr",
     "output_type": "stream",
     "text": [
      "\n",
      "\n",
      "\n",
      "\n",
      "\n",
      " 27%|██▋       | 411/1500 [01:27<03:41,  4.92it/s]\u001b[A\u001b[A\u001b[A\u001b[A\u001b[A\n",
      "\n",
      "\n",
      "\n",
      "\n",
      " 27%|██▋       | 412/1500 [01:27<03:34,  5.08it/s]\u001b[A\u001b[A\u001b[A\u001b[A\u001b[A"
     ]
    },
    {
     "name": "stdout",
     "output_type": "stream",
     "text": [
      "pred: [[240 596 676 884]\n",
      " [404 200 620 424]\n",
      " [324 216 416 400]]\n",
      "true: [[ 52 141 164 206]\n",
      " [ 45  59 144 117]]\n",
      "(256, 256, 3)\n",
      "pred: [[476 196 656 384]\n",
      " [520 548 708 752]\n",
      " [368 296 520 416]]\n",
      "true: []\n"
     ]
    },
    {
     "name": "stderr",
     "output_type": "stream",
     "text": [
      "\n",
      "\n",
      "\n",
      "\n",
      "\n",
      " 28%|██▊       | 413/1500 [01:27<03:33,  5.08it/s]\u001b[A\u001b[A\u001b[A\u001b[A\u001b[A"
     ]
    },
    {
     "name": "stdout",
     "output_type": "stream",
     "text": [
      "(256, 256, 3)\n",
      "pred: [[520 220 788 444]\n",
      " [560 720 716 872]\n",
      " [588 616 732 732]]\n",
      "true: []\n",
      "(256, 256, 3)\n"
     ]
    },
    {
     "name": "stderr",
     "output_type": "stream",
     "text": [
      "\n",
      "\n",
      "\n",
      "\n",
      "\n",
      " 28%|██▊       | 414/1500 [01:27<03:30,  5.16it/s]\u001b[A\u001b[A\u001b[A\u001b[A\u001b[A"
     ]
    },
    {
     "name": "stdout",
     "output_type": "stream",
     "text": [
      "pred: [[516 216 776 484]\n",
      " [616 672 920 944]]\n",
      "true: []\n",
      "(256, 256, 3)\n"
     ]
    },
    {
     "name": "stderr",
     "output_type": "stream",
     "text": [
      "\n",
      "\n",
      "\n",
      "\n",
      "\n",
      " 28%|██▊       | 415/1500 [01:27<03:37,  4.99it/s]\u001b[A\u001b[A\u001b[A\u001b[A\u001b[A\n",
      "\n",
      "\n",
      "\n",
      "\n",
      " 28%|██▊       | 416/1500 [01:28<03:18,  5.45it/s]\u001b[A\u001b[A\u001b[A\u001b[A\u001b[A"
     ]
    },
    {
     "name": "stdout",
     "output_type": "stream",
     "text": [
      "pred: [[492 296 636 468]\n",
      " [564 748 704 920]]\n",
      "true: []\n",
      "(256, 256, 3)\n",
      "pred: [[304 184 620 388]\n",
      " [432 548 592 676]\n",
      " [436 764 592 908]]\n",
      "true: [[115 181 156 226]]\n"
     ]
    },
    {
     "name": "stderr",
     "output_type": "stream",
     "text": [
      "\n",
      "\n",
      "\n",
      "\n",
      "\n",
      " 28%|██▊       | 417/1500 [01:28<03:33,  5.07it/s]\u001b[A\u001b[A\u001b[A\u001b[A\u001b[A"
     ]
    },
    {
     "name": "stdout",
     "output_type": "stream",
     "text": [
      "(256, 256, 3)\n",
      "pred: [[228 528 732 732]\n",
      " [248 184 684 416]]\n",
      "true: [[ 54  33 149  89]]\n"
     ]
    },
    {
     "name": "stderr",
     "output_type": "stream",
     "text": [
      "\n",
      "\n",
      "\n",
      "\n",
      "\n",
      " 28%|██▊       | 418/1500 [01:28<03:36,  5.00it/s]\u001b[A\u001b[A\u001b[A\u001b[A\u001b[A"
     ]
    },
    {
     "name": "stdout",
     "output_type": "stream",
     "text": [
      "(256, 256, 3)\n",
      "pred: [[504 260 628 424]\n",
      " [492 608 640 764]\n",
      " [356 636 452 716]]\n",
      "true: []\n",
      "(256, 256, 3)\n"
     ]
    },
    {
     "name": "stderr",
     "output_type": "stream",
     "text": [
      "\n",
      "\n",
      "\n",
      "\n",
      "\n",
      " 28%|██▊       | 419/1500 [01:28<03:43,  4.83it/s]\u001b[A\u001b[A\u001b[A\u001b[A\u001b[A\n",
      "\n",
      "\n",
      "\n",
      "\n",
      " 28%|██▊       | 420/1500 [01:28<03:32,  5.09it/s]\u001b[A\u001b[A\u001b[A\u001b[A\u001b[A"
     ]
    },
    {
     "name": "stdout",
     "output_type": "stream",
     "text": [
      "pred: [[556 132 796 356]\n",
      " [716 516 956 712]\n",
      " [336 172 536 372]]\n",
      "true: []\n",
      "(256, 256, 3)\n",
      "pred: [[324 232 424 332]\n",
      " [276 296 344 360]]\n",
      "true: []\n"
     ]
    },
    {
     "name": "stderr",
     "output_type": "stream",
     "text": [
      "\n",
      "\n",
      "\n",
      "\n",
      "\n",
      " 28%|██▊       | 421/1500 [01:29<03:38,  4.93it/s]\u001b[A\u001b[A\u001b[A\u001b[A\u001b[A"
     ]
    },
    {
     "name": "stdout",
     "output_type": "stream",
     "text": [
      "(256, 256, 3)\n",
      "pred: [[320 668 852 924]\n",
      " [560 244 804 452]\n",
      " [248 340 668 524]]\n",
      "true: []\n",
      "(256, 256, 3)\n"
     ]
    },
    {
     "name": "stderr",
     "output_type": "stream",
     "text": [
      "\n",
      "\n",
      "\n",
      "\n",
      "\n",
      " 28%|██▊       | 422/1500 [01:29<03:25,  5.24it/s]\u001b[A\u001b[A\u001b[A\u001b[A\u001b[A\n",
      "\n",
      "\n",
      "\n",
      "\n",
      " 28%|██▊       | 423/1500 [01:29<03:23,  5.28it/s]\u001b[A\u001b[A\u001b[A\u001b[A\u001b[A"
     ]
    },
    {
     "name": "stdout",
     "output_type": "stream",
     "text": [
      "pred: [[348 316 492 440]\n",
      " [428 636 600 892]]\n",
      "true: []\n",
      "(256, 256, 3)\n",
      "pred: [[604 228 796 444]\n",
      " [564 664 808 868]]\n",
      "true: []\n"
     ]
    },
    {
     "name": "stderr",
     "output_type": "stream",
     "text": [
      "\n",
      "\n",
      "\n",
      "\n",
      "\n",
      " 28%|██▊       | 424/1500 [01:29<03:21,  5.33it/s]\u001b[A\u001b[A\u001b[A\u001b[A\u001b[A"
     ]
    },
    {
     "name": "stdout",
     "output_type": "stream",
     "text": [
      "(256, 256, 3)\n",
      "pred: [[164 152 680 468]\n",
      " [244 584 696 824]]\n",
      "true: [[ 95 155 169 191]\n",
      " [ 81  74 155 117]]\n",
      "(256, 256, 3)\n"
     ]
    },
    {
     "name": "stderr",
     "output_type": "stream",
     "text": [
      "\n",
      "\n",
      "\n",
      "\n",
      "\n",
      " 28%|██▊       | 425/1500 [01:29<03:29,  5.13it/s]\u001b[A\u001b[A\u001b[A\u001b[A\u001b[A"
     ]
    },
    {
     "name": "stdout",
     "output_type": "stream",
     "text": [
      "pred: [[556 192 780 372]\n",
      " [548 588 840 812]\n",
      " [400 552 620 652]]\n",
      "true: []\n",
      "(256, 256, 3)\n"
     ]
    },
    {
     "name": "stderr",
     "output_type": "stream",
     "text": [
      "\n",
      "\n",
      "\n",
      "\n",
      "\n",
      " 28%|██▊       | 426/1500 [01:30<03:37,  4.93it/s]\u001b[A\u001b[A\u001b[A\u001b[A\u001b[A\n",
      "\n",
      "\n",
      "\n",
      "\n",
      " 28%|██▊       | 427/1500 [01:30<03:19,  5.37it/s]\u001b[A\u001b[A\u001b[A\u001b[A\u001b[A"
     ]
    },
    {
     "name": "stdout",
     "output_type": "stream",
     "text": [
      "pred: [[376 624 796 896]\n",
      " [464 236 756 460]]\n",
      "true: [[108 160 172 222]\n",
      " [114  61 189 116]]\n",
      "(256, 256, 3)\n",
      "pred: [[476 260 612 436]\n",
      " [384 628 600 812]\n",
      " [288 360 540 500]]\n",
      "true: []\n",
      "(256, 256, 3)\n"
     ]
    },
    {
     "ename": "KeyboardInterrupt",
     "evalue": "",
     "output_type": "error",
     "traceback": [
      "\u001b[0;31m---------------------------------------------------------------------------\u001b[0m",
      "\u001b[0;31mKeyboardInterrupt\u001b[0m                         Traceback (most recent call last)",
      "\u001b[0;32m<ipython-input-41-cd37fb1be355>\u001b[0m in \u001b[0;36m<module>\u001b[0;34m\u001b[0m\n\u001b[1;32m     29\u001b[0m     \u001b[0;32mreturn\u001b[0m \u001b[0msumm\u001b[0m\u001b[0;34m/\u001b[0m\u001b[0mlen\u001b[0m\u001b[0;34m(\u001b[0m\u001b[0mdataset_eval\u001b[0m\u001b[0;34m.\u001b[0m\u001b[0mimage_ids\u001b[0m\u001b[0;34m)\u001b[0m\u001b[0;34m\u001b[0m\u001b[0m\n\u001b[1;32m     30\u001b[0m \u001b[0;34m\u001b[0m\u001b[0m\n\u001b[0;32m---> 31\u001b[0;31m \u001b[0mprint\u001b[0m\u001b[0;34m(\u001b[0m\u001b[0mevaluate\u001b[0m\u001b[0;34m(\u001b[0m\u001b[0mdataset_val\u001b[0m\u001b[0;34m)\u001b[0m\u001b[0;34m)\u001b[0m\u001b[0;34m\u001b[0m\u001b[0m\n\u001b[0m",
      "\u001b[0;32m<ipython-input-41-cd37fb1be355>\u001b[0m in \u001b[0;36mevaluate\u001b[0;34m(dataset_eval)\u001b[0m\n\u001b[1;32m     21\u001b[0m             mode=config.IMAGE_RESIZE_MODE)\n\u001b[1;32m     22\u001b[0m         \u001b[0mprint\u001b[0m\u001b[0;34m(\u001b[0m\u001b[0mimage\u001b[0m\u001b[0;34m.\u001b[0m\u001b[0mshape\u001b[0m\u001b[0;34m)\u001b[0m\u001b[0;34m\u001b[0m\u001b[0m\n\u001b[0;32m---> 23\u001b[0;31m         \u001b[0mresults\u001b[0m \u001b[0;34m=\u001b[0m \u001b[0mmodel\u001b[0m\u001b[0;34m.\u001b[0m\u001b[0mdetect\u001b[0m\u001b[0;34m(\u001b[0m\u001b[0;34m[\u001b[0m\u001b[0mimage\u001b[0m\u001b[0;34m]\u001b[0m\u001b[0;34m)\u001b[0m\u001b[0;34m\u001b[0m\u001b[0m\n\u001b[0m\u001b[1;32m     24\u001b[0m         \u001b[0mr\u001b[0m \u001b[0;34m=\u001b[0m \u001b[0mresults\u001b[0m\u001b[0;34m[\u001b[0m\u001b[0;36m0\u001b[0m\u001b[0;34m]\u001b[0m\u001b[0;34m\u001b[0m\u001b[0m\n\u001b[1;32m     25\u001b[0m         \u001b[0mprint\u001b[0m\u001b[0;34m(\u001b[0m\u001b[0;34m\"pred:\"\u001b[0m\u001b[0;34m,\u001b[0m\u001b[0mr\u001b[0m\u001b[0;34m[\u001b[0m\u001b[0;34m'rois'\u001b[0m\u001b[0;34m]\u001b[0m\u001b[0;34m*\u001b[0m\u001b[0;36m4\u001b[0m\u001b[0;34m)\u001b[0m\u001b[0;34m\u001b[0m\u001b[0m\n",
      "\u001b[0;32m/data/krf/anaconda/anaconda3/lib/python3.5/site-packages/mask_rcnn-2.1-py3.5.egg/mrcnn/model.py\u001b[0m in \u001b[0;36mdetect\u001b[0;34m(self, images, verbose)\u001b[0m\n\u001b[1;32m   2529\u001b[0m                 self.unmold_detections(detections[i], mrcnn_mask[i],\n\u001b[1;32m   2530\u001b[0m                                        \u001b[0mimage\u001b[0m\u001b[0;34m.\u001b[0m\u001b[0mshape\u001b[0m\u001b[0;34m,\u001b[0m \u001b[0mmolded_images\u001b[0m\u001b[0;34m[\u001b[0m\u001b[0mi\u001b[0m\u001b[0;34m]\u001b[0m\u001b[0;34m.\u001b[0m\u001b[0mshape\u001b[0m\u001b[0;34m,\u001b[0m\u001b[0;34m\u001b[0m\u001b[0m\n\u001b[0;32m-> 2531\u001b[0;31m                                        windows[i])\n\u001b[0m\u001b[1;32m   2532\u001b[0m             results.append({\n\u001b[1;32m   2533\u001b[0m                 \u001b[0;34m\"rois\"\u001b[0m\u001b[0;34m:\u001b[0m \u001b[0mfinal_rois\u001b[0m\u001b[0;34m,\u001b[0m\u001b[0;34m\u001b[0m\u001b[0m\n",
      "\u001b[0;32m/data/krf/anaconda/anaconda3/lib/python3.5/site-packages/mask_rcnn-2.1-py3.5.egg/mrcnn/model.py\u001b[0m in \u001b[0;36munmold_detections\u001b[0;34m(self, detections, mrcnn_mask, original_image_shape, image_shape, window)\u001b[0m\n\u001b[1;32m   2473\u001b[0m         \u001b[0;32mfor\u001b[0m \u001b[0mi\u001b[0m \u001b[0;32min\u001b[0m \u001b[0mrange\u001b[0m\u001b[0;34m(\u001b[0m\u001b[0mN\u001b[0m\u001b[0;34m)\u001b[0m\u001b[0;34m:\u001b[0m\u001b[0;34m\u001b[0m\u001b[0m\n\u001b[1;32m   2474\u001b[0m             \u001b[0;31m# Convert neural network mask to full size mask\u001b[0m\u001b[0;34m\u001b[0m\u001b[0;34m\u001b[0m\u001b[0m\n\u001b[0;32m-> 2475\u001b[0;31m             \u001b[0mfull_mask\u001b[0m \u001b[0;34m=\u001b[0m \u001b[0mutils\u001b[0m\u001b[0;34m.\u001b[0m\u001b[0munmold_mask\u001b[0m\u001b[0;34m(\u001b[0m\u001b[0mmasks\u001b[0m\u001b[0;34m[\u001b[0m\u001b[0mi\u001b[0m\u001b[0;34m]\u001b[0m\u001b[0;34m,\u001b[0m \u001b[0mboxes\u001b[0m\u001b[0;34m[\u001b[0m\u001b[0mi\u001b[0m\u001b[0;34m]\u001b[0m\u001b[0;34m,\u001b[0m \u001b[0moriginal_image_shape\u001b[0m\u001b[0;34m)\u001b[0m\u001b[0;34m\u001b[0m\u001b[0m\n\u001b[0m\u001b[1;32m   2476\u001b[0m             \u001b[0mfull_masks\u001b[0m\u001b[0;34m.\u001b[0m\u001b[0mappend\u001b[0m\u001b[0;34m(\u001b[0m\u001b[0mfull_mask\u001b[0m\u001b[0;34m)\u001b[0m\u001b[0;34m\u001b[0m\u001b[0m\n\u001b[1;32m   2477\u001b[0m         \u001b[0mfull_masks\u001b[0m \u001b[0;34m=\u001b[0m \u001b[0mnp\u001b[0m\u001b[0;34m.\u001b[0m\u001b[0mstack\u001b[0m\u001b[0;34m(\u001b[0m\u001b[0mfull_masks\u001b[0m\u001b[0;34m,\u001b[0m \u001b[0maxis\u001b[0m\u001b[0;34m=\u001b[0m\u001b[0;34m-\u001b[0m\u001b[0;36m1\u001b[0m\u001b[0;34m)\u001b[0m\u001b[0;31m\\\u001b[0m\u001b[0;34m\u001b[0m\u001b[0m\n",
      "\u001b[0;32m/data/krf/anaconda/anaconda3/lib/python3.5/site-packages/mask_rcnn-2.1-py3.5.egg/mrcnn/utils.py\u001b[0m in \u001b[0;36munmold_mask\u001b[0;34m(mask, bbox, image_shape)\u001b[0m\n\u001b[1;32m    566\u001b[0m     \u001b[0mthreshold\u001b[0m \u001b[0;34m=\u001b[0m \u001b[0;36m0.5\u001b[0m\u001b[0;34m\u001b[0m\u001b[0m\n\u001b[1;32m    567\u001b[0m     \u001b[0my1\u001b[0m\u001b[0;34m,\u001b[0m \u001b[0mx1\u001b[0m\u001b[0;34m,\u001b[0m \u001b[0my2\u001b[0m\u001b[0;34m,\u001b[0m \u001b[0mx2\u001b[0m \u001b[0;34m=\u001b[0m \u001b[0mbbox\u001b[0m\u001b[0;34m\u001b[0m\u001b[0m\n\u001b[0;32m--> 568\u001b[0;31m     \u001b[0mmask\u001b[0m \u001b[0;34m=\u001b[0m \u001b[0mresize\u001b[0m\u001b[0;34m(\u001b[0m\u001b[0mmask\u001b[0m\u001b[0;34m,\u001b[0m \u001b[0;34m(\u001b[0m\u001b[0my2\u001b[0m \u001b[0;34m-\u001b[0m \u001b[0my1\u001b[0m\u001b[0;34m,\u001b[0m \u001b[0mx2\u001b[0m \u001b[0;34m-\u001b[0m \u001b[0mx1\u001b[0m\u001b[0;34m)\u001b[0m\u001b[0;34m)\u001b[0m\u001b[0;34m\u001b[0m\u001b[0m\n\u001b[0m\u001b[1;32m    569\u001b[0m     \u001b[0mmask\u001b[0m \u001b[0;34m=\u001b[0m \u001b[0mnp\u001b[0m\u001b[0;34m.\u001b[0m\u001b[0mwhere\u001b[0m\u001b[0;34m(\u001b[0m\u001b[0mmask\u001b[0m \u001b[0;34m>=\u001b[0m \u001b[0mthreshold\u001b[0m\u001b[0;34m,\u001b[0m \u001b[0;36m1\u001b[0m\u001b[0;34m,\u001b[0m \u001b[0;36m0\u001b[0m\u001b[0;34m)\u001b[0m\u001b[0;34m.\u001b[0m\u001b[0mastype\u001b[0m\u001b[0;34m(\u001b[0m\u001b[0mnp\u001b[0m\u001b[0;34m.\u001b[0m\u001b[0mbool\u001b[0m\u001b[0;34m)\u001b[0m\u001b[0;34m\u001b[0m\u001b[0m\n\u001b[1;32m    570\u001b[0m \u001b[0;34m\u001b[0m\u001b[0m\n",
      "\u001b[0;32m/data/krf/anaconda/anaconda3/lib/python3.5/site-packages/mask_rcnn-2.1-py3.5.egg/mrcnn/utils.py\u001b[0m in \u001b[0;36mresize\u001b[0;34m(image, output_shape, order, mode, cval, clip, preserve_range, anti_aliasing, anti_aliasing_sigma)\u001b[0m\n\u001b[1;32m    904\u001b[0m             \u001b[0mimage\u001b[0m\u001b[0;34m,\u001b[0m \u001b[0moutput_shape\u001b[0m\u001b[0;34m,\u001b[0m\u001b[0;34m\u001b[0m\u001b[0m\n\u001b[1;32m    905\u001b[0m             \u001b[0morder\u001b[0m\u001b[0;34m=\u001b[0m\u001b[0morder\u001b[0m\u001b[0;34m,\u001b[0m \u001b[0mmode\u001b[0m\u001b[0;34m=\u001b[0m\u001b[0mmode\u001b[0m\u001b[0;34m,\u001b[0m \u001b[0mcval\u001b[0m\u001b[0;34m=\u001b[0m\u001b[0mcval\u001b[0m\u001b[0;34m,\u001b[0m \u001b[0mclip\u001b[0m\u001b[0;34m=\u001b[0m\u001b[0mclip\u001b[0m\u001b[0;34m,\u001b[0m\u001b[0;34m\u001b[0m\u001b[0m\n\u001b[0;32m--> 906\u001b[0;31m             preserve_range=preserve_range)\n\u001b[0m",
      "\u001b[0;32m/data/krf/anaconda/anaconda3/lib/python3.5/site-packages/skimage/transform/_warps.py\u001b[0m in \u001b[0;36mresize\u001b[0;34m(image, output_shape, order, mode, cval, clip, preserve_range)\u001b[0m\n\u001b[1;32m    113\u001b[0m \u001b[0;34m\u001b[0m\u001b[0m\n\u001b[1;32m    114\u001b[0m             \u001b[0mtform\u001b[0m \u001b[0;34m=\u001b[0m \u001b[0mAffineTransform\u001b[0m\u001b[0;34m(\u001b[0m\u001b[0;34m)\u001b[0m\u001b[0;34m\u001b[0m\u001b[0m\n\u001b[0;32m--> 115\u001b[0;31m             \u001b[0mtform\u001b[0m\u001b[0;34m.\u001b[0m\u001b[0mestimate\u001b[0m\u001b[0;34m(\u001b[0m\u001b[0msrc_corners\u001b[0m\u001b[0;34m,\u001b[0m \u001b[0mdst_corners\u001b[0m\u001b[0;34m)\u001b[0m\u001b[0;34m\u001b[0m\u001b[0m\n\u001b[0m\u001b[1;32m    116\u001b[0m \u001b[0;34m\u001b[0m\u001b[0m\n\u001b[1;32m    117\u001b[0m         out = warp(image, tform, output_shape=output_shape, order=order,\n",
      "\u001b[0;32m/data/krf/anaconda/anaconda3/lib/python3.5/site-packages/skimage/transform/_geometric.py\u001b[0m in \u001b[0;36mestimate\u001b[0;34m(self, src, dst)\u001b[0m\n\u001b[1;32m    316\u001b[0m \u001b[0;34m\u001b[0m\u001b[0m\n\u001b[1;32m    317\u001b[0m         \u001b[0;31m# De-center and de-normalize\u001b[0m\u001b[0;34m\u001b[0m\u001b[0;34m\u001b[0m\u001b[0m\n\u001b[0;32m--> 318\u001b[0;31m         \u001b[0mH\u001b[0m \u001b[0;34m=\u001b[0m \u001b[0mnp\u001b[0m\u001b[0;34m.\u001b[0m\u001b[0mdot\u001b[0m\u001b[0;34m(\u001b[0m\u001b[0mnp\u001b[0m\u001b[0;34m.\u001b[0m\u001b[0mlinalg\u001b[0m\u001b[0;34m.\u001b[0m\u001b[0minv\u001b[0m\u001b[0;34m(\u001b[0m\u001b[0mdst_matrix\u001b[0m\u001b[0;34m)\u001b[0m\u001b[0;34m,\u001b[0m \u001b[0mnp\u001b[0m\u001b[0;34m.\u001b[0m\u001b[0mdot\u001b[0m\u001b[0;34m(\u001b[0m\u001b[0mH\u001b[0m\u001b[0;34m,\u001b[0m \u001b[0msrc_matrix\u001b[0m\u001b[0;34m)\u001b[0m\u001b[0;34m)\u001b[0m\u001b[0;34m\u001b[0m\u001b[0m\n\u001b[0m\u001b[1;32m    319\u001b[0m \u001b[0;34m\u001b[0m\u001b[0m\n\u001b[1;32m    320\u001b[0m         \u001b[0mself\u001b[0m\u001b[0;34m.\u001b[0m\u001b[0mparams\u001b[0m \u001b[0;34m=\u001b[0m \u001b[0mH\u001b[0m\u001b[0;34m\u001b[0m\u001b[0m\n",
      "\u001b[0;32m/data/krf/anaconda/anaconda3/lib/python3.5/site-packages/numpy/linalg/linalg.py\u001b[0m in \u001b[0;36minv\u001b[0;34m(a)\u001b[0m\n\u001b[1;32m    530\u001b[0m     \u001b[0msignature\u001b[0m \u001b[0;34m=\u001b[0m \u001b[0;34m'D->D'\u001b[0m \u001b[0;32mif\u001b[0m \u001b[0misComplexType\u001b[0m\u001b[0;34m(\u001b[0m\u001b[0mt\u001b[0m\u001b[0;34m)\u001b[0m \u001b[0;32melse\u001b[0m \u001b[0;34m'd->d'\u001b[0m\u001b[0;34m\u001b[0m\u001b[0m\n\u001b[1;32m    531\u001b[0m     \u001b[0mextobj\u001b[0m \u001b[0;34m=\u001b[0m \u001b[0mget_linalg_error_extobj\u001b[0m\u001b[0;34m(\u001b[0m\u001b[0m_raise_linalgerror_singular\u001b[0m\u001b[0;34m)\u001b[0m\u001b[0;34m\u001b[0m\u001b[0m\n\u001b[0;32m--> 532\u001b[0;31m     \u001b[0mainv\u001b[0m \u001b[0;34m=\u001b[0m \u001b[0m_umath_linalg\u001b[0m\u001b[0;34m.\u001b[0m\u001b[0minv\u001b[0m\u001b[0;34m(\u001b[0m\u001b[0ma\u001b[0m\u001b[0;34m,\u001b[0m \u001b[0msignature\u001b[0m\u001b[0;34m=\u001b[0m\u001b[0msignature\u001b[0m\u001b[0;34m,\u001b[0m \u001b[0mextobj\u001b[0m\u001b[0;34m=\u001b[0m\u001b[0mextobj\u001b[0m\u001b[0;34m)\u001b[0m\u001b[0;34m\u001b[0m\u001b[0m\n\u001b[0m\u001b[1;32m    533\u001b[0m     \u001b[0;32mreturn\u001b[0m \u001b[0mwrap\u001b[0m\u001b[0;34m(\u001b[0m\u001b[0mainv\u001b[0m\u001b[0;34m.\u001b[0m\u001b[0mastype\u001b[0m\u001b[0;34m(\u001b[0m\u001b[0mresult_t\u001b[0m\u001b[0;34m,\u001b[0m \u001b[0mcopy\u001b[0m\u001b[0;34m=\u001b[0m\u001b[0;32mFalse\u001b[0m\u001b[0;34m)\u001b[0m\u001b[0;34m)\u001b[0m\u001b[0;34m\u001b[0m\u001b[0m\n\u001b[1;32m    534\u001b[0m \u001b[0;34m\u001b[0m\u001b[0m\n",
      "\u001b[0;31mKeyboardInterrupt\u001b[0m: "
     ]
    }
   ],
   "source": [
    "#segmented before detection\n",
    "def evaluate(dataset_eval):\n",
    "    summ = 0.0\n",
    "    # assume square image  \n",
    "    resize_factor = ORIG_SIZE / config.IMAGE_SHAPE[0]\n",
    "    #resize_factor = ORIG_SIZE\n",
    "    for image_id in tqdm(dataset_eval.image_ids):\n",
    "        original_image, image_meta, gt_class_id, gt_bbox, gt_mask =\\\n",
    "                modellib.load_image_gt(dataset_eval, inference_config, \n",
    "                                       image_id, use_mini_mask=False)\n",
    "        pid = os.path.splitext(os.path.basename(dataset_eval.image_reference(image_id)))[0]\n",
    "        image = cv2.imread(os.path.join(train_seg_dir,pid+\".png\"))\n",
    "        # If grayscale. Convert to RGB for consistency.\n",
    "        if len(image.shape) != 3 or image.shape[2] != 3:\n",
    "            image = np.stack((image,) * 3, -1)\n",
    "        image, window, scale, padding, crop = utils.resize_image(\n",
    "            image,\n",
    "            min_dim=config.IMAGE_MIN_DIM,\n",
    "            min_scale=config.IMAGE_MIN_SCALE,\n",
    "            max_dim=config.IMAGE_MAX_DIM,\n",
    "            mode=config.IMAGE_RESIZE_MODE)\n",
    "        print(image.shape)\n",
    "        results = model.detect([image])\n",
    "        r = results[0] \n",
    "        print(\"pred:\",r['rois']*4)\n",
    "        print(\"true:\",gt_bbox)\n",
    "        summ += map_iou(gt_bbox,r['rois']*4,r['scores'])\n",
    "\n",
    "    return summ/len(dataset_eval.image_ids)\n",
    "\n",
    "print(evaluate(dataset_val))"
   ]
  },
  {
   "cell_type": "code",
   "execution_count": null,
   "metadata": {},
   "outputs": [],
   "source": [
    "10/23\n",
    "0.1565555555555555 without classification or segmentation, score_filter = 0.9, best_epoch = 40\n",
    "0.11745000000000003 without classification or segmentation, score_filter = 0.95, best_epoch = 40\n",
    "0.11778333333333336 without classification or segmentation, score_filter = 0.8, best_epoch = 40\n",
    "0.12763333333333327 without classification or segmentation, score_filter = 0.9, last_epoch = 60\n",
    "0.12122499999999999 without classification or segmentation or score_filter,best_epoch\n",
    "\n",
    "0.06400555555555557 classified and score_filter = 0.9, classifer_acc ~= 84% resnet18\n",
    "\n",
    "0.1509583333333333 without classification or segmentation, score_filter = 0.9, best_epoch = 41 LB=0.115\n",
    "0.13940416666666663 without classification or segmentation, score_filter = 0.95, best_epoch = 41 LB = 0.130\n",
    "0.1426791666666667 without classification or segmentation, score_filter = 0.78, best_epoch = 41\n",
    "0.14633194444444442 without classification or segmentation, score_filter = 0.85, best_epoch = 41\n",
    "0.07050555555555554 classified and score_filter = 0.85, classifer_acc ~= 84% resnet50 (Wrong Direction)\n",
    "\n",
    "10/24\n",
    "0.12047916666666661 new_kernel epoch=39 min val_bbox_loss LB=0.131\n",
    "0.11236111111111112 new_kernel epoch=26 best_epoch min_conf=0.95 LB=0.136 \n",
    "0.12035416666666666 0.13278472222222218 new_kernel epoch=26 best_epoch min_conf=0.9 LB=0.099\n",
    "0.08344444444444446 0.08747222222222222 new_kernel epoch=50 last_epoch \n",
    "0.08216666666666671 0.07236805555555556 new_kernel epoch=16 second best_epoch\n",
    "0.10560416666666671 0.11122916666666663 new_kernel epoch=42 min train_loss LB=0.095\n",
    "0.12185694444444442 0.11411111111111112 new_kernel epoch=43 LB=0.111"
   ]
  },
  {
   "cell_type": "code",
   "execution_count": null,
   "metadata": {},
   "outputs": [
    {
     "name": "stdout",
     "output_type": "stream",
     "text": [
      "\n",
      "Configurations:\n",
      "BACKBONE                       resnet50\n",
      "BACKBONE_STRIDES               [4, 8, 16, 32, 64]\n",
      "BATCH_SIZE                     2\n",
      "BBOX_STD_DEV                   [0.1 0.1 0.2 0.2]\n",
      "COMPUTE_BACKBONE_SHAPE         None\n",
      "DETECTION_MAX_INSTANCES        3\n",
      "DETECTION_MIN_CONFIDENCE       0.78\n",
      "DETECTION_NMS_THRESHOLD        0.1\n",
      "FPN_CLASSIF_FC_LAYERS_SIZE     1024\n",
      "GPU_COUNT                      1\n",
      "GRADIENT_CLIP_NORM             5.0\n",
      "IMAGES_PER_GPU                 2\n",
      "IMAGE_CHANNEL_COUNT            3\n",
      "IMAGE_MAX_DIM                  512\n",
      "IMAGE_META_SIZE                14\n",
      "IMAGE_MIN_DIM                  512\n",
      "IMAGE_MIN_SCALE                0\n",
      "IMAGE_RESIZE_MODE              square\n",
      "IMAGE_SHAPE                    [512 512   3]\n",
      "LEARNING_MOMENTUM              0.9\n",
      "LEARNING_RATE                  0.001\n",
      "LOSS_WEIGHTS                   {'rpn_bbox_loss': 1.0, 'mrcnn_mask_loss': 1.0, 'rpn_class_loss': 1.0, 'mrcnn_bbox_loss': 1.0, 'mrcnn_class_loss': 1.0}\n",
      "MASK_POOL_SIZE                 14\n",
      "MASK_SHAPE                     [28, 28]\n",
      "MAX_GT_INSTANCES               5\n",
      "MEAN_PIXEL                     [123.7 116.8 103.9]\n",
      "MINI_MASK_SHAPE                (56, 56)\n",
      "NAME                           pneumonia\n",
      "NUM_CLASSES                    2\n",
      "POOL_SIZE                      7\n",
      "POST_NMS_ROIS_INFERENCE        1000\n",
      "POST_NMS_ROIS_TRAINING         2000\n",
      "PRE_NMS_LIMIT                  6000\n",
      "ROI_POSITIVE_RATIO             0.33\n",
      "RPN_ANCHOR_RATIOS              [0.5, 1, 2]\n",
      "RPN_ANCHOR_SCALES              (32, 64, 128, 256)\n",
      "RPN_ANCHOR_STRIDE              1\n",
      "RPN_BBOX_STD_DEV               [0.1 0.1 0.2 0.2]\n",
      "RPN_NMS_THRESHOLD              0.7\n",
      "RPN_TRAIN_ANCHORS_PER_IMAGE    256\n",
      "STEPS_PER_EPOCH                1024\n",
      "TOP_DOWN_PYRAMID_SIZE          256\n",
      "TRAIN_BN                       False\n",
      "TRAIN_ROIS_PER_IMAGE           32\n",
      "USE_MINI_MASK                  True\n",
      "USE_RPN_ROIS                   True\n",
      "VALIDATION_STEPS               50\n",
      "WEIGHT_DECAY                   0.0001\n",
      "\n",
      "\n",
      "24184 1500\n",
      "(1024, 1024, 3)\n",
      "/data/krf/dataset/stage_1_train_images/bd5c5bfb-67de-4696-b4a9-c50ba34f0fbc.dcm\n",
      "[1 1]\n",
      "['mask_rcnn_pneumonia_0031.h5', 'mask_rcnn_pneumonia_0032.h5', 'mask_rcnn_pneumonia_0033.h5', 'mask_rcnn_pneumonia_0034.h5', 'mask_rcnn_pneumonia_0035.h5', 'mask_rcnn_pneumonia_0036.h5', 'mask_rcnn_pneumonia_0037.h5', 'mask_rcnn_pneumonia_0038.h5', 'mask_rcnn_pneumonia_0039.h5', 'mask_rcnn_pneumonia_0040.h5', 'mask_rcnn_pneumonia_0041.h5', 'mask_rcnn_pneumonia_0042.h5', 'mask_rcnn_pneumonia_0043.h5', 'mask_rcnn_pneumonia_0044.h5', 'mask_rcnn_pneumonia_0045.h5', 'mask_rcnn_pneumonia_0046.h5', 'mask_rcnn_pneumonia_0047.h5', 'mask_rcnn_pneumonia_0048.h5', 'mask_rcnn_pneumonia_0049.h5', 'mask_rcnn_pneumonia_0050.h5', 'mask_rcnn_pneumonia_0051.h5', 'mask_rcnn_pneumonia_0052.h5', 'mask_rcnn_pneumonia_0053.h5', 'mask_rcnn_pneumonia_0054.h5', 'mask_rcnn_pneumonia_0055.h5', 'mask_rcnn_pneumonia_0056.h5', 'mask_rcnn_pneumonia_0057.h5', 'mask_rcnn_pneumonia_0058.h5', 'mask_rcnn_pneumonia_0059.h5', 'mask_rcnn_pneumonia_0060.h5']\n",
      "Found model /data/krf/model/rsna/pneumonia20181013T1301/mask_rcnn_pneumonia_0041.h5\n",
      "Loading weights from  /data/krf/model/rsna/pneumonia20181013T1301/mask_rcnn_pneumonia_0041.h5\n",
      "Re-starting from epoch 41\n",
      "(512, 512, 3)\n",
      "\n",
      "*** No instances to display *** \n",
      "\n",
      "(512, 512, 3)\n",
      "\n",
      "*** No instances to display *** \n",
      "\n",
      "(512, 512, 3)\n",
      "\n",
      "*** No instances to display *** \n",
      "\n",
      "(512, 512, 3)\n",
      "\n",
      "*** No instances to display *** \n",
      "\n",
      "(512, 512, 3)\n",
      "\n",
      "*** No instances to display *** \n",
      "\n",
      "(512, 512, 3)\n",
      "\n",
      "*** No instances to display *** \n",
      "\n"
     ]
    },
    {
     "name": "stderr",
     "output_type": "stream",
     "text": [
      " 86%|████████▌ | 855/1000 [05:30<00:56,  2.57it/s]"
     ]
    }
   ],
   "source": [
    "# %load test_kernel.py\n",
    "\n",
    "import os \n",
    "import sys\n",
    "import random\n",
    "import math\n",
    "import numpy as np\n",
    "import cv2\n",
    "import matplotlib.pyplot as plt\n",
    "import json\n",
    "import pydicom\n",
    "from imgaug import augmenters as iaa\n",
    "from tqdm import tqdm\n",
    "import pandas as pd \n",
    "import glob\n",
    "#from sklearn.model_selection import KFold\n",
    "import tensorflow as tf\n",
    "from keras.backend.tensorflow_backend import set_session\n",
    "config = tf.ConfigProto()\n",
    "config.gpu_options.per_process_gpu_memory_fraction = 0.5\n",
    "set_session(tf.Session(config=config))\n",
    "\n",
    "#os.environ['CUDA_VISIBLE_DEVICES']=\"0,1\"\n",
    "\n",
    "#DATA_DIR = '/kaggle/input'\n",
    "DATA_DIR = '/data/krf/dataset'\n",
    "# Directory to save logs and trained model\n",
    "#ROOT_DIR = '/kaggle/working'\n",
    "ROOT_DIR = '/data/krf/model/rsna'\n",
    "\n",
    "# Import Mask RCNN\n",
    "sys.path.append(os.path.join(ROOT_DIR, 'Mask_RCNN'))  # To find local version of the library\n",
    "from mrcnn.config import Config\n",
    "from mrcnn import utils\n",
    "import mrcnn.model as modellib\n",
    "from mrcnn import visualize\n",
    "from mrcnn.model import log\n",
    "\n",
    "train_dicom_dir = os.path.join(DATA_DIR, 'stage_1_train_images')\n",
    "test_dicom_dir = os.path.join(DATA_DIR, 'stage_1_test_images')\n",
    "\n",
    "COCO_WEIGHTS_PATH = \"mask_rcnn_coco.h5\"\n",
    "\n",
    "def get_dicom_fps(dicom_dir):\n",
    "    dicom_fps = glob.glob(dicom_dir+'/'+'*.dcm')\n",
    "    return list(set(dicom_fps))\n",
    "\n",
    "def parse_dataset(dicom_dir, anns): \n",
    "    image_fps = get_dicom_fps(dicom_dir)\n",
    "    image_annotations = {fp: [] for fp in image_fps}\n",
    "    for index, row in anns.iterrows(): \n",
    "        fp = os.path.join(dicom_dir, row['patientId']+'.dcm')\n",
    "        image_annotations[fp].append(row)\n",
    "    return image_fps, image_annotations \n",
    "\n",
    "\n",
    "\n",
    "# The following parameters have been selected to reduce running time for demonstration purposes \n",
    "# These are not optimal \n",
    "\n",
    "class DetectorConfig(Config):\n",
    "    \"\"\"Configuration for training pneumonia detection on the RSNA pneumonia dataset.\n",
    "    Overrides values in the base Config class.\n",
    "    \"\"\"\n",
    "    \n",
    "    # Give the configuration a recognizable name  \n",
    "    NAME = 'pneumonia'\n",
    "    \n",
    "    # Train on 1 GPU and 8 images per GPU. We can put multiple images on each\n",
    "    # GPU because the images are small. Batch size is 8 (GPUs * images/GPU).\n",
    "    GPU_COUNT = 1\n",
    "    IMAGES_PER_GPU = 2\n",
    "    \n",
    "    BACKBONE = 'resnet50'\n",
    "    \n",
    "    NUM_CLASSES = 2  # background + 1 pneumonia classes\n",
    "    \n",
    "    IMAGE_MIN_DIM = 512\n",
    "    IMAGE_MAX_DIM = 512\n",
    "    RPN_ANCHOR_SCALES = ( 32, 64, 128,256)\n",
    "    TRAIN_ROIS_PER_IMAGE = 32\n",
    "    MAX_GT_INSTANCES = 5\n",
    "    DETECTION_MAX_INSTANCES = 3\n",
    "    DETECTION_MIN_CONFIDENCE = 0.78#0.4  ## match target distribution\n",
    "    DETECTION_NMS_THRESHOLD = 0.1\n",
    "\n",
    "    STEPS_PER_EPOCH = 1024\n",
    "\n",
    "config = DetectorConfig()\n",
    "config.display()\n",
    "\n",
    "class DetectorDataset(utils.Dataset):\n",
    "    \"\"\"Dataset class for training pneumonia detection on the RSNA pneumonia dataset.\n",
    "    \"\"\"\n",
    "\n",
    "    def __init__(self, image_fps, image_annotations, orig_height, orig_width):\n",
    "        super().__init__(self)\n",
    "        \n",
    "        # Add classes\n",
    "        self.add_class('pneumonia', 1, 'Lung Opacity')\n",
    "        \n",
    "        # add images \n",
    "        for i, fp in enumerate(image_fps):\n",
    "            annotations = image_annotations[fp]\n",
    "            self.add_image('pneumonia', image_id=i, path=fp, \n",
    "                           annotations=annotations, orig_height=orig_height, orig_width=orig_width)\n",
    "            \n",
    "    def image_reference(self, image_id):\n",
    "        info = self.image_info[image_id]\n",
    "        return info['path']\n",
    "\n",
    "    def load_image(self, image_id):\n",
    "        info = self.image_info[image_id]\n",
    "        fp = info['path']\n",
    "        ds = pydicom.read_file(fp)\n",
    "        image = ds.pixel_array\n",
    "        # If grayscale. Convert to RGB for consistency.\n",
    "        if len(image.shape) != 3 or image.shape[2] != 3:\n",
    "            image = np.stack((image,) * 3, -1)\n",
    "        return image\n",
    "\n",
    "    def load_mask(self, image_id):\n",
    "        info = self.image_info[image_id]\n",
    "        annotations = info['annotations']\n",
    "        count = len(annotations)\n",
    "        if count == 0:\n",
    "            mask = np.zeros((info['orig_height'], info['orig_width'], 1), dtype=np.uint8)\n",
    "            class_ids = np.zeros((1,), dtype=np.int32)\n",
    "        else:\n",
    "            mask = np.zeros((info['orig_height'], info['orig_width'], count), dtype=np.uint8)\n",
    "            class_ids = np.zeros((count,), dtype=np.int32)\n",
    "            for i, a in enumerate(annotations):\n",
    "                if a['Target'] == 1:\n",
    "                    x = int(a['x'])\n",
    "                    y = int(a['y'])\n",
    "                    w = int(a['width'])\n",
    "                    h = int(a['height'])\n",
    "                    mask_instance = mask[:, :, i].copy()\n",
    "                    cv2.rectangle(mask_instance, (x, y), (x+w, y+h), 255, -1)\n",
    "                    mask[:, :, i] = mask_instance\n",
    "                    class_ids[i] = 1\n",
    "        return mask.astype(np.bool), class_ids.astype(np.int32)\n",
    "\n",
    "# training dataset\n",
    "anns = pd.read_csv(os.path.join(DATA_DIR, 'stage_1_train_labels.csv'))\n",
    "anns.head()\n",
    "\n",
    "\n",
    "image_fps, image_annotations = parse_dataset(train_dicom_dir, anns=anns)\n",
    "\n",
    "ds = pydicom.read_file(image_fps[0]) # read dicom image from filepath \n",
    "image = ds.pixel_array # get image array\n",
    "\n",
    "# Original DICOM image size: 1024 x 1024\n",
    "ORIG_SIZE = 1024\n",
    "\n",
    "image_fps_list = list(image_fps)\n",
    "random.seed(42)\n",
    "random.shuffle(image_fps_list)\n",
    "val_size = 1500\n",
    "image_fps_val = image_fps_list[:val_size]\n",
    "image_fps_train = image_fps_list[val_size:]\n",
    "\n",
    "print(len(image_fps_train), len(image_fps_val))\n",
    "# print(image_fps_val[:6])\n",
    "\n",
    "# prepare the training dataset\n",
    "dataset_train = DetectorDataset(image_fps_train, image_annotations, ORIG_SIZE, ORIG_SIZE)\n",
    "dataset_train.prepare()\n",
    "\n",
    "# Show annotation(s) for a DICOM image \n",
    "test_fp = random.choice(image_fps_train)\n",
    "image_annotations[test_fp]\n",
    "\n",
    "# prepare the validation dataset\n",
    "dataset_val = DetectorDataset(image_fps_val, image_annotations, ORIG_SIZE, ORIG_SIZE)\n",
    "dataset_val.prepare()\n",
    "\n",
    "\n",
    "# Load and display random sample and their bounding boxes\n",
    "\n",
    "class_ids = [0]\n",
    "while class_ids[0] == 0:  ## look for a mask\n",
    "    image_id = random.choice(dataset_train.image_ids)\n",
    "    image_fp = dataset_train.image_reference(image_id)\n",
    "    image = dataset_train.load_image(image_id)\n",
    "    mask, class_ids = dataset_train.load_mask(image_id)\n",
    "\n",
    "print(image.shape)\n",
    "\n",
    "plt.figure(figsize=(10, 10))\n",
    "plt.subplot(1, 2, 1)\n",
    "plt.imshow(image)\n",
    "plt.axis('off')\n",
    "\n",
    "plt.subplot(1, 2, 2)\n",
    "masked = np.zeros(image.shape[:2])\n",
    "for i in range(mask.shape[2]):\n",
    "    masked += image[:, :, 0] * mask[:, :, i]\n",
    "plt.imshow(masked, cmap='gray')\n",
    "plt.axis('off')\n",
    "\n",
    "print(image_fp)\n",
    "print(class_ids)\n",
    "\n",
    "# Image augmentation (light but constant)\n",
    "augmentation = iaa.Sequential([\n",
    "    iaa.OneOf([ ## geometric transform\n",
    "        iaa.Affine(\n",
    "            scale={\"x\": (0.98, 1.02), \"y\": (0.98, 1.04)},\n",
    "            translate_percent={\"x\": (-0.02, 0.02), \"y\": (-0.04, 0.04)},\n",
    "            rotate=(-2, 2),\n",
    "            shear=(-1, 1),\n",
    "        ),\n",
    "        iaa.PiecewiseAffine(scale=(0.001, 0.025)),\n",
    "    ]),\n",
    "    iaa.OneOf([ ## brightness or contrast\n",
    "        iaa.Multiply((0.9, 1.1)),\n",
    "        iaa.ContrastNormalization((0.9, 1.1)),\n",
    "    ]),\n",
    "    iaa.OneOf([ ## blur or sharpen\n",
    "        iaa.GaussianBlur(sigma=(0.0, 0.1)),\n",
    "        iaa.Sharpen(alpha=(0.0, 0.1)),\n",
    "    ]),\n",
    "])\n",
    "\n",
    "# test on the same image as above\n",
    "imggrid = augmentation.draw_grid(image[:, :, 0], cols=5, rows=2)\n",
    "plt.figure(figsize=(30, 12))\n",
    "_ = plt.imshow(imggrid[:, :, 0], cmap='gray')\n",
    "\n",
    "\n",
    "model = modellib.MaskRCNN(mode='training', config=config, model_dir=ROOT_DIR)\n",
    "\n",
    "# # Exclude the last layers because they require a matching\n",
    "# # number of classes\n",
    "# model.load_weights(COCO_WEIGHTS_PATH, by_name=True, exclude=[\n",
    "#     \"mrcnn_class_logits\", \"mrcnn_bbox_fc\",\n",
    "#     \"mrcnn_bbox\", \"mrcnn_mask\"])\n",
    "\n",
    "\n",
    "\n",
    "# LEARNING_RATE = 0.002\n",
    "\n",
    "# # Train Mask-RCNN Model \n",
    "# import warnings \n",
    "# warnings.filterwarnings(\"ignore\")\n",
    "\n",
    "\n",
    "# ## train heads with higher lr to speedup the learning\n",
    "# model.train(dataset_train, dataset_val,\n",
    "#             learning_rate=LEARNING_RATE*2,\n",
    "#             epochs=2,\n",
    "#             layers='heads',\n",
    "#             augmentation=None)  ## no need to augment yet\n",
    "\n",
    "# history = model.keras_model.history.history\n",
    "\n",
    "\n",
    "# model.train(dataset_train, dataset_val,\n",
    "#             learning_rate=LEARNING_RATE,\n",
    "#             epochs=6,\n",
    "#             layers='all',\n",
    "#             augmentation=augmentation)\n",
    "\n",
    "# new_history = model.keras_model.history.history\n",
    "# for k in new_history: history[k] = history[k] + new_history[k]\n",
    "\n",
    "\n",
    "# model.train(dataset_train, dataset_val,\n",
    "#             learning_rate=LEARNING_RATE/5,\n",
    "#             epochs=20,\n",
    "#             layers='all',\n",
    "#             augmentation=augmentation)\n",
    "\n",
    "# new_history = model.keras_model.history.history\n",
    "# for k in new_history: history[k] = history[k] + new_history[k]\n",
    "\n",
    "# model.train(dataset_train, dataset_val,\n",
    "#             learning_rate = 0.0001,\n",
    "#             epochs=40,\n",
    "#             layers='all',\n",
    "#             augmentation=augmentation)\n",
    "# new_history = model.keras_model.history.history\n",
    "# for k in new_history: history[k] = history[k] + new_history[k]\n",
    "\n",
    "# model.train(dataset_train, dataset_val,\n",
    "#             learning_rate = 0.00001,\n",
    "#             epochs=60,\n",
    "#             layers='all',\n",
    "#             augmentation=augmentation)\n",
    "# new_history = model.keras_model.history.history\n",
    "# for k in new_history: history[k] = history[k] + new_history[k]\n",
    "\n",
    "# epochs = range(1,len(next(iter(history.values())))+1)\n",
    "# pd.DataFrame(history, index=epochs)\n",
    "\n",
    "\n",
    "# plt.figure(figsize=(17,5))\n",
    "\n",
    "# plt.subplot(131)\n",
    "# plt.plot(epochs, history[\"loss\"], label=\"Train loss\")\n",
    "# plt.plot(epochs, history[\"val_loss\"], label=\"Valid loss\")\n",
    "# plt.legend()\n",
    "# plt.subplot(132)\n",
    "# plt.plot(epochs, history[\"mrcnn_class_loss\"], label=\"Train class ce\")\n",
    "# plt.plot(epochs, history[\"val_mrcnn_class_loss\"], label=\"Valid class ce\")\n",
    "# plt.legend()\n",
    "# plt.subplot(133)\n",
    "# plt.plot(epochs, history[\"mrcnn_bbox_loss\"], label=\"Train box loss\")\n",
    "# plt.plot(epochs, history[\"val_mrcnn_bbox_loss\"], label=\"Valid box loss\")\n",
    "# plt.legend()\n",
    "\n",
    "# plt.show()\n",
    "# plt.savefig(ROOT_DIR+\"/log.png\")\n",
    "\n",
    "# best_epoch = np.argmin(history[\"val_loss\"])\n",
    "# print(\"Best Epoch:\", best_epoch + 1)\n",
    "\n",
    "best_epoch = 41-31\n",
    "## select trained model \n",
    "dir_names = next(os.walk(model.model_dir))[1]\n",
    "key = config.NAME.lower()\n",
    "dir_names = filter(lambda f: f.startswith(key), dir_names)\n",
    "dir_names = sorted(dir_names)\n",
    "\n",
    "if not dir_names:\n",
    "    import errno\n",
    "    raise FileNotFoundError(\n",
    "        errno.ENOENT,\n",
    "        \"Could not find model directory under {}\".format(self.model_dir))\n",
    "    \n",
    "fps = []\n",
    "# Pick last directory\n",
    "#for d in dir_names: \n",
    "d = dir_names[3]    \n",
    "dir_name = os.path.join(model.model_dir, d)\n",
    "# Find the last checkpoint\n",
    "checkpoints = next(os.walk(dir_name))[2]\n",
    "#print(checkpoints)\n",
    "checkpoints = filter(lambda f: f.startswith(\"mask_rcnn\"), checkpoints)\n",
    "checkpoints = sorted(checkpoints)\n",
    "if not checkpoints:\n",
    "    print('No weight files in {}'.format(dir_name))\n",
    "else:\n",
    "    print(checkpoints)\n",
    "    checkpoint = os.path.join(dir_name, checkpoints[best_epoch])\n",
    "    fps.append(checkpoint)\n",
    "\n",
    "model_path = sorted(fps)[-1]\n",
    "print('Found model {}'.format(model_path))\n",
    "\n",
    "\n",
    "class InferenceConfig(DetectorConfig):\n",
    "    GPU_COUNT = 1\n",
    "    IMAGES_PER_GPU = 1\n",
    "\n",
    "inference_config = InferenceConfig()\n",
    "\n",
    "# Recreate the model in inference mode\n",
    "model = modellib.MaskRCNN(mode='inference', \n",
    "                          config=inference_config,\n",
    "                          model_dir=ROOT_DIR)\n",
    "\n",
    "# Load trained weights (fill in path to trained weights here)\n",
    "assert model_path != \"\", \"Provide path to trained weights\"\n",
    "print(\"Loading weights from \", model_path)\n",
    "model.load_weights(model_path, by_name=True)\n",
    "\n",
    "\n",
    "# set color for class\n",
    "def get_colors_for_class_ids(class_ids):\n",
    "    colors = []\n",
    "    for class_id in class_ids:\n",
    "        if class_id == 1:\n",
    "            colors.append((.941, .204, .204))\n",
    "    return colors\n",
    "\n",
    "\n",
    "# Show few example of ground truth vs. predictions on the validation dataset \n",
    "dataset = dataset_val\n",
    "fig = plt.figure(figsize=(10, 30))\n",
    "\n",
    "for i in range(6):\n",
    "\n",
    "    image_id = random.choice(dataset.image_ids)\n",
    "    \n",
    "    original_image, image_meta, gt_class_id, gt_bbox, gt_mask =\\\n",
    "        modellib.load_image_gt(dataset_val, inference_config, \n",
    "                               image_id, use_mini_mask=False)\n",
    "    \n",
    "    print(original_image.shape)\n",
    "    plt.subplot(6, 2, 2*i + 1)\n",
    "    visualize.display_instances(original_image, gt_bbox, gt_mask, gt_class_id, \n",
    "                                dataset.class_names,\n",
    "                                colors=get_colors_for_class_ids(gt_class_id), ax=fig.axes[-1])\n",
    "    \n",
    "    plt.subplot(6, 2, 2*i + 2)\n",
    "    results = model.detect([original_image]) #, verbose=1)\n",
    "    r = results[0]\n",
    "    visualize.display_instances(original_image, r['rois'], r['masks'], r['class_ids'], \n",
    "                                dataset.class_names, r['scores'], \n",
    "                                colors=get_colors_for_class_ids(r['class_ids']), ax=fig.axes[-1])\n",
    "\n",
    "\n",
    "# Get filenames of test dataset DICOM images\n",
    "test_image_fps = get_dicom_fps(test_dicom_dir)\n",
    "\n",
    "\n",
    "# Make predictions on test images, write out sample submission\n",
    "def predict(image_fps, filepath='submission.csv', min_conf=0.9):\n",
    "    # assume square image\n",
    "    resize_factor = ORIG_SIZE / config.IMAGE_SHAPE[0]\n",
    "    #resize_factor = ORIG_SIZE\n",
    "    with open(filepath, 'w') as file:\n",
    "        file.write(\"patientId,PredictionString\\n\")\n",
    "\n",
    "        for image_id in tqdm(image_fps):\n",
    "            ds = pydicom.read_file(image_id)\n",
    "            image = ds.pixel_array\n",
    "            # If grayscale. Convert to RGB for consistency.\n",
    "            if len(image.shape) != 3 or image.shape[2] != 3:\n",
    "                image = np.stack((image,) * 3, -1)\n",
    "            image, window, scale, padding, crop = utils.resize_image(\n",
    "                image,\n",
    "                min_dim=config.IMAGE_MIN_DIM,\n",
    "                min_scale=config.IMAGE_MIN_SCALE,\n",
    "                max_dim=config.IMAGE_MAX_DIM,\n",
    "                mode=config.IMAGE_RESIZE_MODE)\n",
    "\n",
    "            patient_id = os.path.splitext(os.path.basename(image_id))[0]\n",
    "\n",
    "            results = model.detect([image])\n",
    "            r = results[0]\n",
    "\n",
    "            out_str = \"\"\n",
    "            out_str += patient_id\n",
    "            out_str += \",\"\n",
    "            assert( len(r['rois']) == len(r['class_ids']) == len(r['scores']) )\n",
    "            if len(r['rois']) == 0:\n",
    "                pass\n",
    "            else:\n",
    "                num_instances = len(r['rois'])\n",
    "\n",
    "                for i in range(num_instances):\n",
    "                    if r['scores'][i] > min_conf:\n",
    "                        out_str += ' '\n",
    "                        out_str += str(round(r['scores'][i], 2))\n",
    "                        out_str += ' '\n",
    "\n",
    "                        # x1, y1, width, height\n",
    "                        x1 = r['rois'][i][1]\n",
    "                        y1 = r['rois'][i][0]\n",
    "                        width = r['rois'][i][3] - x1\n",
    "                        height = r['rois'][i][2] - y1\n",
    "                        bboxes_str = \"{} {} {} {}\".format(x1*resize_factor, y1*resize_factor, \\\n",
    "                                                           width*resize_factor, height*resize_factor)\n",
    "                        out_str += bboxes_str\n",
    "\n",
    "            file.write(out_str+\"\\n\")\n",
    "\n",
    "submission_fp = os.path.join(ROOT_DIR, 'submission_1023.csv')\n",
    "predict(test_image_fps, filepath=submission_fp)\n",
    "print(submission_fp)\n",
    "\n",
    "output = pd.read_csv(submission_fp)\n",
    "output.head(60)\n",
    "\n",
    "\n",
    "# show a few test image detection example\n",
    "def visualize(): \n",
    "    image_id = random.choice(test_image_fps)\n",
    "    ds = pydicom.read_file(image_id)\n",
    "    \n",
    "    # original image \n",
    "    image = ds.pixel_array\n",
    "    \n",
    "    # assume square image \n",
    "    resize_factor = ORIG_SIZE / config.IMAGE_SHAPE[0]\n",
    "    \n",
    "    # If grayscale. Convert to RGB for consistency.\n",
    "    if len(image.shape) != 3 or image.shape[2] != 3:\n",
    "        image = np.stack((image,) * 3, -1) \n",
    "    resized_image, window, scale, padding, crop = utils.resize_image(\n",
    "        image,\n",
    "        min_dim=config.IMAGE_MIN_DIM,\n",
    "        min_scale=config.IMAGE_MIN_SCALE,\n",
    "        max_dim=config.IMAGE_MAX_DIM,\n",
    "        mode=config.IMAGE_RESIZE_MODE)\n",
    "\n",
    "    patient_id = os.path.splitext(os.path.basename(image_id))[0]\n",
    "    print(patient_id)\n",
    "\n",
    "    results = model.detect([resized_image])\n",
    "    r = results[0]\n",
    "    for bbox in r['rois']: \n",
    "        print(bbox)\n",
    "        x1 = int(bbox[1] * resize_factor)\n",
    "        y1 = int(bbox[0] * resize_factor)\n",
    "        x2 = int(bbox[3] * resize_factor)\n",
    "        y2 = int(bbox[2]  * resize_factor)\n",
    "        cv2.rectangle(image, (x1,y1), (x2,y2), (77, 255, 9), 3, 1)\n",
    "        width = x2 - x1 \n",
    "        height = y2 - y1 \n",
    "        print(\"x {} y {} h {} w {}\".format(x1, y1, width, height))\n",
    "    plt.figure() \n",
    "    plt.imshow(image, cmap=plt.cm.gist_gray)\n",
    "    plt.savefig(ROOT_DIR+\"/\"+patient_id+\".png\")\n",
    "visualize()\n",
    "visualize()\n",
    "visualize()\n",
    "visualize()\n"
   ]
  }
 ],
 "metadata": {
  "anaconda-cloud": {},
  "kernelspec": {
   "display_name": "Python [default]",
   "language": "python",
   "name": "python3"
  },
  "language_info": {
   "codemirror_mode": {
    "name": "ipython",
    "version": 3
   },
   "file_extension": ".py",
   "mimetype": "text/x-python",
   "name": "python",
   "nbconvert_exporter": "python",
   "pygments_lexer": "ipython3",
   "version": "3.5.6"
  }
 },
 "nbformat": 4,
 "nbformat_minor": 2
}
